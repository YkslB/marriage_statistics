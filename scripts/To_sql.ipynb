{
 "cells": [
  {
   "cell_type": "code",
   "execution_count": null,
   "id": "be2d54e3",
   "metadata": {},
   "outputs": [],
   "source": [
    "df_1.to_sql('world_marriage', engine, if_exists='replace', index=False)"
   ]
  },
  {
   "cell_type": "code",
   "execution_count": null,
   "id": "f1ea358f",
   "metadata": {},
   "outputs": [],
   "source": [
    "df_2.to_sql('age_at_marriage_women', engine, if_exists='replace', index=False)"
   ]
  },
  {
   "cell_type": "code",
   "execution_count": null,
   "id": "e51ad5af",
   "metadata": {},
   "outputs": [],
   "source": [
    "df_3.to_sql('married_rate_per_1000', engine, if_exists='replace', index=False)"
   ]
  },
  {
   "cell_type": "code",
   "execution_count": null,
   "id": "1c0aa954",
   "metadata": {},
   "outputs": [],
   "source": [
    "df_4.to_sql('marriage_rates_in_1990_vs_2020', engine, if_exists='replace', index=False)"
   ]
  },
  {
   "cell_type": "code",
   "execution_count": null,
   "id": "7fe2e2e9",
   "metadata": {},
   "outputs": [],
   "source": [
    "df_5.to_sql('share_of_births_outside_marriage', engine, if_exists='replace', index=False)"
   ]
  }
 ],
 "metadata": {
  "language_info": {
   "name": "python"
  }
 },
 "nbformat": 4,
 "nbformat_minor": 5
}
