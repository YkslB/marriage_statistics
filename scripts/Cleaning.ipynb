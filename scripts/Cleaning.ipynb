{
 "cells": [
  {
   "cell_type": "code",
   "execution_count": 212,
   "id": "8edbb5ae",
   "metadata": {},
   "outputs": [],
   "source": [
    "import pandas as pd\n",
    "from matplotlib import pyplot as plt\n",
    "import seaborn as sns\n",
    "import numpy as np\n",
    "from sqlalchemy import create_engine, types\n",
    "from sqlalchemy import text "
   ]
  },
  {
   "cell_type": "code",
   "execution_count": 213,
   "id": "13566b4a",
   "metadata": {},
   "outputs": [],
   "source": [
    "from dotenv import dotenv_values\n",
    "\n",
    "config = dotenv_values()\n",
    "\n",
    "# define variables for the login\n",
    "pg_user = config['POSTGRES_USER']  # align the key label with your .env file !\n",
    "pg_host = config['POSTGRES_HOST']\n",
    "pg_port = config['POSTGRES_PORT']\n",
    "pg_db = config['POSTGRES_DB']\n",
    "pg_schema = config['POSTGRES_SCHEMA']\n",
    "pg_pass = config['POSTGRES_PASS']"
   ]
  },
  {
   "cell_type": "code",
   "execution_count": 214,
   "id": "e7b75227",
   "metadata": {},
   "outputs": [],
   "source": [
    "url = f'postgresql://{pg_user}:{pg_pass}@{pg_host}:{pg_port}/{pg_db}'\n",
    "engine = create_engine(url, echo=False)"
   ]
  },
  {
   "cell_type": "code",
   "execution_count": 215,
   "id": "b54d720a",
   "metadata": {},
   "outputs": [],
   "source": [
    "my_schema = 'team_5' # update it to your schema\n",
    "\n",
    "with engine.begin() as conn: \n",
    "    result = conn.execute(text(f'SET search_path TO {my_schema};'))"
   ]
  },
  {
   "cell_type": "code",
   "execution_count": 216,
   "id": "ec990454",
   "metadata": {},
   "outputs": [],
   "source": [
    "df_1= pd.read_csv('../data/Raw/World_Marriage_Dataset.csv')"
   ]
  },
  {
   "cell_type": "code",
   "execution_count": 217,
   "id": "3aeb2463",
   "metadata": {},
   "outputs": [],
   "source": [
    "df_1.drop(columns=[\"Sr.No.\"], inplace=True)"
   ]
  },
  {
   "cell_type": "code",
   "execution_count": 218,
   "id": "3ecbef6c",
   "metadata": {},
   "outputs": [],
   "source": [
    "df_1.columns = df_1.columns.str.lower() \\\n",
    "    .str.replace(' ', '_') \\\n",
    "    .str.replace('(', '') \\\n",
    "    .str.replace(')', '') \\\n",
    "    .str.replace('[^0-9a-zA-Z_]', '', regex=True)"
   ]
  },
  {
   "cell_type": "code",
   "execution_count": 219,
   "id": "de0ed567",
   "metadata": {},
   "outputs": [],
   "source": [
    "df_1.rename(columns={\n",
    "    \"agegroup\": \"age_group\",\n",
    "    \"maritalstatus\": \"marital_status\",\n",
    "    \"dataprocess\": \"data_process\",\n",
    "    \"Data Collection (Start Year)\": \"data_collection_start_year\",\n",
    "    \"Data Collection (End Year)\": \"data_collection_end_year\",\n",
    "    \"Data Source\": \"data_source\",\n",
    "    \"Country\": \"country\",\n",
    "    \"Sex\": \"sex\"\n",
    "}, inplace=True)"
   ]
  },
  {
   "cell_type": "code",
   "execution_count": 220,
   "id": "7268fa4e",
   "metadata": {},
   "outputs": [],
   "source": [
    "df_1.drop_duplicates(inplace=True)\n",
    "\n",
    "df_1['data_collection_start_year'] = df_1['data_collection_start_year'].astype(str).str.replace(',', '').astype(int)\n",
    "df_1['data_collection_end_year'] = df_1['data_collection_end_year'].astype(str).str.replace(',', '').astype(int)"
   ]
  },
  {
   "cell_type": "code",
   "execution_count": 221,
   "id": "88ac1c68",
   "metadata": {},
   "outputs": [
    {
     "data": {
      "text/plain": [
       "country                       0\n",
       "age_group                     0\n",
       "sex                           0\n",
       "marital_status                0\n",
       "data_process                  0\n",
       "data_collection_start_year    0\n",
       "data_collection_end_year      0\n",
       "data_source                   0\n",
       "dtype: int64"
      ]
     },
     "execution_count": 221,
     "metadata": {},
     "output_type": "execute_result"
    }
   ],
   "source": [
    "df_1.isnull().sum()"
   ]
  },
  {
   "cell_type": "code",
   "execution_count": 222,
   "id": "0a9a1cdd",
   "metadata": {},
   "outputs": [],
   "source": [
    "#df_1.to_csv(\"cleaned_world_marriage.csv\", index=False)"
   ]
  },
  {
   "cell_type": "code",
   "execution_count": 223,
   "id": "b8f9f959",
   "metadata": {},
   "outputs": [],
   "source": [
    "#df_1.to_sql('world_marriage', engine, if_exists='replace', index=False)"
   ]
  },
  {
   "cell_type": "code",
   "execution_count": 224,
   "id": "1faea9f6",
   "metadata": {},
   "outputs": [],
   "source": [
    "df_2 = pd.read_csv('../data/Raw/age-at-marriage-women.csv')"
   ]
  },
  {
   "cell_type": "code",
   "execution_count": 225,
   "id": "db32400b",
   "metadata": {},
   "outputs": [],
   "source": [
    "df_2.columns = df_2.columns.str.lower() \\\n",
    "    .str.replace(' ', '_') \\\n",
    "    .str.replace('(', '') \\\n",
    "    .str.replace(')', '') \\\n",
    "    .str.replace('[^0-9a-zA-Z_]', '', regex=True)"
   ]
  },
  {
   "cell_type": "code",
   "execution_count": 226,
   "id": "149d8113",
   "metadata": {},
   "outputs": [],
   "source": [
    "df_2 = df_2.drop(columns=['1005564annotations'])\n",
    "\n",
    "df_2.rename(columns={\n",
    "    \"entity\": \"country\",   \n",
    "}, inplace=True)"
   ]
  },
  {
   "cell_type": "code",
   "execution_count": 227,
   "id": "5b1591c4",
   "metadata": {},
   "outputs": [],
   "source": [
    "df_2.drop_duplicates(inplace=True)\n"
   ]
  },
  {
   "cell_type": "code",
   "execution_count": 228,
   "id": "c2d7dd53",
   "metadata": {},
   "outputs": [],
   "source": [
    "df_2['year'] = df_2['year'].astype(str).str.replace(',', '').astype(int)"
   ]
  },
  {
   "cell_type": "code",
   "execution_count": 229,
   "id": "69b7a060",
   "metadata": {},
   "outputs": [
    {
     "data": {
      "text/plain": [
       "country                                0\n",
       "code                                   0\n",
       "year                                   0\n",
       "mean_age_of_women_at_first_marriage    0\n",
       "dtype: int64"
      ]
     },
     "execution_count": 229,
     "metadata": {},
     "output_type": "execute_result"
    }
   ],
   "source": [
    "df_2.isnull().sum()"
   ]
  },
  {
   "cell_type": "code",
   "execution_count": 230,
   "id": "988b26e6",
   "metadata": {},
   "outputs": [],
   "source": [
    "#df_2.to_csv(\"cleaned_age_at_marriage_women.csv\", index=False)"
   ]
  },
  {
   "cell_type": "code",
   "execution_count": 231,
   "id": "c3d6586c",
   "metadata": {},
   "outputs": [],
   "source": [
    "#df_2.to_sql('age_at_marriage_women', engine, if_exists='replace', index=False)"
   ]
  },
  {
   "cell_type": "code",
   "execution_count": 232,
   "id": "77d0c360",
   "metadata": {},
   "outputs": [],
   "source": [
    "df_3= pd.read_csv('../data/Raw/marriage-rate-per-1000-inhabitants.csv')"
   ]
  },
  {
   "cell_type": "code",
   "execution_count": 233,
   "id": "e846027f",
   "metadata": {},
   "outputs": [],
   "source": [
    "df_3.columns = df_3.columns.str.lower() \\\n",
    "    .str.replace(' ', '_') \\\n",
    "    .str.replace('(', '') \\\n",
    "    .str.replace(')', '') \\\n",
    "    .str.replace('[^0-9a-zA-Z_]', '', regex=True)"
   ]
  },
  {
   "cell_type": "code",
   "execution_count": 234,
   "id": "193dc9a1",
   "metadata": {},
   "outputs": [],
   "source": [
    "df_3.rename(columns={\n",
    "    \"entity\": \"country\",   \n",
    "}, inplace=True)"
   ]
  },
  {
   "cell_type": "code",
   "execution_count": 235,
   "id": "d04666fc",
   "metadata": {},
   "outputs": [],
   "source": [
    "df_3['year'] = df_3['year'].astype(str).str.replace(',', '').astype(int)"
   ]
  },
  {
   "cell_type": "code",
   "execution_count": 236,
   "id": "ff7e90f7",
   "metadata": {},
   "outputs": [],
   "source": [
    "df_3.drop_duplicates(inplace=True)\n"
   ]
  },
  {
   "cell_type": "code",
   "execution_count": 237,
   "id": "dd9484b1",
   "metadata": {},
   "outputs": [
    {
     "data": {
      "text/plain": [
       "country                                          0\n",
       "code                                             0\n",
       "year                                             0\n",
       "crude_marriage_rate_marriages_per_1000_people    0\n",
       "dtype: int64"
      ]
     },
     "execution_count": 237,
     "metadata": {},
     "output_type": "execute_result"
    }
   ],
   "source": [
    "df_3.isnull().sum()"
   ]
  },
  {
   "cell_type": "code",
   "execution_count": 238,
   "id": "d0be7f40",
   "metadata": {},
   "outputs": [],
   "source": [
    "#df_3.to_csv(\"cleaned_marriage-rate-per-1000-inhabitants.csv\", index=False)"
   ]
  },
  {
   "cell_type": "code",
   "execution_count": 239,
   "id": "29ed0ffc",
   "metadata": {},
   "outputs": [],
   "source": [
    "#df_3.to_sql('married_rate_per_1000', engine, if_exists='replace', index=False)"
   ]
  },
  {
   "cell_type": "code",
   "execution_count": 240,
   "id": "aa41d55e",
   "metadata": {},
   "outputs": [],
   "source": [
    "df_4= pd.read_csv('../data/Raw/marriage-rates-in-1990-vs-2020.csv')"
   ]
  },
  {
   "cell_type": "code",
   "execution_count": 241,
   "id": "3edd8a12",
   "metadata": {},
   "outputs": [],
   "source": [
    "df_4.columns = df_4.columns.str.lower() \\\n",
    "    .str.replace(' ', '') \\\n",
    "    .str.replace('(', '') \\\n",
    "    .str.replace(')', '') \\\n",
    "    .str.replace('[^0-9a-zA-Z_]', '', regex=True)"
   ]
  },
  {
   "cell_type": "code",
   "execution_count": 242,
   "id": "266353a0",
   "metadata": {},
   "outputs": [],
   "source": [
    "df_4 = df_4.drop(columns=['worldregionsaccordingtoowid'])\n",
    "\n",
    "df_4.rename(columns={\n",
    "    \"crudemarriageratemarriagesper1000people\": \"crude_marriage_rate\",\n",
    "    \"crudemarriageratemarriagesper1000people1\": \"crude_marriage_rate_people1\",\n",
    "    \"year1\": \"year_1\",\n",
    "    \"entity\": \"country\"\n",
    "}, inplace=True)"
   ]
  },
  {
   "cell_type": "code",
   "execution_count": 243,
   "id": "74f449df",
   "metadata": {},
   "outputs": [],
   "source": [
    "df_4.drop_duplicates(inplace=True)\n",
    "df_4.dropna(inplace=True)"
   ]
  },
  {
   "cell_type": "code",
   "execution_count": 244,
   "id": "ecc2e9d1",
   "metadata": {},
   "outputs": [],
   "source": [
    "df_4['year_1'] = pd.to_numeric(df_4['year_1'], errors='coerce').astype('Int64')"
   ]
  },
  {
   "cell_type": "code",
   "execution_count": 245,
   "id": "9c07c47b",
   "metadata": {},
   "outputs": [
    {
     "data": {
      "text/plain": [
       "country                        0\n",
       "code                           0\n",
       "year                           0\n",
       "crude_marriage_rate            0\n",
       "crude_marriage_rate_people1    0\n",
       "year_1                         0\n",
       "dtype: int64"
      ]
     },
     "execution_count": 245,
     "metadata": {},
     "output_type": "execute_result"
    }
   ],
   "source": [
    "df_4.isnull().sum()"
   ]
  },
  {
   "cell_type": "code",
   "execution_count": 246,
   "id": "9d60e3c9",
   "metadata": {},
   "outputs": [],
   "source": [
    "#df_4.to_csv(\"cleaned_marriage-rates-in-1990-vs-2020.csv\", index=False)"
   ]
  },
  {
   "cell_type": "code",
   "execution_count": 247,
   "id": "08b53841",
   "metadata": {},
   "outputs": [],
   "source": [
    "#df_4.to_sql('marriage_rates_in_1990_vs_2020', engine, if_exists='replace', index=False)"
   ]
  },
  {
   "cell_type": "code",
   "execution_count": 248,
   "id": "133d47b0",
   "metadata": {},
   "outputs": [],
   "source": [
    "df_5 = pd.read_csv('../data/Raw/share-of-births-outside-marriage.csv')"
   ]
  },
  {
   "cell_type": "code",
   "execution_count": 249,
   "id": "4d3243d2",
   "metadata": {},
   "outputs": [],
   "source": [
    "df_5.columns = df_5.columns.str.lower() \\\n",
    "    .str.replace(' ', '') \\\n",
    "    .str.replace('(', '') \\\n",
    "    .str.replace(')', '') \\\n",
    "    .str.replace('[^0-9a-zA-Z_]', '', regex=True)"
   ]
  },
  {
   "cell_type": "code",
   "execution_count": 250,
   "id": "80b37147",
   "metadata": {},
   "outputs": [],
   "source": [
    "\n",
    "df_5.rename(columns={\n",
    "    \"shareofbirthsoutsideofmarriageofallbirths\": \"share_of_births_outside_of_marriage\",\n",
    "    \"entity\": \"country\"\n",
    "}, inplace=True)\n",
    "\n",
    "df_5.drop_duplicates(inplace=True)"
   ]
  },
  {
   "cell_type": "code",
   "execution_count": 251,
   "id": "17dfcb86",
   "metadata": {},
   "outputs": [
    {
     "data": {
      "text/plain": [
       "country                                0\n",
       "code                                   0\n",
       "year                                   0\n",
       "share_of_births_outside_of_marriage    0\n",
       "dtype: int64"
      ]
     },
     "execution_count": 251,
     "metadata": {},
     "output_type": "execute_result"
    }
   ],
   "source": [
    "df_5.isnull().sum()"
   ]
  },
  {
   "cell_type": "code",
   "execution_count": 252,
   "id": "a1ecb1ab",
   "metadata": {},
   "outputs": [],
   "source": [
    "#df_5.to_csv(\"cleaned_share-of-births-outside-marriage.csv\", index=False)"
   ]
  },
  {
   "cell_type": "code",
   "execution_count": 253,
   "id": "2f44ef2a",
   "metadata": {},
   "outputs": [],
   "source": [
    "#df_5.to_sql('share_of_births_outside_marriage', engine, if_exists='replace', index=False)"
   ]
  },
  {
   "cell_type": "code",
   "execution_count": 254,
   "id": "11e9d430",
   "metadata": {},
   "outputs": [],
   "source": [
    "df_6 = pd.read_csv('../data/Raw/share-of-men-in-england-and-wales-who-have-ever-married-by-age.csv')"
   ]
  },
  {
   "cell_type": "code",
   "execution_count": 255,
   "id": "dc05526d",
   "metadata": {},
   "outputs": [
    {
     "data": {
      "text/html": [
       "<div>\n",
       "<style scoped>\n",
       "    .dataframe tbody tr th:only-of-type {\n",
       "        vertical-align: middle;\n",
       "    }\n",
       "\n",
       "    .dataframe tbody tr th {\n",
       "        vertical-align: top;\n",
       "    }\n",
       "\n",
       "    .dataframe thead th {\n",
       "        text-align: right;\n",
       "    }\n",
       "</style>\n",
       "<table border=\"1\" class=\"dataframe\">\n",
       "  <thead>\n",
       "    <tr style=\"text-align: right;\">\n",
       "      <th></th>\n",
       "      <th>entity</th>\n",
       "      <th>code</th>\n",
       "      <th>year</th>\n",
       "      <th>proportionsofmenorwomenwhohadevermarriedbyacertainagefor1900birthcohort</th>\n",
       "      <th>proportionsofmenorwomenwhohadevermarriedbyacertainagefor1920birthcohort</th>\n",
       "      <th>proportionsofmenorwomenwhohadevermarriedbyacertainagefor1940birthcohort</th>\n",
       "      <th>proportionsofmenorwomenwhohadevermarriedbyacertainagefor1960birthcohort</th>\n",
       "      <th>proportionsofmenorwomenwhohadevermarriedbyacertainagefor1970birthcohort</th>\n",
       "      <th>proportionsofmenorwomenwhohadevermarriedbyacertainagefor1980birthcohort</th>\n",
       "      <th>proportionsofmenorwomenwhohadevermarriedbyacertainagefor1990birthcohort</th>\n",
       "      <th>proportionsofmenorwomenwhohadevermarriedbyacertainagefor2000birthcohort</th>\n",
       "    </tr>\n",
       "  </thead>\n",
       "  <tbody>\n",
       "    <tr>\n",
       "      <th>39</th>\n",
       "      <td>Women</td>\n",
       "      <td>NaN</td>\n",
       "      <td>22</td>\n",
       "      <td>24.3</td>\n",
       "      <td>39.3</td>\n",
       "      <td>57.5</td>\n",
       "      <td>40.6</td>\n",
       "      <td>18.2</td>\n",
       "      <td>7.1</td>\n",
       "      <td>2.9</td>\n",
       "      <td>0.9</td>\n",
       "    </tr>\n",
       "    <tr>\n",
       "      <th>59</th>\n",
       "      <td>Women</td>\n",
       "      <td>NaN</td>\n",
       "      <td>42</td>\n",
       "      <td>83.3</td>\n",
       "      <td>90.9</td>\n",
       "      <td>95.2</td>\n",
       "      <td>85.9</td>\n",
       "      <td>73.2</td>\n",
       "      <td>62.8</td>\n",
       "      <td>NaN</td>\n",
       "      <td>NaN</td>\n",
       "    </tr>\n",
       "    <tr>\n",
       "      <th>53</th>\n",
       "      <td>Women</td>\n",
       "      <td>NaN</td>\n",
       "      <td>36</td>\n",
       "      <td>79.9</td>\n",
       "      <td>88.9</td>\n",
       "      <td>94.2</td>\n",
       "      <td>83.5</td>\n",
       "      <td>68.2</td>\n",
       "      <td>56.2</td>\n",
       "      <td>NaN</td>\n",
       "      <td>NaN</td>\n",
       "    </tr>\n",
       "    <tr>\n",
       "      <th>63</th>\n",
       "      <td>Women</td>\n",
       "      <td>NaN</td>\n",
       "      <td>46</td>\n",
       "      <td>84.5</td>\n",
       "      <td>91.6</td>\n",
       "      <td>95.5</td>\n",
       "      <td>86.9</td>\n",
       "      <td>75.0</td>\n",
       "      <td>NaN</td>\n",
       "      <td>NaN</td>\n",
       "      <td>NaN</td>\n",
       "    </tr>\n",
       "    <tr>\n",
       "      <th>66</th>\n",
       "      <td>Women</td>\n",
       "      <td>NaN</td>\n",
       "      <td>49</td>\n",
       "      <td>85.2</td>\n",
       "      <td>91.9</td>\n",
       "      <td>95.7</td>\n",
       "      <td>87.3</td>\n",
       "      <td>76.0</td>\n",
       "      <td>NaN</td>\n",
       "      <td>NaN</td>\n",
       "      <td>NaN</td>\n",
       "    </tr>\n",
       "  </tbody>\n",
       "</table>\n",
       "</div>"
      ],
      "text/plain": [
       "   entity  code  year  \\\n",
       "39  Women   NaN    22   \n",
       "59  Women   NaN    42   \n",
       "53  Women   NaN    36   \n",
       "63  Women   NaN    46   \n",
       "66  Women   NaN    49   \n",
       "\n",
       "    proportionsofmenorwomenwhohadevermarriedbyacertainagefor1900birthcohort  \\\n",
       "39                                               24.3                         \n",
       "59                                               83.3                         \n",
       "53                                               79.9                         \n",
       "63                                               84.5                         \n",
       "66                                               85.2                         \n",
       "\n",
       "    proportionsofmenorwomenwhohadevermarriedbyacertainagefor1920birthcohort  \\\n",
       "39                                               39.3                         \n",
       "59                                               90.9                         \n",
       "53                                               88.9                         \n",
       "63                                               91.6                         \n",
       "66                                               91.9                         \n",
       "\n",
       "    proportionsofmenorwomenwhohadevermarriedbyacertainagefor1940birthcohort  \\\n",
       "39                                               57.5                         \n",
       "59                                               95.2                         \n",
       "53                                               94.2                         \n",
       "63                                               95.5                         \n",
       "66                                               95.7                         \n",
       "\n",
       "    proportionsofmenorwomenwhohadevermarriedbyacertainagefor1960birthcohort  \\\n",
       "39                                               40.6                         \n",
       "59                                               85.9                         \n",
       "53                                               83.5                         \n",
       "63                                               86.9                         \n",
       "66                                               87.3                         \n",
       "\n",
       "    proportionsofmenorwomenwhohadevermarriedbyacertainagefor1970birthcohort  \\\n",
       "39                                               18.2                         \n",
       "59                                               73.2                         \n",
       "53                                               68.2                         \n",
       "63                                               75.0                         \n",
       "66                                               76.0                         \n",
       "\n",
       "    proportionsofmenorwomenwhohadevermarriedbyacertainagefor1980birthcohort  \\\n",
       "39                                                7.1                         \n",
       "59                                               62.8                         \n",
       "53                                               56.2                         \n",
       "63                                                NaN                         \n",
       "66                                                NaN                         \n",
       "\n",
       "    proportionsofmenorwomenwhohadevermarriedbyacertainagefor1990birthcohort  \\\n",
       "39                                                2.9                         \n",
       "59                                                NaN                         \n",
       "53                                                NaN                         \n",
       "63                                                NaN                         \n",
       "66                                                NaN                         \n",
       "\n",
       "    proportionsofmenorwomenwhohadevermarriedbyacertainagefor2000birthcohort  \n",
       "39                                                0.9                        \n",
       "59                                                NaN                        \n",
       "53                                                NaN                        \n",
       "63                                                NaN                        \n",
       "66                                                NaN                        "
      ]
     },
     "execution_count": 255,
     "metadata": {},
     "output_type": "execute_result"
    }
   ],
   "source": [
    "df_6.columns = df_6.columns.str.lower() \\\n",
    "    .str.replace(' ', '') \\\n",
    "    .str.replace('(', '') \\\n",
    "    .str.replace(')', '') \\\n",
    "    .str.replace('[^0-9a-zA-Z_]', '', regex=True)\n",
    "\n",
    "df_6.drop_duplicates(inplace=True)\n",
    "df_6.sample(5)"
   ]
  },
  {
   "cell_type": "code",
   "execution_count": 256,
   "id": "488391fa",
   "metadata": {},
   "outputs": [],
   "source": [
    "df_6 = df_6.drop(columns=['code','proportionsofmenorwomenwhohadevermarriedbyacertainagefor1980birthcohort',\n",
    "    'proportionsofmenorwomenwhohadevermarriedbyacertainagefor1990birthcohort',\n",
    "    'proportionsofmenorwomenwhohadevermarriedbyacertainagefor2000birthcohort'])\n",
    "\n",
    "df_6.rename(columns={\n",
    "    \"proportionsofmenorwomenwhohadevermarriedbyacertainagefor1900birthcohort\": \"1900_birthcohort\",\n",
    "    \"proportionsofmenorwomenwhohadevermarriedbyacertainagefor1920birthcohort\": \"1920_birthcohort\",\n",
    "    \"proportionsofmenorwomenwhohadevermarriedbyacertainagefor1940birthcohort\": \"1940_birthcohort\",\n",
    "    \"proportionsofmenorwomenwhohadevermarriedbyacertainagefor1960birthcohort\": \"1960_birthcohort\",\n",
    "    \"proportionsofmenorwomenwhohadevermarriedbyacertainagefor1970birthcohort\": \"1970_birthcohort\",\n",
    "    \"entity\": \"sex\"\n",
    "}, inplace=True)"
   ]
  },
  {
   "cell_type": "code",
   "execution_count": 257,
   "id": "b67b700e",
   "metadata": {},
   "outputs": [
    {
     "data": {
      "text/plain": [
       "sex                 0\n",
       "year                0\n",
       "1900_birthcohort    0\n",
       "1920_birthcohort    0\n",
       "1940_birthcohort    0\n",
       "1960_birthcohort    0\n",
       "1970_birthcohort    0\n",
       "dtype: int64"
      ]
     },
     "execution_count": 257,
     "metadata": {},
     "output_type": "execute_result"
    }
   ],
   "source": [
    "df_6.isnull().sum()"
   ]
  },
  {
   "cell_type": "code",
   "execution_count": 258,
   "id": "bd00250c",
   "metadata": {},
   "outputs": [],
   "source": [
    "#df_6.to_csv(\"cleaned_share-of-men-in-england-and-wales-who-have-ever-married-by-age.csv\", index=False)"
   ]
  },
  {
   "cell_type": "code",
   "execution_count": null,
   "id": "a3c676cd",
   "metadata": {},
   "outputs": [
    {
     "data": {
      "text/plain": [
       "68"
      ]
     },
     "execution_count": 260,
     "metadata": {},
     "output_type": "execute_result"
    }
   ],
   "source": [
    "#df_6.to_sql('men_in_england_and_wales_married_by_age.csv', engine, if_exists='replace', index=False)"
   ]
  },
  {
   "cell_type": "code",
   "execution_count": null,
   "id": "61daddb4",
   "metadata": {},
   "outputs": [],
   "source": [
    "df_7.columns = df_7.columns.str.lower() \\\n",
    "    .str.replace(' ', '') \\\n",
    "    .str.replace('(', '') \\\n",
    "    .str.replace(')', '') \\\n",
    "    .str.replace('[^0-9a-zA-Z_]', '', regex=True)"
   ]
  },
  {
   "cell_type": "code",
   "execution_count": null,
   "id": "6c9dd325",
   "metadata": {},
   "outputs": [
    {
     "data": {
      "text/html": [
       "<div>\n",
       "<style scoped>\n",
       "    .dataframe tbody tr th:only-of-type {\n",
       "        vertical-align: middle;\n",
       "    }\n",
       "\n",
       "    .dataframe tbody tr th {\n",
       "        vertical-align: top;\n",
       "    }\n",
       "\n",
       "    .dataframe thead th {\n",
       "        text-align: right;\n",
       "    }\n",
       "</style>\n",
       "<table border=\"1\" class=\"dataframe\">\n",
       "  <thead>\n",
       "    <tr style=\"text-align: right;\">\n",
       "      <th></th>\n",
       "      <th>country</th>\n",
       "      <th>code</th>\n",
       "      <th>year</th>\n",
       "      <th>share_of_single_parent_households</th>\n",
       "    </tr>\n",
       "  </thead>\n",
       "  <tbody>\n",
       "    <tr>\n",
       "      <th>407</th>\n",
       "      <td>Macao</td>\n",
       "      <td>MAC</td>\n",
       "      <td>2016</td>\n",
       "      <td>9.00</td>\n",
       "    </tr>\n",
       "    <tr>\n",
       "      <th>474</th>\n",
       "      <td>Mozambique</td>\n",
       "      <td>MOZ</td>\n",
       "      <td>2008</td>\n",
       "      <td>10.37</td>\n",
       "    </tr>\n",
       "    <tr>\n",
       "      <th>98</th>\n",
       "      <td>Burundi</td>\n",
       "      <td>BDI</td>\n",
       "      <td>2016</td>\n",
       "      <td>14.76</td>\n",
       "    </tr>\n",
       "    <tr>\n",
       "      <th>272</th>\n",
       "      <td>Guyana</td>\n",
       "      <td>GUY</td>\n",
       "      <td>2009</td>\n",
       "      <td>11.64</td>\n",
       "    </tr>\n",
       "    <tr>\n",
       "      <th>559</th>\n",
       "      <td>Philippines</td>\n",
       "      <td>PHL</td>\n",
       "      <td>1993</td>\n",
       "      <td>5.26</td>\n",
       "    </tr>\n",
       "  </tbody>\n",
       "</table>\n",
       "</div>"
      ],
      "text/plain": [
       "         country code  year  share_of_single_parent_households\n",
       "407        Macao  MAC  2016                               9.00\n",
       "474   Mozambique  MOZ  2008                              10.37\n",
       "98       Burundi  BDI  2016                              14.76\n",
       "272       Guyana  GUY  2009                              11.64\n",
       "559  Philippines  PHL  1993                               5.26"
      ]
     },
     "execution_count": 203,
     "metadata": {},
     "output_type": "execute_result"
    }
   ],
   "source": [
    "df_7.rename(columns={\n",
    "    \"shareofsingleparenthouseholds\": \"share_of_single_parent_households\",\n",
    "    \"entity\": \"country\"\n",
    "}, inplace=True)\n",
    "\n",
    "df_7.drop_duplicates(inplace=True)\n",
    "df_7.sample(5)"
   ]
  },
  {
   "cell_type": "code",
   "execution_count": null,
   "id": "e5af1f58",
   "metadata": {},
   "outputs": [
    {
     "data": {
      "text/plain": [
       "country                              0\n",
       "code                                 0\n",
       "year                                 0\n",
       "share_of_single_parent_households    0\n",
       "dtype: int64"
      ]
     },
     "execution_count": 204,
     "metadata": {},
     "output_type": "execute_result"
    }
   ],
   "source": [
    "df_7.isnull().sum()"
   ]
  },
  {
   "cell_type": "code",
   "execution_count": null,
   "id": "b4b4dcb3",
   "metadata": {},
   "outputs": [],
   "source": [
    "#df_7.to_csv(\"cleaned_share-of-single-parent-households.csv\", index=False)"
   ]
  },
  {
   "cell_type": "code",
   "execution_count": null,
   "id": "a581488a",
   "metadata": {},
   "outputs": [
    {
     "data": {
      "text/plain": [
       "774"
      ]
     },
     "execution_count": 262,
     "metadata": {},
     "output_type": "execute_result"
    }
   ],
   "source": [
    "#df_7.to_sql(\"single_parent_households.csv\", engine, if_exists='replace', index=False)"
   ]
  },
  {
   "cell_type": "code",
   "execution_count": null,
   "id": "04b4cf2f",
   "metadata": {},
   "outputs": [],
   "source": [
    "df_8 = pd.read_csv('../data/Raw/share-of-women-in-england-and-wales-who-have-ever-married-by-age.csv')"
   ]
  },
  {
   "cell_type": "code",
   "execution_count": null,
   "id": "911bd461",
   "metadata": {},
   "outputs": [],
   "source": [
    "df_8.columns = df_8.columns.str.lower() \\\n",
    "    .str.replace(' ', '') \\\n",
    "    .str.replace('(', '') \\\n",
    "    .str.replace(')', '') \\\n",
    "    .str.replace('[^0-9a-zA-Z_]', '', regex=True)"
   ]
  },
  {
   "cell_type": "code",
   "execution_count": null,
   "id": "f7713ec1",
   "metadata": {},
   "outputs": [
    {
     "data": {
      "text/html": [
       "<div>\n",
       "<style scoped>\n",
       "    .dataframe tbody tr th:only-of-type {\n",
       "        vertical-align: middle;\n",
       "    }\n",
       "\n",
       "    .dataframe tbody tr th {\n",
       "        vertical-align: top;\n",
       "    }\n",
       "\n",
       "    .dataframe thead th {\n",
       "        text-align: right;\n",
       "    }\n",
       "</style>\n",
       "<table border=\"1\" class=\"dataframe\">\n",
       "  <thead>\n",
       "    <tr style=\"text-align: right;\">\n",
       "      <th></th>\n",
       "      <th>entity</th>\n",
       "      <th>code</th>\n",
       "      <th>year</th>\n",
       "      <th>proportionsofmenorwomenwhohadevermarriedbyacertainagefor1900birthcohort</th>\n",
       "      <th>proportionsofmenorwomenwhohadevermarriedbyacertainagefor1920birthcohort</th>\n",
       "      <th>proportionsofmenorwomenwhohadevermarriedbyacertainagefor1940birthcohort</th>\n",
       "      <th>proportionsofmenorwomenwhohadevermarriedbyacertainagefor1960birthcohort</th>\n",
       "      <th>proportionsofmenorwomenwhohadevermarriedbyacertainagefor1970birthcohort</th>\n",
       "      <th>proportionsofmenorwomenwhohadevermarriedbyacertainagefor1980birthcohort</th>\n",
       "      <th>proportionsofmenorwomenwhohadevermarriedbyacertainagefor1990birthcohort</th>\n",
       "      <th>proportionsofmenorwomenwhohadevermarriedbyacertainagefor2000birthcohort</th>\n",
       "    </tr>\n",
       "  </thead>\n",
       "  <tbody>\n",
       "    <tr>\n",
       "      <th>25</th>\n",
       "      <td>Men</td>\n",
       "      <td>GBR</td>\n",
       "      <td>42</td>\n",
       "      <td>90.7</td>\n",
       "      <td>90.6</td>\n",
       "      <td>91.6</td>\n",
       "      <td>79.1</td>\n",
       "      <td>65.8</td>\n",
       "      <td>55.4</td>\n",
       "      <td>NaN</td>\n",
       "      <td>NaN</td>\n",
       "    </tr>\n",
       "    <tr>\n",
       "      <th>3</th>\n",
       "      <td>Men</td>\n",
       "      <td>GBR</td>\n",
       "      <td>20</td>\n",
       "      <td>2.4</td>\n",
       "      <td>2.2</td>\n",
       "      <td>6.0</td>\n",
       "      <td>6.2</td>\n",
       "      <td>1.9</td>\n",
       "      <td>0.7</td>\n",
       "      <td>0.3</td>\n",
       "      <td>0.1</td>\n",
       "    </tr>\n",
       "    <tr>\n",
       "      <th>66</th>\n",
       "      <td>Women</td>\n",
       "      <td>GBR</td>\n",
       "      <td>49</td>\n",
       "      <td>85.2</td>\n",
       "      <td>91.9</td>\n",
       "      <td>95.7</td>\n",
       "      <td>87.3</td>\n",
       "      <td>76.0</td>\n",
       "      <td>NaN</td>\n",
       "      <td>NaN</td>\n",
       "      <td>NaN</td>\n",
       "    </tr>\n",
       "    <tr>\n",
       "      <th>4</th>\n",
       "      <td>Men</td>\n",
       "      <td>GBR</td>\n",
       "      <td>21</td>\n",
       "      <td>6.1</td>\n",
       "      <td>7.4</td>\n",
       "      <td>13.6</td>\n",
       "      <td>11.9</td>\n",
       "      <td>3.9</td>\n",
       "      <td>1.4</td>\n",
       "      <td>0.6</td>\n",
       "      <td>0.2</td>\n",
       "    </tr>\n",
       "    <tr>\n",
       "      <th>7</th>\n",
       "      <td>Men</td>\n",
       "      <td>GBR</td>\n",
       "      <td>24</td>\n",
       "      <td>30.2</td>\n",
       "      <td>34.4</td>\n",
       "      <td>49.8</td>\n",
       "      <td>33.7</td>\n",
       "      <td>14.8</td>\n",
       "      <td>5.9</td>\n",
       "      <td>3.3</td>\n",
       "      <td>NaN</td>\n",
       "    </tr>\n",
       "  </tbody>\n",
       "</table>\n",
       "</div>"
      ],
      "text/plain": [
       "   entity code  year  \\\n",
       "25    Men  GBR    42   \n",
       "3     Men  GBR    20   \n",
       "66  Women  GBR    49   \n",
       "4     Men  GBR    21   \n",
       "7     Men  GBR    24   \n",
       "\n",
       "    proportionsofmenorwomenwhohadevermarriedbyacertainagefor1900birthcohort  \\\n",
       "25                                               90.7                         \n",
       "3                                                 2.4                         \n",
       "66                                               85.2                         \n",
       "4                                                 6.1                         \n",
       "7                                                30.2                         \n",
       "\n",
       "    proportionsofmenorwomenwhohadevermarriedbyacertainagefor1920birthcohort  \\\n",
       "25                                               90.6                         \n",
       "3                                                 2.2                         \n",
       "66                                               91.9                         \n",
       "4                                                 7.4                         \n",
       "7                                                34.4                         \n",
       "\n",
       "    proportionsofmenorwomenwhohadevermarriedbyacertainagefor1940birthcohort  \\\n",
       "25                                               91.6                         \n",
       "3                                                 6.0                         \n",
       "66                                               95.7                         \n",
       "4                                                13.6                         \n",
       "7                                                49.8                         \n",
       "\n",
       "    proportionsofmenorwomenwhohadevermarriedbyacertainagefor1960birthcohort  \\\n",
       "25                                               79.1                         \n",
       "3                                                 6.2                         \n",
       "66                                               87.3                         \n",
       "4                                                11.9                         \n",
       "7                                                33.7                         \n",
       "\n",
       "    proportionsofmenorwomenwhohadevermarriedbyacertainagefor1970birthcohort  \\\n",
       "25                                               65.8                         \n",
       "3                                                 1.9                         \n",
       "66                                               76.0                         \n",
       "4                                                 3.9                         \n",
       "7                                                14.8                         \n",
       "\n",
       "    proportionsofmenorwomenwhohadevermarriedbyacertainagefor1980birthcohort  \\\n",
       "25                                               55.4                         \n",
       "3                                                 0.7                         \n",
       "66                                                NaN                         \n",
       "4                                                 1.4                         \n",
       "7                                                 5.9                         \n",
       "\n",
       "    proportionsofmenorwomenwhohadevermarriedbyacertainagefor1990birthcohort  \\\n",
       "25                                                NaN                         \n",
       "3                                                 0.3                         \n",
       "66                                                NaN                         \n",
       "4                                                 0.6                         \n",
       "7                                                 3.3                         \n",
       "\n",
       "    proportionsofmenorwomenwhohadevermarriedbyacertainagefor2000birthcohort  \n",
       "25                                                NaN                        \n",
       "3                                                 0.1                        \n",
       "66                                                NaN                        \n",
       "4                                                 0.2                        \n",
       "7                                                 NaN                        "
      ]
     },
     "execution_count": 208,
     "metadata": {},
     "output_type": "execute_result"
    }
   ],
   "source": [
    "df_8['code'] = df_8['code'].fillna('GBR')\n",
    "df_8.sample(5)"
   ]
  },
  {
   "cell_type": "code",
   "execution_count": null,
   "id": "88bb818e",
   "metadata": {},
   "outputs": [
    {
     "data": {
      "text/html": [
       "<div>\n",
       "<style scoped>\n",
       "    .dataframe tbody tr th:only-of-type {\n",
       "        vertical-align: middle;\n",
       "    }\n",
       "\n",
       "    .dataframe tbody tr th {\n",
       "        vertical-align: top;\n",
       "    }\n",
       "\n",
       "    .dataframe thead th {\n",
       "        text-align: right;\n",
       "    }\n",
       "</style>\n",
       "<table border=\"1\" class=\"dataframe\">\n",
       "  <thead>\n",
       "    <tr style=\"text-align: right;\">\n",
       "      <th></th>\n",
       "      <th>sex</th>\n",
       "      <th>year</th>\n",
       "      <th>1900_birthcohort</th>\n",
       "      <th>1920_birthcohort</th>\n",
       "      <th>1940_birthcohort</th>\n",
       "      <th>1960_birthcohort</th>\n",
       "      <th>1970_birthcohort</th>\n",
       "    </tr>\n",
       "  </thead>\n",
       "  <tbody>\n",
       "    <tr>\n",
       "      <th>53</th>\n",
       "      <td>Women</td>\n",
       "      <td>36</td>\n",
       "      <td>79.9</td>\n",
       "      <td>88.9</td>\n",
       "      <td>94.2</td>\n",
       "      <td>83.5</td>\n",
       "      <td>68.2</td>\n",
       "    </tr>\n",
       "    <tr>\n",
       "      <th>32</th>\n",
       "      <td>Men</td>\n",
       "      <td>49</td>\n",
       "      <td>92.7</td>\n",
       "      <td>91.8</td>\n",
       "      <td>92.3</td>\n",
       "      <td>81.5</td>\n",
       "      <td>70.3</td>\n",
       "    </tr>\n",
       "    <tr>\n",
       "      <th>27</th>\n",
       "      <td>Men</td>\n",
       "      <td>44</td>\n",
       "      <td>91.5</td>\n",
       "      <td>91.1</td>\n",
       "      <td>91.8</td>\n",
       "      <td>80.0</td>\n",
       "      <td>67.5</td>\n",
       "    </tr>\n",
       "    <tr>\n",
       "      <th>46</th>\n",
       "      <td>Women</td>\n",
       "      <td>29</td>\n",
       "      <td>68.7</td>\n",
       "      <td>80.4</td>\n",
       "      <td>89.8</td>\n",
       "      <td>74.5</td>\n",
       "      <td>52.4</td>\n",
       "    </tr>\n",
       "    <tr>\n",
       "      <th>5</th>\n",
       "      <td>Men</td>\n",
       "      <td>22</td>\n",
       "      <td>13.5</td>\n",
       "      <td>16.8</td>\n",
       "      <td>25.8</td>\n",
       "      <td>18.8</td>\n",
       "      <td>6.8</td>\n",
       "    </tr>\n",
       "  </tbody>\n",
       "</table>\n",
       "</div>"
      ],
      "text/plain": [
       "      sex  year  1900_birthcohort  1920_birthcohort  1940_birthcohort  \\\n",
       "53  Women    36              79.9              88.9              94.2   \n",
       "32    Men    49              92.7              91.8              92.3   \n",
       "27    Men    44              91.5              91.1              91.8   \n",
       "46  Women    29              68.7              80.4              89.8   \n",
       "5     Men    22              13.5              16.8              25.8   \n",
       "\n",
       "    1960_birthcohort  1970_birthcohort  \n",
       "53              83.5              68.2  \n",
       "32              81.5              70.3  \n",
       "27              80.0              67.5  \n",
       "46              74.5              52.4  \n",
       "5               18.8               6.8  "
      ]
     },
     "execution_count": 209,
     "metadata": {},
     "output_type": "execute_result"
    }
   ],
   "source": [
    "df_8 = df_8.drop(columns=['code','proportionsofmenorwomenwhohadevermarriedbyacertainagefor1980birthcohort',\n",
    "    'proportionsofmenorwomenwhohadevermarriedbyacertainagefor1990birthcohort',\n",
    "    'proportionsofmenorwomenwhohadevermarriedbyacertainagefor2000birthcohort'])\n",
    "\n",
    "df_8.rename(columns={\n",
    "    \"proportionsofmenorwomenwhohadevermarriedbyacertainagefor1900birthcohort\": \"1900_birthcohort\",\n",
    "    \"proportionsofmenorwomenwhohadevermarriedbyacertainagefor1920birthcohort\": \"1920_birthcohort\",\n",
    "    \"proportionsofmenorwomenwhohadevermarriedbyacertainagefor1940birthcohort\": \"1940_birthcohort\",\n",
    "    \"proportionsofmenorwomenwhohadevermarriedbyacertainagefor1960birthcohort\": \"1960_birthcohort\",\n",
    "    \"proportionsofmenorwomenwhohadevermarriedbyacertainagefor1970birthcohort\": \"1970_birthcohort\",\n",
    "    \"entity\": \"sex\"\n",
    "}, inplace=True)\n",
    "\n",
    "df_8.drop_duplicates(inplace=True)\n",
    "df_8.sample(5)"
   ]
  },
  {
   "cell_type": "code",
   "execution_count": null,
   "id": "d828c548",
   "metadata": {},
   "outputs": [],
   "source": [
    "#df_8.to_csv(\"cleaned_share-of-women-in-england-and-wales-who-have-ever-married-by-age.csv\", index=False)"
   ]
  },
  {
   "cell_type": "code",
   "execution_count": null,
   "id": "aca95876",
   "metadata": {},
   "outputs": [
    {
     "data": {
      "text/plain": [
       "68"
      ]
     },
     "execution_count": 263,
     "metadata": {},
     "output_type": "execute_result"
    }
   ],
   "source": [
    "#df_8.to_sql(\"women_in_england_and_wales_married_by_age.csv\", engine, if_exists='replace', index=False)"
   ]
  }
 ],
 "metadata": {
  "kernelspec": {
   "display_name": "py310env",
   "language": "python",
   "name": "python3"
  },
  "language_info": {
   "codemirror_mode": {
    "name": "ipython",
    "version": 3
   },
   "file_extension": ".py",
   "mimetype": "text/x-python",
   "name": "python",
   "nbconvert_exporter": "python",
   "pygments_lexer": "ipython3",
   "version": "3.10.18"
  }
 },
 "nbformat": 4,
 "nbformat_minor": 5
}
