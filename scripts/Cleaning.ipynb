{
 "cells": [
  {
   "cell_type": "code",
   "execution_count": 111,
   "id": "8edbb5ae",
   "metadata": {},
   "outputs": [],
   "source": [
    "import pandas as pd\n",
    "from matplotlib import pyplot as plt\n",
    "import seaborn as sns\n",
    "import numpy as np\n",
    "from sqlalchemy import create_engine, types\n",
    "from sqlalchemy import text "
   ]
  },
  {
   "cell_type": "code",
   "execution_count": 112,
   "id": "13566b4a",
   "metadata": {},
   "outputs": [],
   "source": [
    "from dotenv import dotenv_values\n",
    "\n",
    "config = dotenv_values()\n",
    "\n",
    "# define variables for the login\n",
    "pg_user = config['POSTGRES_USER']  # align the key label with your .env file !\n",
    "pg_host = config['POSTGRES_HOST']\n",
    "pg_port = config['POSTGRES_PORT']\n",
    "pg_db = config['POSTGRES_DB']\n",
    "pg_schema = config['POSTGRES_SCHEMA']\n",
    "pg_pass = config['POSTGRES_PASS']"
   ]
  },
  {
   "cell_type": "code",
   "execution_count": 113,
   "id": "e7b75227",
   "metadata": {},
   "outputs": [],
   "source": [
    "url = f'postgresql://{pg_user}:{pg_pass}@{pg_host}:{pg_port}/{pg_db}'\n",
    "engine = create_engine(url, echo=False)"
   ]
  },
  {
   "cell_type": "code",
   "execution_count": 114,
   "id": "b54d720a",
   "metadata": {},
   "outputs": [],
   "source": [
    "my_schema = 'team_5' # update it to your schema\n",
    "\n",
    "with engine.begin() as conn: \n",
    "    result = conn.execute(text(f'SET search_path TO {my_schema};'))"
   ]
  },
  {
   "cell_type": "code",
   "execution_count": 115,
   "id": "ec990454",
   "metadata": {},
   "outputs": [],
   "source": [
    "df_1= pd.read_csv('../data/Raw/World_Marriage_Dataset.csv')"
   ]
  },
  {
   "cell_type": "code",
   "execution_count": 116,
   "id": "3aeb2463",
   "metadata": {},
   "outputs": [],
   "source": [
    "df_1.drop(columns=[\"Sr.No.\"], inplace=True)"
   ]
  },
  {
   "cell_type": "code",
   "execution_count": 117,
   "id": "3ecbef6c",
   "metadata": {},
   "outputs": [],
   "source": [
    "df_1.columns = df_1.columns.str.lower() \\\n",
    "    .str.replace(' ', '_') \\\n",
    "    .str.replace('(', '') \\\n",
    "    .str.replace(')', '') \\\n",
    "    .str.replace('[^0-9a-zA-Z_]', '', regex=True)"
   ]
  },
  {
   "cell_type": "code",
   "execution_count": 118,
   "id": "de0ed567",
   "metadata": {},
   "outputs": [],
   "source": [
    "df_1.rename(columns={\n",
    "    \"agegroup\": \"age_group\",\n",
    "    \"maritalstatus\": \"marital_status\",\n",
    "    \"dataprocess\": \"data_process\",\n",
    "    \"Data Collection (Start Year)\": \"data_collection_start_year\",\n",
    "    \"Data Collection (End Year)\": \"data_collection_end_year\",\n",
    "    \"Data Source\": \"data_source\",\n",
    "    \"Country\": \"country\",\n",
    "    \"Sex\": \"sex\"\n",
    "}, inplace=True)"
   ]
  },
  {
   "cell_type": "code",
   "execution_count": 119,
   "id": "7268fa4e",
   "metadata": {},
   "outputs": [],
   "source": [
    "df_1.drop_duplicates(inplace=True)\n",
    "\n",
    "df_1['data_collection_start_year'] = df_1['data_collection_start_year'].astype(str).str.replace(',', '').astype(int)\n",
    "df_1['data_collection_end_year'] = df_1['data_collection_end_year'].astype(str).str.replace(',', '').astype(int)"
   ]
  },
  {
   "cell_type": "code",
   "execution_count": 120,
   "id": "88ac1c68",
   "metadata": {},
   "outputs": [
    {
     "data": {
      "text/plain": [
       "country                       0\n",
       "age_group                     0\n",
       "sex                           0\n",
       "marital_status                0\n",
       "data_process                  0\n",
       "data_collection_start_year    0\n",
       "data_collection_end_year      0\n",
       "data_source                   0\n",
       "dtype: int64"
      ]
     },
     "execution_count": 120,
     "metadata": {},
     "output_type": "execute_result"
    }
   ],
   "source": [
    "df_1.isnull().sum()"
   ]
  },
  {
   "cell_type": "code",
   "execution_count": null,
   "id": "0a9a1cdd",
   "metadata": {},
   "outputs": [],
   "source": [
    "#df_1.to_csv(\"cleaned_world_marriage.csv\", index=False)"
   ]
  },
  {
   "cell_type": "code",
   "execution_count": 121,
   "id": "1faea9f6",
   "metadata": {},
   "outputs": [],
   "source": [
    "df_2 = pd.read_csv('../data/Raw/age-at-marriage-women.csv')"
   ]
  },
  {
   "cell_type": "code",
   "execution_count": 122,
   "id": "db32400b",
   "metadata": {},
   "outputs": [],
   "source": [
    "df_2.columns = df_2.columns.str.lower() \\\n",
    "    .str.replace(' ', '_') \\\n",
    "    .str.replace('(', '') \\\n",
    "    .str.replace(')', '') \\\n",
    "    .str.replace('[^0-9a-zA-Z_]', '', regex=True)"
   ]
  },
  {
   "cell_type": "code",
   "execution_count": 123,
   "id": "149d8113",
   "metadata": {},
   "outputs": [],
   "source": [
    "df_2 = df_2.drop(columns=['1005564annotations'])\n",
    "\n",
    "df_2.rename(columns={\n",
    "    \"entity\": \"country\",   \n",
    "}, inplace=True)"
   ]
  },
  {
   "cell_type": "code",
   "execution_count": 124,
   "id": "5b1591c4",
   "metadata": {},
   "outputs": [],
   "source": [
    "df_2.drop_duplicates(inplace=True)\n"
   ]
  },
  {
   "cell_type": "code",
   "execution_count": 125,
   "id": "c2d7dd53",
   "metadata": {},
   "outputs": [],
   "source": [
    "df_2['year'] = df_2['year'].astype(str).str.replace(',', '').astype(int)"
   ]
  },
  {
   "cell_type": "code",
   "execution_count": 126,
   "id": "69b7a060",
   "metadata": {},
   "outputs": [
    {
     "data": {
      "text/plain": [
       "country                                0\n",
       "code                                   0\n",
       "year                                   0\n",
       "mean_age_of_women_at_first_marriage    0\n",
       "dtype: int64"
      ]
     },
     "execution_count": 126,
     "metadata": {},
     "output_type": "execute_result"
    }
   ],
   "source": [
    "df_2.isnull().sum()"
   ]
  },
  {
   "cell_type": "code",
   "execution_count": null,
   "id": "988b26e6",
   "metadata": {},
   "outputs": [],
   "source": [
    "#df_2.to_csv(\"cleaned_age_at_marriage_women.csv\", index=False)"
   ]
  },
  {
   "cell_type": "code",
   "execution_count": 127,
   "id": "77d0c360",
   "metadata": {},
   "outputs": [],
   "source": [
    "df_3= pd.read_csv('../data/Raw/marriage-rate-per-1000-inhabitants.csv')"
   ]
  },
  {
   "cell_type": "code",
   "execution_count": 128,
   "id": "e846027f",
   "metadata": {},
   "outputs": [],
   "source": [
    "df_3.columns = df_3.columns.str.lower() \\\n",
    "    .str.replace(' ', '_') \\\n",
    "    .str.replace('(', '') \\\n",
    "    .str.replace(')', '') \\\n",
    "    .str.replace('[^0-9a-zA-Z_]', '', regex=True)"
   ]
  },
  {
   "cell_type": "code",
   "execution_count": 129,
   "id": "193dc9a1",
   "metadata": {},
   "outputs": [],
   "source": [
    "df_3.rename(columns={\n",
    "    \"entity\": \"country\",   \n",
    "}, inplace=True)"
   ]
  },
  {
   "cell_type": "code",
   "execution_count": 130,
   "id": "d04666fc",
   "metadata": {},
   "outputs": [],
   "source": [
    "df_3['year'] = df_3['year'].astype(str).str.replace(',', '').astype(int)"
   ]
  },
  {
   "cell_type": "code",
   "execution_count": 131,
   "id": "ff7e90f7",
   "metadata": {},
   "outputs": [],
   "source": [
    "df_3.drop_duplicates(inplace=True)\n"
   ]
  },
  {
   "cell_type": "code",
   "execution_count": 132,
   "id": "dd9484b1",
   "metadata": {},
   "outputs": [
    {
     "data": {
      "text/plain": [
       "country                                          0\n",
       "code                                             0\n",
       "year                                             0\n",
       "crude_marriage_rate_marriages_per_1000_people    0\n",
       "dtype: int64"
      ]
     },
     "execution_count": 132,
     "metadata": {},
     "output_type": "execute_result"
    }
   ],
   "source": [
    "df_3.isnull().sum()"
   ]
  },
  {
   "cell_type": "code",
   "execution_count": null,
   "id": "d0be7f40",
   "metadata": {},
   "outputs": [],
   "source": [
    "#df_3.to_csv(\"cleaned_marriage-rate-per-1000-inhabitants.csv\", index=False)"
   ]
  },
  {
   "cell_type": "code",
   "execution_count": 133,
   "id": "aa41d55e",
   "metadata": {},
   "outputs": [],
   "source": [
    "df_4= pd.read_csv('../data/Raw/marriage-rates-in-1990-vs-2020.csv')"
   ]
  },
  {
   "cell_type": "code",
   "execution_count": 134,
   "id": "3edd8a12",
   "metadata": {},
   "outputs": [],
   "source": [
    "df_4.columns = df_4.columns.str.lower() \\\n",
    "    .str.replace(' ', '') \\\n",
    "    .str.replace('(', '') \\\n",
    "    .str.replace(')', '') \\\n",
    "    .str.replace('[^0-9a-zA-Z_]', '', regex=True)"
   ]
  },
  {
   "cell_type": "code",
   "execution_count": 135,
   "id": "266353a0",
   "metadata": {},
   "outputs": [],
   "source": [
    "df_4 = df_4.drop(columns=['worldregionsaccordingtoowid'])\n",
    "\n",
    "df_4.rename(columns={\n",
    "    \"crudemarriageratemarriagesper1000people\": \"crude_marriage_rate\",\n",
    "    \"crudemarriageratemarriagesper1000people1\": \"crude_marriage_rate_people1\",\n",
    "    \"year1\": \"year_1\",\n",
    "    \"entity\": \"country\"\n",
    "}, inplace=True)"
   ]
  },
  {
   "cell_type": "code",
   "execution_count": 136,
   "id": "74f449df",
   "metadata": {},
   "outputs": [],
   "source": [
    "df_4.drop_duplicates(inplace=True)\n",
    "df_4.dropna(inplace=True)"
   ]
  },
  {
   "cell_type": "code",
   "execution_count": 137,
   "id": "ecc2e9d1",
   "metadata": {},
   "outputs": [],
   "source": [
    "df_4['year_1'] = pd.to_numeric(df_4['year_1'], errors='coerce').astype('Int64')"
   ]
  },
  {
   "cell_type": "code",
   "execution_count": 138,
   "id": "9c07c47b",
   "metadata": {},
   "outputs": [
    {
     "data": {
      "text/plain": [
       "country                        0\n",
       "code                           0\n",
       "year                           0\n",
       "crude_marriage_rate            0\n",
       "crude_marriage_rate_people1    0\n",
       "year_1                         0\n",
       "dtype: int64"
      ]
     },
     "execution_count": 138,
     "metadata": {},
     "output_type": "execute_result"
    }
   ],
   "source": [
    "df_4.isnull().sum()"
   ]
  },
  {
   "cell_type": "code",
   "execution_count": null,
   "id": "9d60e3c9",
   "metadata": {},
   "outputs": [],
   "source": [
    "#df_4.to_csv(\"cleaned_marriage-rates-in-1990-vs-2020.csv\", index=False)"
   ]
  },
  {
   "cell_type": "code",
   "execution_count": 139,
   "id": "133d47b0",
   "metadata": {},
   "outputs": [],
   "source": [
    "df_5 = pd.read_csv('../data/Raw/share-of-births-outside-marriage.csv')"
   ]
  },
  {
   "cell_type": "code",
   "execution_count": 140,
   "id": "4d3243d2",
   "metadata": {},
   "outputs": [],
   "source": [
    "df_5.columns = df_5.columns.str.lower() \\\n",
    "    .str.replace(' ', '') \\\n",
    "    .str.replace('(', '') \\\n",
    "    .str.replace(')', '') \\\n",
    "    .str.replace('[^0-9a-zA-Z_]', '', regex=True)"
   ]
  },
  {
   "cell_type": "code",
   "execution_count": 141,
   "id": "80b37147",
   "metadata": {},
   "outputs": [],
   "source": [
    "\n",
    "df_5.rename(columns={\n",
    "    \"shareofbirthsoutsideofmarriageofallbirths\": \"share_of_births_outside_of_marriage\",\n",
    "    \"entity\": \"country\"\n",
    "}, inplace=True)\n",
    "\n",
    "df_5.drop_duplicates(inplace=True)"
   ]
  },
  {
   "cell_type": "code",
   "execution_count": 142,
   "id": "17dfcb86",
   "metadata": {},
   "outputs": [
    {
     "data": {
      "text/plain": [
       "country                                0\n",
       "code                                   0\n",
       "year                                   0\n",
       "share_of_births_outside_of_marriage    0\n",
       "dtype: int64"
      ]
     },
     "execution_count": 142,
     "metadata": {},
     "output_type": "execute_result"
    }
   ],
   "source": [
    "df_5.isnull().sum()"
   ]
  },
  {
   "cell_type": "code",
   "execution_count": null,
   "id": "a1ecb1ab",
   "metadata": {},
   "outputs": [],
   "source": [
    "#df_5.to_csv(\"cleaned_share-of-births-outside-marriage.csv\", index=False)"
   ]
  },
  {
   "cell_type": "code",
   "execution_count": 143,
   "id": "11e9d430",
   "metadata": {},
   "outputs": [],
   "source": [
    "df_6 = pd.read_csv('../data/Raw/share-of-men-in-england-and-wales-who-have-ever-married-by-age.csv')"
   ]
  },
  {
   "cell_type": "code",
   "execution_count": 144,
   "id": "dc05526d",
   "metadata": {},
   "outputs": [
    {
     "data": {
      "text/html": [
       "<div>\n",
       "<style scoped>\n",
       "    .dataframe tbody tr th:only-of-type {\n",
       "        vertical-align: middle;\n",
       "    }\n",
       "\n",
       "    .dataframe tbody tr th {\n",
       "        vertical-align: top;\n",
       "    }\n",
       "\n",
       "    .dataframe thead th {\n",
       "        text-align: right;\n",
       "    }\n",
       "</style>\n",
       "<table border=\"1\" class=\"dataframe\">\n",
       "  <thead>\n",
       "    <tr style=\"text-align: right;\">\n",
       "      <th></th>\n",
       "      <th>entity</th>\n",
       "      <th>code</th>\n",
       "      <th>year</th>\n",
       "      <th>proportionsofmenorwomenwhohadevermarriedbyacertainagefor1900birthcohort</th>\n",
       "      <th>proportionsofmenorwomenwhohadevermarriedbyacertainagefor1920birthcohort</th>\n",
       "      <th>proportionsofmenorwomenwhohadevermarriedbyacertainagefor1940birthcohort</th>\n",
       "      <th>proportionsofmenorwomenwhohadevermarriedbyacertainagefor1960birthcohort</th>\n",
       "      <th>proportionsofmenorwomenwhohadevermarriedbyacertainagefor1970birthcohort</th>\n",
       "      <th>proportionsofmenorwomenwhohadevermarriedbyacertainagefor1980birthcohort</th>\n",
       "      <th>proportionsofmenorwomenwhohadevermarriedbyacertainagefor1990birthcohort</th>\n",
       "      <th>proportionsofmenorwomenwhohadevermarriedbyacertainagefor2000birthcohort</th>\n",
       "    </tr>\n",
       "  </thead>\n",
       "  <tbody>\n",
       "    <tr>\n",
       "      <th>39</th>\n",
       "      <td>Women</td>\n",
       "      <td>NaN</td>\n",
       "      <td>22</td>\n",
       "      <td>24.3</td>\n",
       "      <td>39.3</td>\n",
       "      <td>57.5</td>\n",
       "      <td>40.6</td>\n",
       "      <td>18.2</td>\n",
       "      <td>7.1</td>\n",
       "      <td>2.9</td>\n",
       "      <td>0.9</td>\n",
       "    </tr>\n",
       "    <tr>\n",
       "      <th>46</th>\n",
       "      <td>Women</td>\n",
       "      <td>NaN</td>\n",
       "      <td>29</td>\n",
       "      <td>68.7</td>\n",
       "      <td>80.4</td>\n",
       "      <td>89.8</td>\n",
       "      <td>74.5</td>\n",
       "      <td>52.4</td>\n",
       "      <td>33.6</td>\n",
       "      <td>24.8</td>\n",
       "      <td>NaN</td>\n",
       "    </tr>\n",
       "    <tr>\n",
       "      <th>44</th>\n",
       "      <td>Women</td>\n",
       "      <td>NaN</td>\n",
       "      <td>27</td>\n",
       "      <td>60.4</td>\n",
       "      <td>73.4</td>\n",
       "      <td>86.6</td>\n",
       "      <td>68.9</td>\n",
       "      <td>44.7</td>\n",
       "      <td>25.2</td>\n",
       "      <td>16.6</td>\n",
       "      <td>NaN</td>\n",
       "    </tr>\n",
       "    <tr>\n",
       "      <th>43</th>\n",
       "      <td>Women</td>\n",
       "      <td>NaN</td>\n",
       "      <td>26</td>\n",
       "      <td>55.1</td>\n",
       "      <td>68.3</td>\n",
       "      <td>84.2</td>\n",
       "      <td>65.2</td>\n",
       "      <td>40.1</td>\n",
       "      <td>21.2</td>\n",
       "      <td>12.9</td>\n",
       "      <td>NaN</td>\n",
       "    </tr>\n",
       "    <tr>\n",
       "      <th>28</th>\n",
       "      <td>Men</td>\n",
       "      <td>NaN</td>\n",
       "      <td>45</td>\n",
       "      <td>91.8</td>\n",
       "      <td>91.3</td>\n",
       "      <td>92.0</td>\n",
       "      <td>80.5</td>\n",
       "      <td>68.2</td>\n",
       "      <td>NaN</td>\n",
       "      <td>NaN</td>\n",
       "      <td>NaN</td>\n",
       "    </tr>\n",
       "  </tbody>\n",
       "</table>\n",
       "</div>"
      ],
      "text/plain": [
       "   entity  code  year  \\\n",
       "39  Women   NaN    22   \n",
       "46  Women   NaN    29   \n",
       "44  Women   NaN    27   \n",
       "43  Women   NaN    26   \n",
       "28    Men   NaN    45   \n",
       "\n",
       "    proportionsofmenorwomenwhohadevermarriedbyacertainagefor1900birthcohort  \\\n",
       "39                                               24.3                         \n",
       "46                                               68.7                         \n",
       "44                                               60.4                         \n",
       "43                                               55.1                         \n",
       "28                                               91.8                         \n",
       "\n",
       "    proportionsofmenorwomenwhohadevermarriedbyacertainagefor1920birthcohort  \\\n",
       "39                                               39.3                         \n",
       "46                                               80.4                         \n",
       "44                                               73.4                         \n",
       "43                                               68.3                         \n",
       "28                                               91.3                         \n",
       "\n",
       "    proportionsofmenorwomenwhohadevermarriedbyacertainagefor1940birthcohort  \\\n",
       "39                                               57.5                         \n",
       "46                                               89.8                         \n",
       "44                                               86.6                         \n",
       "43                                               84.2                         \n",
       "28                                               92.0                         \n",
       "\n",
       "    proportionsofmenorwomenwhohadevermarriedbyacertainagefor1960birthcohort  \\\n",
       "39                                               40.6                         \n",
       "46                                               74.5                         \n",
       "44                                               68.9                         \n",
       "43                                               65.2                         \n",
       "28                                               80.5                         \n",
       "\n",
       "    proportionsofmenorwomenwhohadevermarriedbyacertainagefor1970birthcohort  \\\n",
       "39                                               18.2                         \n",
       "46                                               52.4                         \n",
       "44                                               44.7                         \n",
       "43                                               40.1                         \n",
       "28                                               68.2                         \n",
       "\n",
       "    proportionsofmenorwomenwhohadevermarriedbyacertainagefor1980birthcohort  \\\n",
       "39                                                7.1                         \n",
       "46                                               33.6                         \n",
       "44                                               25.2                         \n",
       "43                                               21.2                         \n",
       "28                                                NaN                         \n",
       "\n",
       "    proportionsofmenorwomenwhohadevermarriedbyacertainagefor1990birthcohort  \\\n",
       "39                                                2.9                         \n",
       "46                                               24.8                         \n",
       "44                                               16.6                         \n",
       "43                                               12.9                         \n",
       "28                                                NaN                         \n",
       "\n",
       "    proportionsofmenorwomenwhohadevermarriedbyacertainagefor2000birthcohort  \n",
       "39                                                0.9                        \n",
       "46                                                NaN                        \n",
       "44                                                NaN                        \n",
       "43                                                NaN                        \n",
       "28                                                NaN                        "
      ]
     },
     "execution_count": 144,
     "metadata": {},
     "output_type": "execute_result"
    }
   ],
   "source": [
    "df_6.columns = df_6.columns.str.lower() \\\n",
    "    .str.replace(' ', '') \\\n",
    "    .str.replace('(', '') \\\n",
    "    .str.replace(')', '') \\\n",
    "    .str.replace('[^0-9a-zA-Z_]', '', regex=True)\n",
    "\n",
    "df_6.drop_duplicates(inplace=True)\n",
    "df_6.sample(5)"
   ]
  },
  {
   "cell_type": "code",
   "execution_count": 145,
   "id": "488391fa",
   "metadata": {},
   "outputs": [],
   "source": [
    "df_6 = df_6.drop(columns=['code','proportionsofmenorwomenwhohadevermarriedbyacertainagefor1980birthcohort',\n",
    "    'proportionsofmenorwomenwhohadevermarriedbyacertainagefor1990birthcohort',\n",
    "    'proportionsofmenorwomenwhohadevermarriedbyacertainagefor2000birthcohort'])\n",
    "\n",
    "df_6.rename(columns={\n",
    "    \"proportionsofmenorwomenwhohadevermarriedbyacertainagefor1900birthcohort\": \"1900_birthcohort\",\n",
    "    \"proportionsofmenorwomenwhohadevermarriedbyacertainagefor1920birthcohort\": \"1920_birthcohort\",\n",
    "    \"proportionsofmenorwomenwhohadevermarriedbyacertainagefor1940birthcohort\": \"1940_birthcohort\",\n",
    "    \"proportionsofmenorwomenwhohadevermarriedbyacertainagefor1960birthcohort\": \"1960_birthcohort\",\n",
    "    \"proportionsofmenorwomenwhohadevermarriedbyacertainagefor1970birthcohort\": \"1970_birthcohort\",\n",
    "    \"entity\": \"sex\"\n",
    "}, inplace=True)"
   ]
  },
  {
   "cell_type": "code",
   "execution_count": 146,
   "id": "b67b700e",
   "metadata": {},
   "outputs": [
    {
     "data": {
      "text/plain": [
       "sex                 0\n",
       "year                0\n",
       "1900_birthcohort    0\n",
       "1920_birthcohort    0\n",
       "1940_birthcohort    0\n",
       "1960_birthcohort    0\n",
       "1970_birthcohort    0\n",
       "dtype: int64"
      ]
     },
     "execution_count": 146,
     "metadata": {},
     "output_type": "execute_result"
    }
   ],
   "source": [
    "df_6.isnull().sum()"
   ]
  },
  {
   "cell_type": "code",
   "execution_count": null,
   "id": "bd00250c",
   "metadata": {},
   "outputs": [],
   "source": [
    "#df_6.to_csv(\"cleaned_share-of-men-in-england-and-wales-who-have-ever-married-by-age.csv\", index=False)"
   ]
  },
  {
   "cell_type": "code",
   "execution_count": 147,
   "id": "8ed51e81",
   "metadata": {},
   "outputs": [],
   "source": [
    "df_7 = pd.read_csv('../data/Raw/share-of-single-parent-households.csv')"
   ]
  },
  {
   "cell_type": "code",
   "execution_count": 148,
   "id": "61daddb4",
   "metadata": {},
   "outputs": [],
   "source": [
    "df_7.columns = df_7.columns.str.lower() \\\n",
    "    .str.replace(' ', '') \\\n",
    "    .str.replace('(', '') \\\n",
    "    .str.replace(')', '') \\\n",
    "    .str.replace('[^0-9a-zA-Z_]', '', regex=True)"
   ]
  },
  {
   "cell_type": "code",
   "execution_count": 149,
   "id": "6c9dd325",
   "metadata": {},
   "outputs": [
    {
     "data": {
      "text/html": [
       "<div>\n",
       "<style scoped>\n",
       "    .dataframe tbody tr th:only-of-type {\n",
       "        vertical-align: middle;\n",
       "    }\n",
       "\n",
       "    .dataframe tbody tr th {\n",
       "        vertical-align: top;\n",
       "    }\n",
       "\n",
       "    .dataframe thead th {\n",
       "        text-align: right;\n",
       "    }\n",
       "</style>\n",
       "<table border=\"1\" class=\"dataframe\">\n",
       "  <thead>\n",
       "    <tr style=\"text-align: right;\">\n",
       "      <th></th>\n",
       "      <th>country</th>\n",
       "      <th>code</th>\n",
       "      <th>year</th>\n",
       "      <th>share_of_single_parent_households</th>\n",
       "    </tr>\n",
       "  </thead>\n",
       "  <tbody>\n",
       "    <tr>\n",
       "      <th>247</th>\n",
       "      <td>Greece</td>\n",
       "      <td>GRC</td>\n",
       "      <td>1991</td>\n",
       "      <td>5.37</td>\n",
       "    </tr>\n",
       "    <tr>\n",
       "      <th>587</th>\n",
       "      <td>Russia</td>\n",
       "      <td>RUS</td>\n",
       "      <td>2002</td>\n",
       "      <td>5.62</td>\n",
       "    </tr>\n",
       "    <tr>\n",
       "      <th>648</th>\n",
       "      <td>Spain</td>\n",
       "      <td>ESP</td>\n",
       "      <td>1991</td>\n",
       "      <td>6.74</td>\n",
       "    </tr>\n",
       "    <tr>\n",
       "      <th>394</th>\n",
       "      <td>Lesotho</td>\n",
       "      <td>LSO</td>\n",
       "      <td>2018</td>\n",
       "      <td>10.98</td>\n",
       "    </tr>\n",
       "    <tr>\n",
       "      <th>730</th>\n",
       "      <td>Uruguay</td>\n",
       "      <td>URY</td>\n",
       "      <td>1963</td>\n",
       "      <td>7.33</td>\n",
       "    </tr>\n",
       "  </tbody>\n",
       "</table>\n",
       "</div>"
      ],
      "text/plain": [
       "     country code  year  share_of_single_parent_households\n",
       "247   Greece  GRC  1991                               5.37\n",
       "587   Russia  RUS  2002                               5.62\n",
       "648    Spain  ESP  1991                               6.74\n",
       "394  Lesotho  LSO  2018                              10.98\n",
       "730  Uruguay  URY  1963                               7.33"
      ]
     },
     "execution_count": 149,
     "metadata": {},
     "output_type": "execute_result"
    }
   ],
   "source": [
    "df_7.rename(columns={\n",
    "    \"shareofsingleparenthouseholds\": \"share_of_single_parent_households\",\n",
    "    \"entity\": \"country\"\n",
    "}, inplace=True)\n",
    "\n",
    "df_7.drop_duplicates(inplace=True)\n",
    "df_7.sample(5)"
   ]
  },
  {
   "cell_type": "code",
   "execution_count": 150,
   "id": "e5af1f58",
   "metadata": {},
   "outputs": [
    {
     "data": {
      "text/plain": [
       "country                              0\n",
       "code                                 0\n",
       "year                                 0\n",
       "share_of_single_parent_households    0\n",
       "dtype: int64"
      ]
     },
     "execution_count": 150,
     "metadata": {},
     "output_type": "execute_result"
    }
   ],
   "source": [
    "df_7.isnull().sum()"
   ]
  },
  {
   "cell_type": "code",
   "execution_count": null,
   "id": "b4b4dcb3",
   "metadata": {},
   "outputs": [],
   "source": [
    "#df_7.to_csv(\"cleaned_share-of-single-parent-households.csv\", index=False)"
   ]
  },
  {
   "cell_type": "code",
   "execution_count": 151,
   "id": "04b4cf2f",
   "metadata": {},
   "outputs": [],
   "source": [
    "df_8 = pd.read_csv('../data/Raw/share-of-women-in-england-and-wales-who-have-ever-married-by-age.csv')"
   ]
  },
  {
   "cell_type": "code",
   "execution_count": 152,
   "id": "911bd461",
   "metadata": {},
   "outputs": [],
   "source": [
    "df_8.columns = df_8.columns.str.lower() \\\n",
    "    .str.replace(' ', '') \\\n",
    "    .str.replace('(', '') \\\n",
    "    .str.replace(')', '') \\\n",
    "    .str.replace('[^0-9a-zA-Z_]', '', regex=True)"
   ]
  },
  {
   "cell_type": "code",
   "execution_count": 153,
   "id": "f7713ec1",
   "metadata": {},
   "outputs": [
    {
     "data": {
      "text/html": [
       "<div>\n",
       "<style scoped>\n",
       "    .dataframe tbody tr th:only-of-type {\n",
       "        vertical-align: middle;\n",
       "    }\n",
       "\n",
       "    .dataframe tbody tr th {\n",
       "        vertical-align: top;\n",
       "    }\n",
       "\n",
       "    .dataframe thead th {\n",
       "        text-align: right;\n",
       "    }\n",
       "</style>\n",
       "<table border=\"1\" class=\"dataframe\">\n",
       "  <thead>\n",
       "    <tr style=\"text-align: right;\">\n",
       "      <th></th>\n",
       "      <th>entity</th>\n",
       "      <th>code</th>\n",
       "      <th>year</th>\n",
       "      <th>proportionsofmenorwomenwhohadevermarriedbyacertainagefor1900birthcohort</th>\n",
       "      <th>proportionsofmenorwomenwhohadevermarriedbyacertainagefor1920birthcohort</th>\n",
       "      <th>proportionsofmenorwomenwhohadevermarriedbyacertainagefor1940birthcohort</th>\n",
       "      <th>proportionsofmenorwomenwhohadevermarriedbyacertainagefor1960birthcohort</th>\n",
       "      <th>proportionsofmenorwomenwhohadevermarriedbyacertainagefor1970birthcohort</th>\n",
       "      <th>proportionsofmenorwomenwhohadevermarriedbyacertainagefor1980birthcohort</th>\n",
       "      <th>proportionsofmenorwomenwhohadevermarriedbyacertainagefor1990birthcohort</th>\n",
       "      <th>proportionsofmenorwomenwhohadevermarriedbyacertainagefor2000birthcohort</th>\n",
       "    </tr>\n",
       "  </thead>\n",
       "  <tbody>\n",
       "    <tr>\n",
       "      <th>19</th>\n",
       "      <td>Men</td>\n",
       "      <td>GBR</td>\n",
       "      <td>36</td>\n",
       "      <td>86.1</td>\n",
       "      <td>87.6</td>\n",
       "      <td>89.7</td>\n",
       "      <td>74.8</td>\n",
       "      <td>58.3</td>\n",
       "      <td>46.7</td>\n",
       "      <td>NaN</td>\n",
       "      <td>NaN</td>\n",
       "    </tr>\n",
       "    <tr>\n",
       "      <th>20</th>\n",
       "      <td>Men</td>\n",
       "      <td>GBR</td>\n",
       "      <td>37</td>\n",
       "      <td>87.1</td>\n",
       "      <td>88.4</td>\n",
       "      <td>90.1</td>\n",
       "      <td>75.8</td>\n",
       "      <td>59.8</td>\n",
       "      <td>49.0</td>\n",
       "      <td>NaN</td>\n",
       "      <td>NaN</td>\n",
       "    </tr>\n",
       "    <tr>\n",
       "      <th>62</th>\n",
       "      <td>Women</td>\n",
       "      <td>GBR</td>\n",
       "      <td>45</td>\n",
       "      <td>84.2</td>\n",
       "      <td>91.4</td>\n",
       "      <td>95.4</td>\n",
       "      <td>86.7</td>\n",
       "      <td>74.5</td>\n",
       "      <td>NaN</td>\n",
       "      <td>NaN</td>\n",
       "      <td>NaN</td>\n",
       "    </tr>\n",
       "    <tr>\n",
       "      <th>17</th>\n",
       "      <td>Men</td>\n",
       "      <td>GBR</td>\n",
       "      <td>34</td>\n",
       "      <td>83.2</td>\n",
       "      <td>85.5</td>\n",
       "      <td>88.5</td>\n",
       "      <td>72.4</td>\n",
       "      <td>53.7</td>\n",
       "      <td>40.9</td>\n",
       "      <td>NaN</td>\n",
       "      <td>NaN</td>\n",
       "    </tr>\n",
       "    <tr>\n",
       "      <th>64</th>\n",
       "      <td>Women</td>\n",
       "      <td>GBR</td>\n",
       "      <td>47</td>\n",
       "      <td>84.8</td>\n",
       "      <td>91.7</td>\n",
       "      <td>95.6</td>\n",
       "      <td>87.0</td>\n",
       "      <td>75.4</td>\n",
       "      <td>NaN</td>\n",
       "      <td>NaN</td>\n",
       "      <td>NaN</td>\n",
       "    </tr>\n",
       "  </tbody>\n",
       "</table>\n",
       "</div>"
      ],
      "text/plain": [
       "   entity code  year  \\\n",
       "19    Men  GBR    36   \n",
       "20    Men  GBR    37   \n",
       "62  Women  GBR    45   \n",
       "17    Men  GBR    34   \n",
       "64  Women  GBR    47   \n",
       "\n",
       "    proportionsofmenorwomenwhohadevermarriedbyacertainagefor1900birthcohort  \\\n",
       "19                                               86.1                         \n",
       "20                                               87.1                         \n",
       "62                                               84.2                         \n",
       "17                                               83.2                         \n",
       "64                                               84.8                         \n",
       "\n",
       "    proportionsofmenorwomenwhohadevermarriedbyacertainagefor1920birthcohort  \\\n",
       "19                                               87.6                         \n",
       "20                                               88.4                         \n",
       "62                                               91.4                         \n",
       "17                                               85.5                         \n",
       "64                                               91.7                         \n",
       "\n",
       "    proportionsofmenorwomenwhohadevermarriedbyacertainagefor1940birthcohort  \\\n",
       "19                                               89.7                         \n",
       "20                                               90.1                         \n",
       "62                                               95.4                         \n",
       "17                                               88.5                         \n",
       "64                                               95.6                         \n",
       "\n",
       "    proportionsofmenorwomenwhohadevermarriedbyacertainagefor1960birthcohort  \\\n",
       "19                                               74.8                         \n",
       "20                                               75.8                         \n",
       "62                                               86.7                         \n",
       "17                                               72.4                         \n",
       "64                                               87.0                         \n",
       "\n",
       "    proportionsofmenorwomenwhohadevermarriedbyacertainagefor1970birthcohort  \\\n",
       "19                                               58.3                         \n",
       "20                                               59.8                         \n",
       "62                                               74.5                         \n",
       "17                                               53.7                         \n",
       "64                                               75.4                         \n",
       "\n",
       "    proportionsofmenorwomenwhohadevermarriedbyacertainagefor1980birthcohort  \\\n",
       "19                                               46.7                         \n",
       "20                                               49.0                         \n",
       "62                                                NaN                         \n",
       "17                                               40.9                         \n",
       "64                                                NaN                         \n",
       "\n",
       "    proportionsofmenorwomenwhohadevermarriedbyacertainagefor1990birthcohort  \\\n",
       "19                                                NaN                         \n",
       "20                                                NaN                         \n",
       "62                                                NaN                         \n",
       "17                                                NaN                         \n",
       "64                                                NaN                         \n",
       "\n",
       "    proportionsofmenorwomenwhohadevermarriedbyacertainagefor2000birthcohort  \n",
       "19                                                NaN                        \n",
       "20                                                NaN                        \n",
       "62                                                NaN                        \n",
       "17                                                NaN                        \n",
       "64                                                NaN                        "
      ]
     },
     "execution_count": 153,
     "metadata": {},
     "output_type": "execute_result"
    }
   ],
   "source": [
    "df_8['code'] = df_8['code'].fillna('GBR')\n",
    "df_8.sample(5)"
   ]
  },
  {
   "cell_type": "code",
   "execution_count": 154,
   "id": "88bb818e",
   "metadata": {},
   "outputs": [
    {
     "data": {
      "text/html": [
       "<div>\n",
       "<style scoped>\n",
       "    .dataframe tbody tr th:only-of-type {\n",
       "        vertical-align: middle;\n",
       "    }\n",
       "\n",
       "    .dataframe tbody tr th {\n",
       "        vertical-align: top;\n",
       "    }\n",
       "\n",
       "    .dataframe thead th {\n",
       "        text-align: right;\n",
       "    }\n",
       "</style>\n",
       "<table border=\"1\" class=\"dataframe\">\n",
       "  <thead>\n",
       "    <tr style=\"text-align: right;\">\n",
       "      <th></th>\n",
       "      <th>sex</th>\n",
       "      <th>year</th>\n",
       "      <th>1900_birthcohort</th>\n",
       "      <th>1920_birthcohort</th>\n",
       "      <th>1940_birthcohort</th>\n",
       "      <th>1960_birthcohort</th>\n",
       "      <th>1970_birthcohort</th>\n",
       "    </tr>\n",
       "  </thead>\n",
       "  <tbody>\n",
       "    <tr>\n",
       "      <th>52</th>\n",
       "      <td>Women</td>\n",
       "      <td>35</td>\n",
       "      <td>79.0</td>\n",
       "      <td>88.3</td>\n",
       "      <td>93.8</td>\n",
       "      <td>82.8</td>\n",
       "      <td>66.7</td>\n",
       "    </tr>\n",
       "    <tr>\n",
       "      <th>41</th>\n",
       "      <td>Women</td>\n",
       "      <td>24</td>\n",
       "      <td>40.8</td>\n",
       "      <td>56.1</td>\n",
       "      <td>75.5</td>\n",
       "      <td>55.1</td>\n",
       "      <td>29.7</td>\n",
       "    </tr>\n",
       "    <tr>\n",
       "      <th>54</th>\n",
       "      <td>Women</td>\n",
       "      <td>37</td>\n",
       "      <td>80.6</td>\n",
       "      <td>89.4</td>\n",
       "      <td>94.4</td>\n",
       "      <td>84.1</td>\n",
       "      <td>69.4</td>\n",
       "    </tr>\n",
       "    <tr>\n",
       "      <th>36</th>\n",
       "      <td>Women</td>\n",
       "      <td>19</td>\n",
       "      <td>2.1</td>\n",
       "      <td>5.3</td>\n",
       "      <td>13.4</td>\n",
       "      <td>12.1</td>\n",
       "      <td>3.8</td>\n",
       "    </tr>\n",
       "    <tr>\n",
       "      <th>22</th>\n",
       "      <td>Men</td>\n",
       "      <td>39</td>\n",
       "      <td>88.8</td>\n",
       "      <td>89.5</td>\n",
       "      <td>90.8</td>\n",
       "      <td>77.4</td>\n",
       "      <td>62.6</td>\n",
       "    </tr>\n",
       "  </tbody>\n",
       "</table>\n",
       "</div>"
      ],
      "text/plain": [
       "      sex  year  1900_birthcohort  1920_birthcohort  1940_birthcohort  \\\n",
       "52  Women    35              79.0              88.3              93.8   \n",
       "41  Women    24              40.8              56.1              75.5   \n",
       "54  Women    37              80.6              89.4              94.4   \n",
       "36  Women    19               2.1               5.3              13.4   \n",
       "22    Men    39              88.8              89.5              90.8   \n",
       "\n",
       "    1960_birthcohort  1970_birthcohort  \n",
       "52              82.8              66.7  \n",
       "41              55.1              29.7  \n",
       "54              84.1              69.4  \n",
       "36              12.1               3.8  \n",
       "22              77.4              62.6  "
      ]
     },
     "execution_count": 154,
     "metadata": {},
     "output_type": "execute_result"
    }
   ],
   "source": [
    "df_8 = df_8.drop(columns=['code','proportionsofmenorwomenwhohadevermarriedbyacertainagefor1980birthcohort',\n",
    "    'proportionsofmenorwomenwhohadevermarriedbyacertainagefor1990birthcohort',\n",
    "    'proportionsofmenorwomenwhohadevermarriedbyacertainagefor2000birthcohort'])\n",
    "\n",
    "df_8.rename(columns={\n",
    "    \"proportionsofmenorwomenwhohadevermarriedbyacertainagefor1900birthcohort\": \"1900_birthcohort\",\n",
    "    \"proportionsofmenorwomenwhohadevermarriedbyacertainagefor1920birthcohort\": \"1920_birthcohort\",\n",
    "    \"proportionsofmenorwomenwhohadevermarriedbyacertainagefor1940birthcohort\": \"1940_birthcohort\",\n",
    "    \"proportionsofmenorwomenwhohadevermarriedbyacertainagefor1960birthcohort\": \"1960_birthcohort\",\n",
    "    \"proportionsofmenorwomenwhohadevermarriedbyacertainagefor1970birthcohort\": \"1970_birthcohort\",\n",
    "    \"entity\": \"sex\"\n",
    "}, inplace=True)\n",
    "\n",
    "df_8.drop_duplicates(inplace=True)\n",
    "df_8.sample(5)"
   ]
  },
  {
   "cell_type": "code",
   "execution_count": null,
   "id": "d828c548",
   "metadata": {},
   "outputs": [],
   "source": [
    "#df_8.to_csv(\"cleaned_share-of-women-in-england-and-wales-who-have-ever-married-by-age.csv\", index=False)"
   ]
  }
 ],
 "metadata": {
  "kernelspec": {
   "display_name": "py310env",
   "language": "python",
   "name": "python3"
  },
  "language_info": {
   "codemirror_mode": {
    "name": "ipython",
    "version": 3
   },
   "file_extension": ".py",
   "mimetype": "text/x-python",
   "name": "python",
   "nbconvert_exporter": "python",
   "pygments_lexer": "ipython3",
   "version": "3.10.18"
  }
 },
 "nbformat": 4,
 "nbformat_minor": 5
}
