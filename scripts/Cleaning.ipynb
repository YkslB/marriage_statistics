{
 "cells": [
  {
   "cell_type": "code",
   "execution_count": 690,
   "id": "8edbb5ae",
   "metadata": {},
   "outputs": [],
   "source": [
    "import pandas as pd\n",
    "import os\n",
    "from matplotlib import pyplot as plt\n",
    "import seaborn as sns\n",
    "import numpy as np\n",
    "from sqlalchemy import create_engine, types\n",
    "from sqlalchemy import text "
   ]
  },
  {
   "cell_type": "code",
   "execution_count": 691,
   "id": "13566b4a",
   "metadata": {},
   "outputs": [],
   "source": [
    "from dotenv import dotenv_values\n",
    "\n",
    "config = dotenv_values()\n",
    "\n",
    "# define variables for the login\n",
    "pg_user = config['POSTGRES_USER']  # align the key label with your .env file !\n",
    "pg_host = config['POSTGRES_HOST']\n",
    "pg_port = config['POSTGRES_PORT']\n",
    "pg_db = config['POSTGRES_DB']\n",
    "pg_schema = config['POSTGRES_SCHEMA']\n",
    "pg_pass = config['POSTGRES_PASS']"
   ]
  },
  {
   "cell_type": "code",
   "execution_count": 692,
   "id": "e7b75227",
   "metadata": {},
   "outputs": [],
   "source": [
    "url = f'postgresql://{pg_user}:{pg_pass}@{pg_host}:{pg_port}/{pg_db}'\n",
    "engine = create_engine(url, echo=False)"
   ]
  },
  {
   "cell_type": "code",
   "execution_count": 693,
   "id": "b54d720a",
   "metadata": {},
   "outputs": [],
   "source": [
    "my_schema = 'team_5' # update it to your schema\n",
    "\n",
    "with engine.begin() as conn: \n",
    "    result = conn.execute(text(f'SET search_path TO {my_schema};'))"
   ]
  },
  {
   "cell_type": "code",
   "execution_count": 694,
   "id": "ec990454",
   "metadata": {},
   "outputs": [],
   "source": [
    "df_1= pd.read_csv('../data/Raw/World_Marriage_Dataset.csv')"
   ]
  },
  {
   "cell_type": "code",
   "execution_count": 695,
   "id": "3aeb2463",
   "metadata": {},
   "outputs": [],
   "source": [
    "df_1.drop(columns=[\"Sr.No.\"], inplace=True)"
   ]
  },
  {
   "cell_type": "code",
   "execution_count": 696,
   "id": "3ecbef6c",
   "metadata": {},
   "outputs": [],
   "source": [
    "df_1.columns = df_1.columns.str.lower() \\\n",
    "    .str.replace(' ', '_') \\\n",
    "    .str.replace('(', '') \\\n",
    "    .str.replace(')', '') \\\n",
    "    .str.replace('[^0-9a-zA-Z_]', '', regex=True)"
   ]
  },
  {
   "cell_type": "code",
   "execution_count": 697,
   "id": "de0ed567",
   "metadata": {},
   "outputs": [],
   "source": [
    "df_1.rename(columns={\n",
    "    \"agegroup\": \"age_group\",\n",
    "    \"maritalstatus\": \"marital_status\",\n",
    "    \"dataprocess\": \"data_process\",\n",
    "    \"Data Collection (Start Year)\": \"data_collection_start_year\",\n",
    "    \"Data Collection (End Year)\": \"data_collection_end_year\",\n",
    "    \"Data Source\": \"data_source\",\n",
    "    \"Country\": \"country\",\n",
    "    \"Sex\": \"sex\"\n",
    "}, inplace=True)"
   ]
  },
  {
   "cell_type": "code",
   "execution_count": 698,
   "id": "7268fa4e",
   "metadata": {},
   "outputs": [],
   "source": [
    "df_1.drop_duplicates(inplace=True)\n",
    "\n",
    "df_1['data_collection_start_year'] = df_1['data_collection_start_year'].astype(str).str.replace(',', '').astype(int)\n",
    "df_1['data_collection_end_year'] = df_1['data_collection_end_year'].astype(str).str.replace(',', '').astype(int)"
   ]
  },
  {
   "cell_type": "code",
   "execution_count": 699,
   "id": "88ac1c68",
   "metadata": {},
   "outputs": [
    {
     "data": {
      "text/plain": [
       "country                       0\n",
       "age_group                     0\n",
       "sex                           0\n",
       "marital_status                0\n",
       "data_process                  0\n",
       "data_collection_start_year    0\n",
       "data_collection_end_year      0\n",
       "data_source                   0\n",
       "dtype: int64"
      ]
     },
     "execution_count": 699,
     "metadata": {},
     "output_type": "execute_result"
    }
   ],
   "source": [
    "df_1.isnull().sum()"
   ]
  },
  {
   "cell_type": "code",
   "execution_count": 700,
   "id": "0a9a1cdd",
   "metadata": {},
   "outputs": [],
   "source": [
    "#df_1.to_csv(\"cleaned_world_marriage.csv\", index=False)"
   ]
  },
  {
   "cell_type": "code",
   "execution_count": 701,
   "id": "b8f9f959",
   "metadata": {},
   "outputs": [],
   "source": [
    "#df_1.to_sql('world_marriage', engine, if_exists='replace', index=False)"
   ]
  },
  {
   "cell_type": "code",
   "execution_count": 702,
   "id": "1faea9f6",
   "metadata": {},
   "outputs": [],
   "source": [
    "df_2 = pd.read_csv('../data/Raw/age-at-marriage-women.csv')"
   ]
  },
  {
   "cell_type": "code",
   "execution_count": 703,
   "id": "db32400b",
   "metadata": {},
   "outputs": [],
   "source": [
    "df_2.columns = df_2.columns.str.lower() \\\n",
    "    .str.replace(' ', '_') \\\n",
    "    .str.replace('(', '') \\\n",
    "    .str.replace(')', '') \\\n",
    "    .str.replace('[^0-9a-zA-Z_]', '', regex=True)"
   ]
  },
  {
   "cell_type": "code",
   "execution_count": 704,
   "id": "149d8113",
   "metadata": {},
   "outputs": [],
   "source": [
    "df_2 = df_2.drop(columns=['1005564annotations'])\n",
    "\n",
    "df_2.rename(columns={\n",
    "    \"entity\": \"country\",   \n",
    "}, inplace=True)"
   ]
  },
  {
   "cell_type": "code",
   "execution_count": 705,
   "id": "5b1591c4",
   "metadata": {},
   "outputs": [],
   "source": [
    "df_2.drop_duplicates(inplace=True)\n"
   ]
  },
  {
   "cell_type": "code",
   "execution_count": 706,
   "id": "c2d7dd53",
   "metadata": {},
   "outputs": [],
   "source": [
    "df_2['year'] = df_2['year'].astype(str).str.replace(',', '').astype(int)"
   ]
  },
  {
   "cell_type": "code",
   "execution_count": 707,
   "id": "69b7a060",
   "metadata": {},
   "outputs": [
    {
     "data": {
      "text/plain": [
       "country                                0\n",
       "code                                   0\n",
       "year                                   0\n",
       "mean_age_of_women_at_first_marriage    0\n",
       "dtype: int64"
      ]
     },
     "execution_count": 707,
     "metadata": {},
     "output_type": "execute_result"
    }
   ],
   "source": [
    "df_2.isnull().sum()"
   ]
  },
  {
   "cell_type": "code",
   "execution_count": 708,
   "id": "988b26e6",
   "metadata": {},
   "outputs": [],
   "source": [
    "#df_2.to_csv(\"cleaned_age_at_marriage_women.csv\", index=False)"
   ]
  },
  {
   "cell_type": "code",
   "execution_count": 709,
   "id": "c3d6586c",
   "metadata": {},
   "outputs": [],
   "source": [
    "#df_2.to_sql('age_at_marriage_women', engine, if_exists='replace', index=False)"
   ]
  },
  {
   "cell_type": "code",
   "execution_count": 710,
   "id": "77d0c360",
   "metadata": {},
   "outputs": [],
   "source": [
    "df_3= pd.read_csv('../data/Raw/marriage-rate-per-1000-inhabitants.csv')"
   ]
  },
  {
   "cell_type": "code",
   "execution_count": 711,
   "id": "e846027f",
   "metadata": {},
   "outputs": [],
   "source": [
    "df_3.columns = df_3.columns.str.lower() \\\n",
    "    .str.replace(' ', '_') \\\n",
    "    .str.replace('(', '') \\\n",
    "    .str.replace(')', '') \\\n",
    "    .str.replace('[^0-9a-zA-Z_]', '', regex=True)"
   ]
  },
  {
   "cell_type": "code",
   "execution_count": 712,
   "id": "193dc9a1",
   "metadata": {},
   "outputs": [],
   "source": [
    "df_3.rename(columns={\n",
    "    \"entity\": \"country\",   \n",
    "}, inplace=True)"
   ]
  },
  {
   "cell_type": "code",
   "execution_count": 713,
   "id": "d04666fc",
   "metadata": {},
   "outputs": [],
   "source": [
    "df_3['year'] = df_3['year'].astype(str).str.replace(',', '').astype(int)"
   ]
  },
  {
   "cell_type": "code",
   "execution_count": 714,
   "id": "ff7e90f7",
   "metadata": {},
   "outputs": [],
   "source": [
    "df_3.drop_duplicates(inplace=True)\n"
   ]
  },
  {
   "cell_type": "code",
   "execution_count": 715,
   "id": "dd9484b1",
   "metadata": {},
   "outputs": [
    {
     "data": {
      "text/plain": [
       "country                                          0\n",
       "code                                             0\n",
       "year                                             0\n",
       "crude_marriage_rate_marriages_per_1000_people    0\n",
       "dtype: int64"
      ]
     },
     "execution_count": 715,
     "metadata": {},
     "output_type": "execute_result"
    }
   ],
   "source": [
    "df_3.isnull().sum()"
   ]
  },
  {
   "cell_type": "code",
   "execution_count": 716,
   "id": "d0be7f40",
   "metadata": {},
   "outputs": [],
   "source": [
    "#df_3.to_csv(\"cleaned_marriage-rate-per-1000-inhabitants.csv\", index=False)"
   ]
  },
  {
   "cell_type": "code",
   "execution_count": 717,
   "id": "29ed0ffc",
   "metadata": {},
   "outputs": [],
   "source": [
    "#df_3.to_sql('married_rate_per_1000', engine, if_exists='replace', index=False)"
   ]
  },
  {
   "cell_type": "code",
   "execution_count": 718,
   "id": "aa41d55e",
   "metadata": {},
   "outputs": [],
   "source": [
    "df_4= pd.read_csv('../data/Raw/marriage-rates-in-1990-vs-2020.csv')"
   ]
  },
  {
   "cell_type": "code",
   "execution_count": 719,
   "id": "3edd8a12",
   "metadata": {},
   "outputs": [],
   "source": [
    "df_4.columns = df_4.columns.str.lower() \\\n",
    "    .str.replace(' ', '') \\\n",
    "    .str.replace('(', '') \\\n",
    "    .str.replace(')', '') \\\n",
    "    .str.replace('[^0-9a-zA-Z_]', '', regex=True)"
   ]
  },
  {
   "cell_type": "code",
   "execution_count": 720,
   "id": "266353a0",
   "metadata": {},
   "outputs": [],
   "source": [
    "df_4 = df_4.drop(columns=['worldregionsaccordingtoowid'])\n",
    "\n",
    "df_4.rename(columns={\n",
    "    \"crudemarriageratemarriagesper1000people\": \"crude_marriage_rate\",\n",
    "    \"crudemarriageratemarriagesper1000people1\": \"crude_marriage_rate_people1\",\n",
    "    \"year1\": \"year_1\",\n",
    "    \"entity\": \"country\"\n",
    "}, inplace=True)"
   ]
  },
  {
   "cell_type": "code",
   "execution_count": 721,
   "id": "74f449df",
   "metadata": {},
   "outputs": [],
   "source": [
    "df_4.drop_duplicates(inplace=True)\n",
    "df_4.dropna(inplace=True)"
   ]
  },
  {
   "cell_type": "code",
   "execution_count": 722,
   "id": "ecc2e9d1",
   "metadata": {},
   "outputs": [],
   "source": [
    "df_4['year_1'] = pd.to_numeric(df_4['year_1'], errors='coerce').astype('Int64')"
   ]
  },
  {
   "cell_type": "code",
   "execution_count": 723,
   "id": "9c07c47b",
   "metadata": {},
   "outputs": [
    {
     "data": {
      "text/plain": [
       "country                        0\n",
       "code                           0\n",
       "year                           0\n",
       "crude_marriage_rate            0\n",
       "crude_marriage_rate_people1    0\n",
       "year_1                         0\n",
       "dtype: int64"
      ]
     },
     "execution_count": 723,
     "metadata": {},
     "output_type": "execute_result"
    }
   ],
   "source": [
    "df_4.isnull().sum()"
   ]
  },
  {
   "cell_type": "code",
   "execution_count": 724,
   "id": "9d60e3c9",
   "metadata": {},
   "outputs": [],
   "source": [
    "#df_4.to_csv(\"cleaned_marriage-rates-in-1990-vs-2020.csv\", index=False)"
   ]
  },
  {
   "cell_type": "code",
   "execution_count": 725,
   "id": "08b53841",
   "metadata": {},
   "outputs": [],
   "source": [
    "#df_4.to_sql('marriage_rates_in_1990_vs_2020', engine, if_exists='replace', index=False)"
   ]
  },
  {
   "cell_type": "code",
   "execution_count": 726,
   "id": "133d47b0",
   "metadata": {},
   "outputs": [],
   "source": [
    "df_5 = pd.read_csv('../data/Raw/share-of-births-outside-marriage.csv')"
   ]
  },
  {
   "cell_type": "code",
   "execution_count": 727,
   "id": "4d3243d2",
   "metadata": {},
   "outputs": [],
   "source": [
    "df_5.columns = df_5.columns.str.lower() \\\n",
    "    .str.replace(' ', '') \\\n",
    "    .str.replace('(', '') \\\n",
    "    .str.replace(')', '') \\\n",
    "    .str.replace('[^0-9a-zA-Z_]', '', regex=True)"
   ]
  },
  {
   "cell_type": "code",
   "execution_count": 728,
   "id": "80b37147",
   "metadata": {},
   "outputs": [],
   "source": [
    "\n",
    "df_5.rename(columns={\n",
    "    \"shareofbirthsoutsideofmarriageofallbirths\": \"share_of_births_outside_of_marriage\",\n",
    "    \"entity\": \"country\"\n",
    "}, inplace=True)\n",
    "\n",
    "df_5.drop_duplicates(inplace=True)"
   ]
  },
  {
   "cell_type": "code",
   "execution_count": 729,
   "id": "17dfcb86",
   "metadata": {},
   "outputs": [
    {
     "data": {
      "text/plain": [
       "country                                0\n",
       "code                                   0\n",
       "year                                   0\n",
       "share_of_births_outside_of_marriage    0\n",
       "dtype: int64"
      ]
     },
     "execution_count": 729,
     "metadata": {},
     "output_type": "execute_result"
    }
   ],
   "source": [
    "df_5.isnull().sum()"
   ]
  },
  {
   "cell_type": "code",
   "execution_count": 730,
   "id": "a1ecb1ab",
   "metadata": {},
   "outputs": [],
   "source": [
    "#df_5.to_csv(\"cleaned_share-of-births-outside-marriage.csv\", index=False)"
   ]
  },
  {
   "cell_type": "code",
   "execution_count": 731,
   "id": "2f44ef2a",
   "metadata": {},
   "outputs": [],
   "source": [
    "#df_5.to_sql('share_of_births_outside_marriage', engine, if_exists='replace', index=False)"
   ]
  },
  {
   "cell_type": "code",
   "execution_count": 732,
   "id": "11e9d430",
   "metadata": {},
   "outputs": [],
   "source": [
    "df_6 = pd.read_csv('../data/Raw/share-of-men-in-england-and-wales-who-have-ever-married-by-age.csv')"
   ]
  },
  {
   "cell_type": "code",
   "execution_count": 733,
   "id": "dc05526d",
   "metadata": {},
   "outputs": [
    {
     "data": {
      "text/html": [
       "<div>\n",
       "<style scoped>\n",
       "    .dataframe tbody tr th:only-of-type {\n",
       "        vertical-align: middle;\n",
       "    }\n",
       "\n",
       "    .dataframe tbody tr th {\n",
       "        vertical-align: top;\n",
       "    }\n",
       "\n",
       "    .dataframe thead th {\n",
       "        text-align: right;\n",
       "    }\n",
       "</style>\n",
       "<table border=\"1\" class=\"dataframe\">\n",
       "  <thead>\n",
       "    <tr style=\"text-align: right;\">\n",
       "      <th></th>\n",
       "      <th>entity</th>\n",
       "      <th>code</th>\n",
       "      <th>year</th>\n",
       "      <th>proportionsofmenorwomenwhohadevermarriedbyacertainagefor1900birthcohort</th>\n",
       "      <th>proportionsofmenorwomenwhohadevermarriedbyacertainagefor1920birthcohort</th>\n",
       "      <th>proportionsofmenorwomenwhohadevermarriedbyacertainagefor1940birthcohort</th>\n",
       "      <th>proportionsofmenorwomenwhohadevermarriedbyacertainagefor1960birthcohort</th>\n",
       "      <th>proportionsofmenorwomenwhohadevermarriedbyacertainagefor1970birthcohort</th>\n",
       "      <th>proportionsofmenorwomenwhohadevermarriedbyacertainagefor1980birthcohort</th>\n",
       "      <th>proportionsofmenorwomenwhohadevermarriedbyacertainagefor1990birthcohort</th>\n",
       "      <th>proportionsofmenorwomenwhohadevermarriedbyacertainagefor2000birthcohort</th>\n",
       "    </tr>\n",
       "  </thead>\n",
       "  <tbody>\n",
       "    <tr>\n",
       "      <th>30</th>\n",
       "      <td>Men</td>\n",
       "      <td>NaN</td>\n",
       "      <td>47</td>\n",
       "      <td>92.3</td>\n",
       "      <td>91.6</td>\n",
       "      <td>92.2</td>\n",
       "      <td>81.0</td>\n",
       "      <td>69.4</td>\n",
       "      <td>NaN</td>\n",
       "      <td>NaN</td>\n",
       "      <td>NaN</td>\n",
       "    </tr>\n",
       "    <tr>\n",
       "      <th>32</th>\n",
       "      <td>Men</td>\n",
       "      <td>NaN</td>\n",
       "      <td>49</td>\n",
       "      <td>92.7</td>\n",
       "      <td>91.8</td>\n",
       "      <td>92.3</td>\n",
       "      <td>81.5</td>\n",
       "      <td>70.3</td>\n",
       "      <td>NaN</td>\n",
       "      <td>NaN</td>\n",
       "      <td>NaN</td>\n",
       "    </tr>\n",
       "    <tr>\n",
       "      <th>5</th>\n",
       "      <td>Men</td>\n",
       "      <td>NaN</td>\n",
       "      <td>22</td>\n",
       "      <td>13.5</td>\n",
       "      <td>16.8</td>\n",
       "      <td>25.8</td>\n",
       "      <td>18.8</td>\n",
       "      <td>6.8</td>\n",
       "      <td>2.5</td>\n",
       "      <td>1.1</td>\n",
       "      <td>0.4</td>\n",
       "    </tr>\n",
       "    <tr>\n",
       "      <th>34</th>\n",
       "      <td>Women</td>\n",
       "      <td>NaN</td>\n",
       "      <td>17</td>\n",
       "      <td>0.1</td>\n",
       "      <td>0.3</td>\n",
       "      <td>1.0</td>\n",
       "      <td>1.3</td>\n",
       "      <td>0.4</td>\n",
       "      <td>0.1</td>\n",
       "      <td>0.0</td>\n",
       "      <td>0.0</td>\n",
       "    </tr>\n",
       "    <tr>\n",
       "      <th>15</th>\n",
       "      <td>Men</td>\n",
       "      <td>NaN</td>\n",
       "      <td>32</td>\n",
       "      <td>79.3</td>\n",
       "      <td>82.2</td>\n",
       "      <td>86.5</td>\n",
       "      <td>68.8</td>\n",
       "      <td>48.2</td>\n",
       "      <td>33.5</td>\n",
       "      <td>25.1</td>\n",
       "      <td>NaN</td>\n",
       "    </tr>\n",
       "  </tbody>\n",
       "</table>\n",
       "</div>"
      ],
      "text/plain": [
       "   entity  code  year  \\\n",
       "30    Men   NaN    47   \n",
       "32    Men   NaN    49   \n",
       "5     Men   NaN    22   \n",
       "34  Women   NaN    17   \n",
       "15    Men   NaN    32   \n",
       "\n",
       "    proportionsofmenorwomenwhohadevermarriedbyacertainagefor1900birthcohort  \\\n",
       "30                                               92.3                         \n",
       "32                                               92.7                         \n",
       "5                                                13.5                         \n",
       "34                                                0.1                         \n",
       "15                                               79.3                         \n",
       "\n",
       "    proportionsofmenorwomenwhohadevermarriedbyacertainagefor1920birthcohort  \\\n",
       "30                                               91.6                         \n",
       "32                                               91.8                         \n",
       "5                                                16.8                         \n",
       "34                                                0.3                         \n",
       "15                                               82.2                         \n",
       "\n",
       "    proportionsofmenorwomenwhohadevermarriedbyacertainagefor1940birthcohort  \\\n",
       "30                                               92.2                         \n",
       "32                                               92.3                         \n",
       "5                                                25.8                         \n",
       "34                                                1.0                         \n",
       "15                                               86.5                         \n",
       "\n",
       "    proportionsofmenorwomenwhohadevermarriedbyacertainagefor1960birthcohort  \\\n",
       "30                                               81.0                         \n",
       "32                                               81.5                         \n",
       "5                                                18.8                         \n",
       "34                                                1.3                         \n",
       "15                                               68.8                         \n",
       "\n",
       "    proportionsofmenorwomenwhohadevermarriedbyacertainagefor1970birthcohort  \\\n",
       "30                                               69.4                         \n",
       "32                                               70.3                         \n",
       "5                                                 6.8                         \n",
       "34                                                0.4                         \n",
       "15                                               48.2                         \n",
       "\n",
       "    proportionsofmenorwomenwhohadevermarriedbyacertainagefor1980birthcohort  \\\n",
       "30                                                NaN                         \n",
       "32                                                NaN                         \n",
       "5                                                 2.5                         \n",
       "34                                                0.1                         \n",
       "15                                               33.5                         \n",
       "\n",
       "    proportionsofmenorwomenwhohadevermarriedbyacertainagefor1990birthcohort  \\\n",
       "30                                                NaN                         \n",
       "32                                                NaN                         \n",
       "5                                                 1.1                         \n",
       "34                                                0.0                         \n",
       "15                                               25.1                         \n",
       "\n",
       "    proportionsofmenorwomenwhohadevermarriedbyacertainagefor2000birthcohort  \n",
       "30                                                NaN                        \n",
       "32                                                NaN                        \n",
       "5                                                 0.4                        \n",
       "34                                                0.0                        \n",
       "15                                                NaN                        "
      ]
     },
     "execution_count": 733,
     "metadata": {},
     "output_type": "execute_result"
    }
   ],
   "source": [
    "df_6.columns = df_6.columns.str.lower() \\\n",
    "    .str.replace(' ', '') \\\n",
    "    .str.replace('(', '') \\\n",
    "    .str.replace(')', '') \\\n",
    "    .str.replace('[^0-9a-zA-Z_]', '', regex=True)\n",
    "\n",
    "df_6.drop_duplicates(inplace=True)\n",
    "df_6.sample(5)"
   ]
  },
  {
   "cell_type": "code",
   "execution_count": 734,
   "id": "488391fa",
   "metadata": {},
   "outputs": [],
   "source": [
    "df_6 = df_6.drop(columns=['code','proportionsofmenorwomenwhohadevermarriedbyacertainagefor1980birthcohort',\n",
    "    'proportionsofmenorwomenwhohadevermarriedbyacertainagefor1990birthcohort',\n",
    "    'proportionsofmenorwomenwhohadevermarriedbyacertainagefor2000birthcohort'])\n",
    "\n",
    "df_6.rename(columns={\n",
    "    \"proportionsofmenorwomenwhohadevermarriedbyacertainagefor1900birthcohort\": \"1900_birthcohort\",\n",
    "    \"proportionsofmenorwomenwhohadevermarriedbyacertainagefor1920birthcohort\": \"1920_birthcohort\",\n",
    "    \"proportionsofmenorwomenwhohadevermarriedbyacertainagefor1940birthcohort\": \"1940_birthcohort\",\n",
    "    \"proportionsofmenorwomenwhohadevermarriedbyacertainagefor1960birthcohort\": \"1960_birthcohort\",\n",
    "    \"proportionsofmenorwomenwhohadevermarriedbyacertainagefor1970birthcohort\": \"1970_birthcohort\",\n",
    "    \"entity\": \"sex\"\n",
    "}, inplace=True)"
   ]
  },
  {
   "cell_type": "code",
   "execution_count": 735,
   "id": "b67b700e",
   "metadata": {},
   "outputs": [
    {
     "data": {
      "text/plain": [
       "sex                 0\n",
       "year                0\n",
       "1900_birthcohort    0\n",
       "1920_birthcohort    0\n",
       "1940_birthcohort    0\n",
       "1960_birthcohort    0\n",
       "1970_birthcohort    0\n",
       "dtype: int64"
      ]
     },
     "execution_count": 735,
     "metadata": {},
     "output_type": "execute_result"
    }
   ],
   "source": [
    "df_6.isnull().sum()"
   ]
  },
  {
   "cell_type": "code",
   "execution_count": 736,
   "id": "bd00250c",
   "metadata": {},
   "outputs": [],
   "source": [
    "#df_6.to_csv(\"cleaned_share-of-men-in-england-and-wales-who-have-ever-married-by-age.csv\", index=False)"
   ]
  },
  {
   "cell_type": "code",
   "execution_count": 737,
   "id": "a3c676cd",
   "metadata": {},
   "outputs": [],
   "source": [
    "#df_6.to_sql('men_in_england_and_wales_married_by_age', engine, if_exists='replace', index=False)"
   ]
  },
  {
   "cell_type": "code",
   "execution_count": 738,
   "id": "61daddb4",
   "metadata": {},
   "outputs": [],
   "source": [
    "df_7.columns = df_7.columns.str.lower() \\\n",
    "    .str.replace(' ', '') \\\n",
    "    .str.replace('(', '') \\\n",
    "    .str.replace(')', '') \\\n",
    "    .str.replace('[^0-9a-zA-Z_]', '', regex=True)"
   ]
  },
  {
   "cell_type": "code",
   "execution_count": 739,
   "id": "6c9dd325",
   "metadata": {},
   "outputs": [
    {
     "data": {
      "text/html": [
       "<div>\n",
       "<style scoped>\n",
       "    .dataframe tbody tr th:only-of-type {\n",
       "        vertical-align: middle;\n",
       "    }\n",
       "\n",
       "    .dataframe tbody tr th {\n",
       "        vertical-align: top;\n",
       "    }\n",
       "\n",
       "    .dataframe thead th {\n",
       "        text-align: right;\n",
       "    }\n",
       "</style>\n",
       "<table border=\"1\" class=\"dataframe\">\n",
       "  <thead>\n",
       "    <tr style=\"text-align: right;\">\n",
       "      <th></th>\n",
       "      <th>country</th>\n",
       "      <th>code</th>\n",
       "      <th>year</th>\n",
       "      <th>share_of_single_parent_households</th>\n",
       "    </tr>\n",
       "  </thead>\n",
       "  <tbody>\n",
       "    <tr>\n",
       "      <th>715</th>\n",
       "      <td>Uganda</td>\n",
       "      <td>UGA</td>\n",
       "      <td>2019</td>\n",
       "      <td>11.35</td>\n",
       "    </tr>\n",
       "    <tr>\n",
       "      <th>704</th>\n",
       "      <td>Turkmenistan</td>\n",
       "      <td>TKM</td>\n",
       "      <td>2019</td>\n",
       "      <td>7.56</td>\n",
       "    </tr>\n",
       "    <tr>\n",
       "      <th>233</th>\n",
       "      <td>Ghana</td>\n",
       "      <td>GHA</td>\n",
       "      <td>1984</td>\n",
       "      <td>13.62</td>\n",
       "    </tr>\n",
       "    <tr>\n",
       "      <th>168</th>\n",
       "      <td>Czechia</td>\n",
       "      <td>CZE</td>\n",
       "      <td>2001</td>\n",
       "      <td>12.88</td>\n",
       "    </tr>\n",
       "    <tr>\n",
       "      <th>295</th>\n",
       "      <td>India</td>\n",
       "      <td>IND</td>\n",
       "      <td>1992</td>\n",
       "      <td>4.59</td>\n",
       "    </tr>\n",
       "  </tbody>\n",
       "</table>\n",
       "</div>"
      ],
      "text/plain": [
       "          country code  year  share_of_single_parent_households\n",
       "715        Uganda  UGA  2019                              11.35\n",
       "704  Turkmenistan  TKM  2019                               7.56\n",
       "233         Ghana  GHA  1984                              13.62\n",
       "168       Czechia  CZE  2001                              12.88\n",
       "295         India  IND  1992                               4.59"
      ]
     },
     "execution_count": 739,
     "metadata": {},
     "output_type": "execute_result"
    }
   ],
   "source": [
    "df_7.rename(columns={\n",
    "    \"shareofsingleparenthouseholds\": \"share_of_single_parent_households\",\n",
    "    \"entity\": \"country\"\n",
    "}, inplace=True)\n",
    "\n",
    "df_7.drop_duplicates(inplace=True)\n",
    "df_7.sample(5)"
   ]
  },
  {
   "cell_type": "code",
   "execution_count": 740,
   "id": "e5af1f58",
   "metadata": {},
   "outputs": [
    {
     "data": {
      "text/plain": [
       "country                              0\n",
       "code                                 0\n",
       "year                                 0\n",
       "share_of_single_parent_households    0\n",
       "dtype: int64"
      ]
     },
     "execution_count": 740,
     "metadata": {},
     "output_type": "execute_result"
    }
   ],
   "source": [
    "df_7.isnull().sum()"
   ]
  },
  {
   "cell_type": "code",
   "execution_count": 741,
   "id": "b4b4dcb3",
   "metadata": {},
   "outputs": [],
   "source": [
    "#df_7.to_csv(\"cleaned_share-of-single-parent-households.csv\", index=False)"
   ]
  },
  {
   "cell_type": "code",
   "execution_count": 742,
   "id": "a581488a",
   "metadata": {},
   "outputs": [],
   "source": [
    "#df_7.to_sql('single_parent_households', engine, if_exists='replace', index=False)"
   ]
  },
  {
   "cell_type": "code",
   "execution_count": 743,
   "id": "04b4cf2f",
   "metadata": {},
   "outputs": [],
   "source": [
    "df_8 = pd.read_csv('../data/Raw/share-of-women-in-england-and-wales-who-have-ever-married-by-age.csv')"
   ]
  },
  {
   "cell_type": "code",
   "execution_count": 744,
   "id": "911bd461",
   "metadata": {},
   "outputs": [],
   "source": [
    "df_8.columns = df_8.columns.str.lower() \\\n",
    "    .str.replace(' ', '') \\\n",
    "    .str.replace('(', '') \\\n",
    "    .str.replace(')', '') \\\n",
    "    .str.replace('[^0-9a-zA-Z_]', '', regex=True)"
   ]
  },
  {
   "cell_type": "code",
   "execution_count": 745,
   "id": "f7713ec1",
   "metadata": {},
   "outputs": [
    {
     "data": {
      "text/html": [
       "<div>\n",
       "<style scoped>\n",
       "    .dataframe tbody tr th:only-of-type {\n",
       "        vertical-align: middle;\n",
       "    }\n",
       "\n",
       "    .dataframe tbody tr th {\n",
       "        vertical-align: top;\n",
       "    }\n",
       "\n",
       "    .dataframe thead th {\n",
       "        text-align: right;\n",
       "    }\n",
       "</style>\n",
       "<table border=\"1\" class=\"dataframe\">\n",
       "  <thead>\n",
       "    <tr style=\"text-align: right;\">\n",
       "      <th></th>\n",
       "      <th>entity</th>\n",
       "      <th>code</th>\n",
       "      <th>year</th>\n",
       "      <th>proportionsofmenorwomenwhohadevermarriedbyacertainagefor1900birthcohort</th>\n",
       "      <th>proportionsofmenorwomenwhohadevermarriedbyacertainagefor1920birthcohort</th>\n",
       "      <th>proportionsofmenorwomenwhohadevermarriedbyacertainagefor1940birthcohort</th>\n",
       "      <th>proportionsofmenorwomenwhohadevermarriedbyacertainagefor1960birthcohort</th>\n",
       "      <th>proportionsofmenorwomenwhohadevermarriedbyacertainagefor1970birthcohort</th>\n",
       "      <th>proportionsofmenorwomenwhohadevermarriedbyacertainagefor1980birthcohort</th>\n",
       "      <th>proportionsofmenorwomenwhohadevermarriedbyacertainagefor1990birthcohort</th>\n",
       "      <th>proportionsofmenorwomenwhohadevermarriedbyacertainagefor2000birthcohort</th>\n",
       "    </tr>\n",
       "  </thead>\n",
       "  <tbody>\n",
       "    <tr>\n",
       "      <th>32</th>\n",
       "      <td>Men</td>\n",
       "      <td>GBR</td>\n",
       "      <td>49</td>\n",
       "      <td>92.7</td>\n",
       "      <td>91.8</td>\n",
       "      <td>92.3</td>\n",
       "      <td>81.5</td>\n",
       "      <td>70.3</td>\n",
       "      <td>NaN</td>\n",
       "      <td>NaN</td>\n",
       "      <td>NaN</td>\n",
       "    </tr>\n",
       "    <tr>\n",
       "      <th>0</th>\n",
       "      <td>Men</td>\n",
       "      <td>GBR</td>\n",
       "      <td>17</td>\n",
       "      <td>0.0</td>\n",
       "      <td>0.0</td>\n",
       "      <td>0.0</td>\n",
       "      <td>0.1</td>\n",
       "      <td>0.0</td>\n",
       "      <td>0.0</td>\n",
       "      <td>0.0</td>\n",
       "      <td>0.0</td>\n",
       "    </tr>\n",
       "    <tr>\n",
       "      <th>26</th>\n",
       "      <td>Men</td>\n",
       "      <td>GBR</td>\n",
       "      <td>43</td>\n",
       "      <td>91.1</td>\n",
       "      <td>90.8</td>\n",
       "      <td>91.7</td>\n",
       "      <td>79.5</td>\n",
       "      <td>66.7</td>\n",
       "      <td>56.6</td>\n",
       "      <td>NaN</td>\n",
       "      <td>NaN</td>\n",
       "    </tr>\n",
       "    <tr>\n",
       "      <th>41</th>\n",
       "      <td>Women</td>\n",
       "      <td>GBR</td>\n",
       "      <td>24</td>\n",
       "      <td>40.8</td>\n",
       "      <td>56.1</td>\n",
       "      <td>75.5</td>\n",
       "      <td>55.1</td>\n",
       "      <td>29.7</td>\n",
       "      <td>13.4</td>\n",
       "      <td>6.8</td>\n",
       "      <td>NaN</td>\n",
       "    </tr>\n",
       "    <tr>\n",
       "      <th>3</th>\n",
       "      <td>Men</td>\n",
       "      <td>GBR</td>\n",
       "      <td>20</td>\n",
       "      <td>2.4</td>\n",
       "      <td>2.2</td>\n",
       "      <td>6.0</td>\n",
       "      <td>6.2</td>\n",
       "      <td>1.9</td>\n",
       "      <td>0.7</td>\n",
       "      <td>0.3</td>\n",
       "      <td>0.1</td>\n",
       "    </tr>\n",
       "  </tbody>\n",
       "</table>\n",
       "</div>"
      ],
      "text/plain": [
       "   entity code  year  \\\n",
       "32    Men  GBR    49   \n",
       "0     Men  GBR    17   \n",
       "26    Men  GBR    43   \n",
       "41  Women  GBR    24   \n",
       "3     Men  GBR    20   \n",
       "\n",
       "    proportionsofmenorwomenwhohadevermarriedbyacertainagefor1900birthcohort  \\\n",
       "32                                               92.7                         \n",
       "0                                                 0.0                         \n",
       "26                                               91.1                         \n",
       "41                                               40.8                         \n",
       "3                                                 2.4                         \n",
       "\n",
       "    proportionsofmenorwomenwhohadevermarriedbyacertainagefor1920birthcohort  \\\n",
       "32                                               91.8                         \n",
       "0                                                 0.0                         \n",
       "26                                               90.8                         \n",
       "41                                               56.1                         \n",
       "3                                                 2.2                         \n",
       "\n",
       "    proportionsofmenorwomenwhohadevermarriedbyacertainagefor1940birthcohort  \\\n",
       "32                                               92.3                         \n",
       "0                                                 0.0                         \n",
       "26                                               91.7                         \n",
       "41                                               75.5                         \n",
       "3                                                 6.0                         \n",
       "\n",
       "    proportionsofmenorwomenwhohadevermarriedbyacertainagefor1960birthcohort  \\\n",
       "32                                               81.5                         \n",
       "0                                                 0.1                         \n",
       "26                                               79.5                         \n",
       "41                                               55.1                         \n",
       "3                                                 6.2                         \n",
       "\n",
       "    proportionsofmenorwomenwhohadevermarriedbyacertainagefor1970birthcohort  \\\n",
       "32                                               70.3                         \n",
       "0                                                 0.0                         \n",
       "26                                               66.7                         \n",
       "41                                               29.7                         \n",
       "3                                                 1.9                         \n",
       "\n",
       "    proportionsofmenorwomenwhohadevermarriedbyacertainagefor1980birthcohort  \\\n",
       "32                                                NaN                         \n",
       "0                                                 0.0                         \n",
       "26                                               56.6                         \n",
       "41                                               13.4                         \n",
       "3                                                 0.7                         \n",
       "\n",
       "    proportionsofmenorwomenwhohadevermarriedbyacertainagefor1990birthcohort  \\\n",
       "32                                                NaN                         \n",
       "0                                                 0.0                         \n",
       "26                                                NaN                         \n",
       "41                                                6.8                         \n",
       "3                                                 0.3                         \n",
       "\n",
       "    proportionsofmenorwomenwhohadevermarriedbyacertainagefor2000birthcohort  \n",
       "32                                                NaN                        \n",
       "0                                                 0.0                        \n",
       "26                                                NaN                        \n",
       "41                                                NaN                        \n",
       "3                                                 0.1                        "
      ]
     },
     "execution_count": 745,
     "metadata": {},
     "output_type": "execute_result"
    }
   ],
   "source": [
    "df_8['code'] = df_8['code'].fillna('GBR')\n",
    "df_8.sample(5)"
   ]
  },
  {
   "cell_type": "code",
   "execution_count": 746,
   "id": "88bb818e",
   "metadata": {},
   "outputs": [
    {
     "data": {
      "text/html": [
       "<div>\n",
       "<style scoped>\n",
       "    .dataframe tbody tr th:only-of-type {\n",
       "        vertical-align: middle;\n",
       "    }\n",
       "\n",
       "    .dataframe tbody tr th {\n",
       "        vertical-align: top;\n",
       "    }\n",
       "\n",
       "    .dataframe thead th {\n",
       "        text-align: right;\n",
       "    }\n",
       "</style>\n",
       "<table border=\"1\" class=\"dataframe\">\n",
       "  <thead>\n",
       "    <tr style=\"text-align: right;\">\n",
       "      <th></th>\n",
       "      <th>sex</th>\n",
       "      <th>year</th>\n",
       "      <th>1900_birthcohort</th>\n",
       "      <th>1920_birthcohort</th>\n",
       "      <th>1940_birthcohort</th>\n",
       "      <th>1960_birthcohort</th>\n",
       "      <th>1970_birthcohort</th>\n",
       "    </tr>\n",
       "  </thead>\n",
       "  <tbody>\n",
       "    <tr>\n",
       "      <th>15</th>\n",
       "      <td>Men</td>\n",
       "      <td>32</td>\n",
       "      <td>79.3</td>\n",
       "      <td>82.2</td>\n",
       "      <td>86.5</td>\n",
       "      <td>68.8</td>\n",
       "      <td>48.2</td>\n",
       "    </tr>\n",
       "    <tr>\n",
       "      <th>30</th>\n",
       "      <td>Men</td>\n",
       "      <td>47</td>\n",
       "      <td>92.3</td>\n",
       "      <td>91.6</td>\n",
       "      <td>92.2</td>\n",
       "      <td>81.0</td>\n",
       "      <td>69.4</td>\n",
       "    </tr>\n",
       "    <tr>\n",
       "      <th>41</th>\n",
       "      <td>Women</td>\n",
       "      <td>24</td>\n",
       "      <td>40.8</td>\n",
       "      <td>56.1</td>\n",
       "      <td>75.5</td>\n",
       "      <td>55.1</td>\n",
       "      <td>29.7</td>\n",
       "    </tr>\n",
       "    <tr>\n",
       "      <th>60</th>\n",
       "      <td>Women</td>\n",
       "      <td>43</td>\n",
       "      <td>83.7</td>\n",
       "      <td>91.1</td>\n",
       "      <td>95.3</td>\n",
       "      <td>86.2</td>\n",
       "      <td>73.7</td>\n",
       "    </tr>\n",
       "    <tr>\n",
       "      <th>0</th>\n",
       "      <td>Men</td>\n",
       "      <td>17</td>\n",
       "      <td>0.0</td>\n",
       "      <td>0.0</td>\n",
       "      <td>0.0</td>\n",
       "      <td>0.1</td>\n",
       "      <td>0.0</td>\n",
       "    </tr>\n",
       "  </tbody>\n",
       "</table>\n",
       "</div>"
      ],
      "text/plain": [
       "      sex  year  1900_birthcohort  1920_birthcohort  1940_birthcohort  \\\n",
       "15    Men    32              79.3              82.2              86.5   \n",
       "30    Men    47              92.3              91.6              92.2   \n",
       "41  Women    24              40.8              56.1              75.5   \n",
       "60  Women    43              83.7              91.1              95.3   \n",
       "0     Men    17               0.0               0.0               0.0   \n",
       "\n",
       "    1960_birthcohort  1970_birthcohort  \n",
       "15              68.8              48.2  \n",
       "30              81.0              69.4  \n",
       "41              55.1              29.7  \n",
       "60              86.2              73.7  \n",
       "0                0.1               0.0  "
      ]
     },
     "execution_count": 746,
     "metadata": {},
     "output_type": "execute_result"
    }
   ],
   "source": [
    "df_8 = df_8.drop(columns=['code','proportionsofmenorwomenwhohadevermarriedbyacertainagefor1980birthcohort',\n",
    "    'proportionsofmenorwomenwhohadevermarriedbyacertainagefor1990birthcohort',\n",
    "    'proportionsofmenorwomenwhohadevermarriedbyacertainagefor2000birthcohort'])\n",
    "\n",
    "df_8.rename(columns={\n",
    "    \"proportionsofmenorwomenwhohadevermarriedbyacertainagefor1900birthcohort\": \"1900_birthcohort\",\n",
    "    \"proportionsofmenorwomenwhohadevermarriedbyacertainagefor1920birthcohort\": \"1920_birthcohort\",\n",
    "    \"proportionsofmenorwomenwhohadevermarriedbyacertainagefor1940birthcohort\": \"1940_birthcohort\",\n",
    "    \"proportionsofmenorwomenwhohadevermarriedbyacertainagefor1960birthcohort\": \"1960_birthcohort\",\n",
    "    \"proportionsofmenorwomenwhohadevermarriedbyacertainagefor1970birthcohort\": \"1970_birthcohort\",\n",
    "    \"entity\": \"sex\"\n",
    "}, inplace=True)\n",
    "\n",
    "df_8.drop_duplicates(inplace=True)\n",
    "df_8.sample(5)"
   ]
  },
  {
   "cell_type": "code",
   "execution_count": 747,
   "id": "d828c548",
   "metadata": {},
   "outputs": [],
   "source": [
    "#df_8.to_csv(\"cleaned_share-of-women-in-england-and-wales-who-have-ever-married-by-age.csv\", index=False)"
   ]
  },
  {
   "cell_type": "code",
   "execution_count": 748,
   "id": "aca95876",
   "metadata": {},
   "outputs": [],
   "source": [
    "#df_8.to_sql('women_in_england_and_wales_married_by_age', engine, if_exists='replace', index=False)"
   ]
  },
  {
   "cell_type": "code",
   "execution_count": 749,
   "id": "d4811710",
   "metadata": {},
   "outputs": [],
   "source": [
    "#!pip install openpyxl"
   ]
  },
  {
   "cell_type": "code",
   "execution_count": 750,
   "id": "3d96be35",
   "metadata": {},
   "outputs": [],
   "source": [
    "df_excel_1 = pd.read_excel('../data/Raw/undesa_pd_2019_wmd_marital_status.xlsx')"
   ]
  },
  {
   "cell_type": "code",
   "execution_count": 751,
   "id": "fba71d57",
   "metadata": {},
   "outputs": [],
   "source": [
    "#all_sheets = pd.read_excel('../data/Raw/undesa_pd_2019_wmd_marital_status.xlsx', sheet_name=None)"
   ]
  },
  {
   "cell_type": "code",
   "execution_count": 752,
   "id": "58ed7587",
   "metadata": {},
   "outputs": [
    {
     "name": "stdout",
     "output_type": "stream",
     "text": [
      "['INFORMATION NOTE', 'Database Field Descriptions', 'MARITAL_STATUS_BY_AGE', 'CURRENTLY MARRIED', 'EVER_MARRIED', 'SMAM']\n"
     ]
    }
   ],
   "source": [
    "xls_1 = pd.ExcelFile('../data/Raw/undesa_pd_2019_wmd_marital_status.xlsx')\n",
    "print(xls_1.sheet_names)"
   ]
  },
  {
   "cell_type": "code",
   "execution_count": 753,
   "id": "e549bd14",
   "metadata": {},
   "outputs": [],
   "source": [
    "excel_1 = '../data/Raw/undesa_pd_2019_wmd_marital_status.xlsx'\n",
    "\n",
    "# Output directory (make sure it exists)\n",
    "output_dir = '../data/processed/'\n",
    "os.makedirs(output_dir, exist_ok=True)\n",
    "\n",
    "# List of sheets you want to extract\n",
    "sheets_to_extract = ['MARITAL_STATUS_BY_AGE', 'CURRENTLY MARRIED', 'EVER_MARRIED', 'SMAM']"
   ]
  },
  {
   "cell_type": "code",
   "execution_count": 754,
   "id": "6e462fde",
   "metadata": {},
   "outputs": [
    {
     "data": {
      "text/plain": [
       "'for sheet in sheets_to_extract:\\n    # Read just this sheet into a DataFrame\\n    df_excel_1 = pd.read_excel(excel_1, sheet_name=sheet)\\n    \\n    # Optional: Clean the filename (replace spaces with underscores, etc.)\\n    csv_name = sheet.replace(\\' \\', \\'_\\').lower() + \\'.csv\\'\\n    csv_path = os.path.join(output_dir, csv_name)\\n    \\n    # Save the DataFrame as CSV\\n    df_excel_1.to_csv(csv_path, index=False)\\n    print(f\"Saved: {csv_path}\")\\n'"
      ]
     },
     "execution_count": 754,
     "metadata": {},
     "output_type": "execute_result"
    }
   ],
   "source": [
    "\"\"\"for sheet in sheets_to_extract:\n",
    "    # Read just this sheet into a DataFrame\n",
    "    df_excel_1 = pd.read_excel(excel_1, sheet_name=sheet)\n",
    "    \n",
    "    # Optional: Clean the filename (replace spaces with underscores, etc.)\n",
    "    csv_name = sheet.replace(' ', '_').lower() + '.csv'\n",
    "    csv_path = os.path.join(output_dir, csv_name)\n",
    "    \n",
    "    # Save the DataFrame as CSV\n",
    "    df_excel_1.to_csv(csv_path, index=False)\n",
    "    print(f\"Saved: {csv_path}\")\n",
    "\"\"\""
   ]
  },
  {
   "cell_type": "code",
   "execution_count": 755,
   "id": "14025590",
   "metadata": {},
   "outputs": [
    {
     "name": "stdout",
     "output_type": "stream",
     "text": [
      "['INFORMATION NOTE', 'Database Field Descriptions', 'FERTILITY INDICATORS']\n"
     ]
    }
   ],
   "source": [
    "xls_2 = pd.ExcelFile('../data/Raw/undesa_pd_2019_world_fertility_dataset.xlsx')\n",
    "print(xls_2.sheet_names)"
   ]
  },
  {
   "cell_type": "code",
   "execution_count": 756,
   "id": "e8d21e64",
   "metadata": {},
   "outputs": [],
   "source": [
    "df_excel_2 = pd.read_excel('../data/Raw/undesa_pd_2019_world_fertility_dataset.xlsx')"
   ]
  },
  {
   "cell_type": "code",
   "execution_count": 757,
   "id": "dea6a7ed",
   "metadata": {},
   "outputs": [],
   "source": [
    "excel_2 = '../data/Raw/undesa_pd_2019_world_fertility_dataset.xlsx'\n",
    "sheet_name = 'fertility indicators'\n",
    "output_dir = '../data/processed/'\n",
    "os.makedirs(output_dir, exist_ok=True)"
   ]
  },
  {
   "cell_type": "code",
   "execution_count": 758,
   "id": "d46799e0",
   "metadata": {},
   "outputs": [
    {
     "data": {
      "text/plain": [
       "'csv_name = sheet_name.replace(\\' \\', \\'_\\').lower() + \\'.csv\\'\\ncsv_path = os.path.join(output_dir, csv_name)\\ndf_excel_2.to_csv(csv_path, index=False)\\nprint(f\"Saved: {csv_path}\")\\n\\n'"
      ]
     },
     "execution_count": 758,
     "metadata": {},
     "output_type": "execute_result"
    }
   ],
   "source": [
    "\"\"\"csv_name = sheet_name.replace(' ', '_').lower() + '.csv'\n",
    "csv_path = os.path.join(output_dir, csv_name)\n",
    "df_excel_2.to_csv(csv_path, index=False)\n",
    "print(f\"Saved: {csv_path}\")\n",
    "\n",
    "\"\"\""
   ]
  },
  {
   "cell_type": "code",
   "execution_count": 759,
   "id": "5960cd5c",
   "metadata": {},
   "outputs": [
    {
     "name": "stdout",
     "output_type": "stream",
     "text": [
      "['INFORMATION NOTE', 'Database Field Descriptions', 'Countries', 'Regions']\n"
     ]
    }
   ],
   "source": [
    "xls_3 = pd.ExcelFile('../data/Raw/undesa_pd_ds_1970-2030_fp_rev-2024_rev.xlsx')\n",
    "print(xls_3.sheet_names)"
   ]
  },
  {
   "cell_type": "code",
   "execution_count": 760,
   "id": "38807f3a",
   "metadata": {},
   "outputs": [],
   "source": [
    "df_excel_3 = pd.read_excel('../data/Raw/undesa_pd_ds_1970-2030_fp_rev-2024_rev.xlsx')"
   ]
  },
  {
   "cell_type": "code",
   "execution_count": 761,
   "id": "66663882",
   "metadata": {},
   "outputs": [],
   "source": [
    "excel_3 = '../data/Raw/undesa_pd_2019_world_fertility_dataset.xlsx'\n",
    "sheets_to_extract = ['Countries', 'Regions']\n",
    "output_dir = '../data/processed/'\n",
    "os.makedirs(output_dir, exist_ok=True)"
   ]
  },
  {
   "cell_type": "code",
   "execution_count": 762,
   "id": "c567798c",
   "metadata": {},
   "outputs": [
    {
     "data": {
      "text/plain": [
       "'\\nfor sheet in sheets_to_extract:\\n    csv_name = sheet.replace(\\' \\', \\'_\\').lower() + \\'.csv\\'\\n    csv_path = os.path.join(output_dir, csv_name)\\n    df_excel_3.to_csv(csv_path, index=False)\\n    print(f\"Saved: {csv_path}\")\\n'"
      ]
     },
     "execution_count": 762,
     "metadata": {},
     "output_type": "execute_result"
    }
   ],
   "source": [
    "\"\"\"\n",
    "for sheet in sheets_to_extract:\n",
    "    csv_name = sheet.replace(' ', '_').lower() + '.csv'\n",
    "    csv_path = os.path.join(output_dir, csv_name)\n",
    "    df_excel_3.to_csv(csv_path, index=False)\n",
    "    print(f\"Saved: {csv_path}\")\n",
    "\"\"\""
   ]
  },
  {
   "cell_type": "code",
   "execution_count": 774,
   "id": "baa25f13",
   "metadata": {},
   "outputs": [
    {
     "data": {
      "text/html": [
       "<div>\n",
       "<style scoped>\n",
       "    .dataframe tbody tr th:only-of-type {\n",
       "        vertical-align: middle;\n",
       "    }\n",
       "\n",
       "    .dataframe tbody tr th {\n",
       "        vertical-align: top;\n",
       "    }\n",
       "\n",
       "    .dataframe thead th {\n",
       "        text-align: right;\n",
       "    }\n",
       "</style>\n",
       "<table border=\"1\" class=\"dataframe\">\n",
       "  <thead>\n",
       "    <tr style=\"text-align: right;\">\n",
       "      <th></th>\n",
       "      <th>IndicatorId</th>\n",
       "      <th>IndicatorName</th>\n",
       "      <th>IndicatorShortName</th>\n",
       "      <th>Source</th>\n",
       "      <th>SourceYear</th>\n",
       "      <th>Author</th>\n",
       "      <th>LocationId</th>\n",
       "      <th>Location</th>\n",
       "      <th>Iso2</th>\n",
       "      <th>Iso3</th>\n",
       "      <th>...</th>\n",
       "      <th>AgeStart</th>\n",
       "      <th>AgeEnd</th>\n",
       "      <th>Age</th>\n",
       "      <th>CategoryId</th>\n",
       "      <th>Category</th>\n",
       "      <th>EstimateTypeId</th>\n",
       "      <th>EstimateType</th>\n",
       "      <th>EstimateMethodId</th>\n",
       "      <th>EstimateMethod</th>\n",
       "      <th>Value</th>\n",
       "    </tr>\n",
       "  </thead>\n",
       "  <tbody>\n",
       "    <tr>\n",
       "      <th>5186</th>\n",
       "      <td>42</td>\n",
       "      <td>Currently married (Percent)</td>\n",
       "      <td>Currently married (Percent)</td>\n",
       "      <td>Estimates and Projections of Women of Reproduc...</td>\n",
       "      <td>2024</td>\n",
       "      <td>United Nations Population Division</td>\n",
       "      <td>184</td>\n",
       "      <td>Cook Islands</td>\n",
       "      <td>CK</td>\n",
       "      <td>COK</td>\n",
       "      <td>...</td>\n",
       "      <td>15</td>\n",
       "      <td>49</td>\n",
       "      <td>15-49</td>\n",
       "      <td>100</td>\n",
       "      <td>Married or in a union women</td>\n",
       "      <td>1</td>\n",
       "      <td>Model-based Estimates</td>\n",
       "      <td>2</td>\n",
       "      <td>Interpolation</td>\n",
       "      <td>50.13</td>\n",
       "    </tr>\n",
       "    <tr>\n",
       "      <th>18247</th>\n",
       "      <td>42</td>\n",
       "      <td>Currently married (Percent)</td>\n",
       "      <td>Currently married (Percent)</td>\n",
       "      <td>Estimates and Projections of Women of Reproduc...</td>\n",
       "      <td>2024</td>\n",
       "      <td>United Nations Population Division</td>\n",
       "      <td>630</td>\n",
       "      <td>Puerto Rico</td>\n",
       "      <td>PR</td>\n",
       "      <td>PRI</td>\n",
       "      <td>...</td>\n",
       "      <td>15</td>\n",
       "      <td>49</td>\n",
       "      <td>15-49</td>\n",
       "      <td>100</td>\n",
       "      <td>Married or in a union women</td>\n",
       "      <td>1</td>\n",
       "      <td>Model-based Estimates</td>\n",
       "      <td>2</td>\n",
       "      <td>Interpolation</td>\n",
       "      <td>41.43</td>\n",
       "    </tr>\n",
       "    <tr>\n",
       "      <th>11673</th>\n",
       "      <td>42</td>\n",
       "      <td>Currently married (Percent)</td>\n",
       "      <td>Currently married (Percent)</td>\n",
       "      <td>Estimates and Projections of Women of Reproduc...</td>\n",
       "      <td>2024</td>\n",
       "      <td>United Nations Population Division</td>\n",
       "      <td>410</td>\n",
       "      <td>Republic of Korea</td>\n",
       "      <td>KR</td>\n",
       "      <td>KOR</td>\n",
       "      <td>...</td>\n",
       "      <td>15</td>\n",
       "      <td>49</td>\n",
       "      <td>15-49</td>\n",
       "      <td>100</td>\n",
       "      <td>Married or in a union women</td>\n",
       "      <td>1</td>\n",
       "      <td>Model-based Estimates</td>\n",
       "      <td>2</td>\n",
       "      <td>Interpolation</td>\n",
       "      <td>55.67</td>\n",
       "    </tr>\n",
       "    <tr>\n",
       "      <th>9253</th>\n",
       "      <td>42</td>\n",
       "      <td>Currently married (Percent)</td>\n",
       "      <td>Currently married (Percent)</td>\n",
       "      <td>Estimates and Projections of Women of Reproduc...</td>\n",
       "      <td>2024</td>\n",
       "      <td>United Nations Population Division</td>\n",
       "      <td>320</td>\n",
       "      <td>Guatemala</td>\n",
       "      <td>GT</td>\n",
       "      <td>GTM</td>\n",
       "      <td>...</td>\n",
       "      <td>15</td>\n",
       "      <td>49</td>\n",
       "      <td>15-49</td>\n",
       "      <td>100</td>\n",
       "      <td>Married or in a union women</td>\n",
       "      <td>1</td>\n",
       "      <td>Model-based Estimates</td>\n",
       "      <td>2</td>\n",
       "      <td>Interpolation</td>\n",
       "      <td>59.84</td>\n",
       "    </tr>\n",
       "    <tr>\n",
       "      <th>3494</th>\n",
       "      <td>42</td>\n",
       "      <td>Currently married (Percent)</td>\n",
       "      <td>Currently married (Percent)</td>\n",
       "      <td>Estimates and Projections of Women of Reproduc...</td>\n",
       "      <td>2024</td>\n",
       "      <td>United Nations Population Division</td>\n",
       "      <td>120</td>\n",
       "      <td>Cameroon</td>\n",
       "      <td>CM</td>\n",
       "      <td>CMR</td>\n",
       "      <td>...</td>\n",
       "      <td>15</td>\n",
       "      <td>49</td>\n",
       "      <td>15-49</td>\n",
       "      <td>100</td>\n",
       "      <td>Married or in a union women</td>\n",
       "      <td>1</td>\n",
       "      <td>Model-based Estimates</td>\n",
       "      <td>2</td>\n",
       "      <td>Interpolation</td>\n",
       "      <td>71.93</td>\n",
       "    </tr>\n",
       "  </tbody>\n",
       "</table>\n",
       "<p>5 rows × 27 columns</p>\n",
       "</div>"
      ],
      "text/plain": [
       "       IndicatorId                IndicatorName           IndicatorShortName  \\\n",
       "5186            42  Currently married (Percent)  Currently married (Percent)   \n",
       "18247           42  Currently married (Percent)  Currently married (Percent)   \n",
       "11673           42  Currently married (Percent)  Currently married (Percent)   \n",
       "9253            42  Currently married (Percent)  Currently married (Percent)   \n",
       "3494            42  Currently married (Percent)  Currently married (Percent)   \n",
       "\n",
       "                                                  Source  SourceYear  \\\n",
       "5186   Estimates and Projections of Women of Reproduc...        2024   \n",
       "18247  Estimates and Projections of Women of Reproduc...        2024   \n",
       "11673  Estimates and Projections of Women of Reproduc...        2024   \n",
       "9253   Estimates and Projections of Women of Reproduc...        2024   \n",
       "3494   Estimates and Projections of Women of Reproduc...        2024   \n",
       "\n",
       "                                   Author  LocationId           Location Iso2  \\\n",
       "5186   United Nations Population Division         184       Cook Islands   CK   \n",
       "18247  United Nations Population Division         630        Puerto Rico   PR   \n",
       "11673  United Nations Population Division         410  Republic of Korea   KR   \n",
       "9253   United Nations Population Division         320          Guatemala   GT   \n",
       "3494   United Nations Population Division         120           Cameroon   CM   \n",
       "\n",
       "      Iso3  ...  AgeStart  AgeEnd    Age CategoryId  \\\n",
       "5186   COK  ...        15      49  15-49        100   \n",
       "18247  PRI  ...        15      49  15-49        100   \n",
       "11673  KOR  ...        15      49  15-49        100   \n",
       "9253   GTM  ...        15      49  15-49        100   \n",
       "3494   CMR  ...        15      49  15-49        100   \n",
       "\n",
       "                          Category EstimateTypeId           EstimateType  \\\n",
       "5186   Married or in a union women              1  Model-based Estimates   \n",
       "18247  Married or in a union women              1  Model-based Estimates   \n",
       "11673  Married or in a union women              1  Model-based Estimates   \n",
       "9253   Married or in a union women              1  Model-based Estimates   \n",
       "3494   Married or in a union women              1  Model-based Estimates   \n",
       "\n",
       "       EstimateMethodId  EstimateMethod  Value  \n",
       "5186                  2   Interpolation  50.13  \n",
       "18247                 2   Interpolation  41.43  \n",
       "11673                 2   Interpolation  55.67  \n",
       "9253                  2   Interpolation  59.84  \n",
       "3494                  2   Interpolation  71.93  \n",
       "\n",
       "[5 rows x 27 columns]"
      ]
     },
     "execution_count": 774,
     "metadata": {},
     "output_type": "execute_result"
    }
   ],
   "source": [
    "df_9 = pd.read_csv('../data/Raw/unpopulation_dataportal_20250728095844.csv')\n",
    "df_9.sample(5)"
   ]
  },
  {
   "cell_type": "code",
   "execution_count": 775,
   "id": "6c276197",
   "metadata": {},
   "outputs": [
    {
     "data": {
      "text/html": [
       "<div>\n",
       "<style scoped>\n",
       "    .dataframe tbody tr th:only-of-type {\n",
       "        vertical-align: middle;\n",
       "    }\n",
       "\n",
       "    .dataframe tbody tr th {\n",
       "        vertical-align: top;\n",
       "    }\n",
       "\n",
       "    .dataframe thead th {\n",
       "        text-align: right;\n",
       "    }\n",
       "</style>\n",
       "<table border=\"1\" class=\"dataframe\">\n",
       "  <thead>\n",
       "    <tr style=\"text-align: right;\">\n",
       "      <th></th>\n",
       "      <th>indicatorid</th>\n",
       "      <th>indicatorname</th>\n",
       "      <th>indicatorshortname</th>\n",
       "      <th>source</th>\n",
       "      <th>sourceyear</th>\n",
       "      <th>author</th>\n",
       "      <th>locationid</th>\n",
       "      <th>location</th>\n",
       "      <th>iso2</th>\n",
       "      <th>iso3</th>\n",
       "      <th>...</th>\n",
       "      <th>agestart</th>\n",
       "      <th>ageend</th>\n",
       "      <th>age</th>\n",
       "      <th>categoryid</th>\n",
       "      <th>category</th>\n",
       "      <th>estimatetypeid</th>\n",
       "      <th>estimatetype</th>\n",
       "      <th>estimatemethodid</th>\n",
       "      <th>estimatemethod</th>\n",
       "      <th>value</th>\n",
       "    </tr>\n",
       "  </thead>\n",
       "  <tbody>\n",
       "    <tr>\n",
       "      <th>38</th>\n",
       "      <td>42</td>\n",
       "      <td>Currently married (Percent)</td>\n",
       "      <td>Currently married (Percent)</td>\n",
       "      <td>Estimates and Projections of Women of Reproduc...</td>\n",
       "      <td>2024</td>\n",
       "      <td>United Nations Population Division</td>\n",
       "      <td>4</td>\n",
       "      <td>Afghanistan</td>\n",
       "      <td>AF</td>\n",
       "      <td>AFG</td>\n",
       "      <td>...</td>\n",
       "      <td>15</td>\n",
       "      <td>49</td>\n",
       "      <td>15-49</td>\n",
       "      <td>100</td>\n",
       "      <td>Married or in a union women</td>\n",
       "      <td>1</td>\n",
       "      <td>Model-based Estimates</td>\n",
       "      <td>2</td>\n",
       "      <td>Interpolation</td>\n",
       "      <td>75.52</td>\n",
       "    </tr>\n",
       "    <tr>\n",
       "      <th>18758</th>\n",
       "      <td>42</td>\n",
       "      <td>Currently married (Percent)</td>\n",
       "      <td>Currently married (Percent)</td>\n",
       "      <td>Estimates and Projections of Women of Reproduc...</td>\n",
       "      <td>2024</td>\n",
       "      <td>United Nations Population Division</td>\n",
       "      <td>646</td>\n",
       "      <td>Rwanda</td>\n",
       "      <td>RW</td>\n",
       "      <td>RWA</td>\n",
       "      <td>...</td>\n",
       "      <td>15</td>\n",
       "      <td>49</td>\n",
       "      <td>15-49</td>\n",
       "      <td>100</td>\n",
       "      <td>Married or in a union women</td>\n",
       "      <td>1</td>\n",
       "      <td>Model-based Estimates</td>\n",
       "      <td>2</td>\n",
       "      <td>Interpolation</td>\n",
       "      <td>48.79</td>\n",
       "    </tr>\n",
       "    <tr>\n",
       "      <th>22489</th>\n",
       "      <td>42</td>\n",
       "      <td>Currently married (Percent)</td>\n",
       "      <td>Currently married (Percent)</td>\n",
       "      <td>Estimates and Projections of Women of Reproduc...</td>\n",
       "      <td>2024</td>\n",
       "      <td>United Nations Population Division</td>\n",
       "      <td>776</td>\n",
       "      <td>Tonga</td>\n",
       "      <td>TO</td>\n",
       "      <td>TON</td>\n",
       "      <td>...</td>\n",
       "      <td>15</td>\n",
       "      <td>49</td>\n",
       "      <td>15-49</td>\n",
       "      <td>100</td>\n",
       "      <td>Married or in a union women</td>\n",
       "      <td>1</td>\n",
       "      <td>Model-based Estimates</td>\n",
       "      <td>2</td>\n",
       "      <td>Interpolation</td>\n",
       "      <td>52.26</td>\n",
       "    </tr>\n",
       "    <tr>\n",
       "      <th>21119</th>\n",
       "      <td>42</td>\n",
       "      <td>Currently married (Percent)</td>\n",
       "      <td>Currently married (Percent)</td>\n",
       "      <td>Estimates and Projections of Women of Reproduc...</td>\n",
       "      <td>2024</td>\n",
       "      <td>United Nations Population Division</td>\n",
       "      <td>728</td>\n",
       "      <td>South Sudan</td>\n",
       "      <td>SS</td>\n",
       "      <td>SSD</td>\n",
       "      <td>...</td>\n",
       "      <td>15</td>\n",
       "      <td>49</td>\n",
       "      <td>15-49</td>\n",
       "      <td>100</td>\n",
       "      <td>Married or in a union women</td>\n",
       "      <td>1</td>\n",
       "      <td>Model-based Estimates</td>\n",
       "      <td>2</td>\n",
       "      <td>Interpolation</td>\n",
       "      <td>76.81</td>\n",
       "    </tr>\n",
       "    <tr>\n",
       "      <th>4308</th>\n",
       "      <td>42</td>\n",
       "      <td>Currently married (Percent)</td>\n",
       "      <td>Currently married (Percent)</td>\n",
       "      <td>Estimates and Projections of Women of Reproduc...</td>\n",
       "      <td>2024</td>\n",
       "      <td>United Nations Population Division</td>\n",
       "      <td>152</td>\n",
       "      <td>Chile</td>\n",
       "      <td>CL</td>\n",
       "      <td>CHL</td>\n",
       "      <td>...</td>\n",
       "      <td>15</td>\n",
       "      <td>49</td>\n",
       "      <td>15-49</td>\n",
       "      <td>100</td>\n",
       "      <td>Married or in a union women</td>\n",
       "      <td>1</td>\n",
       "      <td>Model-based Estimates</td>\n",
       "      <td>2</td>\n",
       "      <td>Interpolation</td>\n",
       "      <td>49.16</td>\n",
       "    </tr>\n",
       "    <tr>\n",
       "      <th>15974</th>\n",
       "      <td>42</td>\n",
       "      <td>Currently married (Percent)</td>\n",
       "      <td>Currently married (Percent)</td>\n",
       "      <td>Estimates and Projections of Women of Reproduc...</td>\n",
       "      <td>2024</td>\n",
       "      <td>United Nations Population Division</td>\n",
       "      <td>548</td>\n",
       "      <td>Vanuatu</td>\n",
       "      <td>VU</td>\n",
       "      <td>VUT</td>\n",
       "      <td>...</td>\n",
       "      <td>15</td>\n",
       "      <td>49</td>\n",
       "      <td>15-49</td>\n",
       "      <td>100</td>\n",
       "      <td>Married or in a union women</td>\n",
       "      <td>1</td>\n",
       "      <td>Model-based Estimates</td>\n",
       "      <td>2</td>\n",
       "      <td>Interpolation</td>\n",
       "      <td>64.39</td>\n",
       "    </tr>\n",
       "    <tr>\n",
       "      <th>1182</th>\n",
       "      <td>42</td>\n",
       "      <td>Currently married (Percent)</td>\n",
       "      <td>Currently married (Percent)</td>\n",
       "      <td>Estimates and Projections of Women of Reproduc...</td>\n",
       "      <td>2024</td>\n",
       "      <td>United Nations Population Division</td>\n",
       "      <td>44</td>\n",
       "      <td>Bahamas</td>\n",
       "      <td>BS</td>\n",
       "      <td>BHS</td>\n",
       "      <td>...</td>\n",
       "      <td>15</td>\n",
       "      <td>49</td>\n",
       "      <td>15-49</td>\n",
       "      <td>100</td>\n",
       "      <td>Married or in a union women</td>\n",
       "      <td>1</td>\n",
       "      <td>Model-based Estimates</td>\n",
       "      <td>2</td>\n",
       "      <td>Interpolation</td>\n",
       "      <td>40.82</td>\n",
       "    </tr>\n",
       "    <tr>\n",
       "      <th>19692</th>\n",
       "      <td>42</td>\n",
       "      <td>Currently married (Percent)</td>\n",
       "      <td>Currently married (Percent)</td>\n",
       "      <td>Estimates and Projections of Women of Reproduc...</td>\n",
       "      <td>2024</td>\n",
       "      <td>United Nations Population Division</td>\n",
       "      <td>682</td>\n",
       "      <td>Saudi Arabia</td>\n",
       "      <td>SA</td>\n",
       "      <td>SAU</td>\n",
       "      <td>...</td>\n",
       "      <td>15</td>\n",
       "      <td>49</td>\n",
       "      <td>15-49</td>\n",
       "      <td>100</td>\n",
       "      <td>Married or in a union women</td>\n",
       "      <td>1</td>\n",
       "      <td>Model-based Estimates</td>\n",
       "      <td>2</td>\n",
       "      <td>Interpolation</td>\n",
       "      <td>57.82</td>\n",
       "    </tr>\n",
       "    <tr>\n",
       "      <th>10113</th>\n",
       "      <td>42</td>\n",
       "      <td>Currently married (Percent)</td>\n",
       "      <td>Currently married (Percent)</td>\n",
       "      <td>Estimates and Projections of Women of Reproduc...</td>\n",
       "      <td>2024</td>\n",
       "      <td>United Nations Population Division</td>\n",
       "      <td>356</td>\n",
       "      <td>India</td>\n",
       "      <td>IN</td>\n",
       "      <td>IND</td>\n",
       "      <td>...</td>\n",
       "      <td>15</td>\n",
       "      <td>49</td>\n",
       "      <td>15-49</td>\n",
       "      <td>100</td>\n",
       "      <td>Married or in a union women</td>\n",
       "      <td>1</td>\n",
       "      <td>Model-based Estimates</td>\n",
       "      <td>2</td>\n",
       "      <td>Interpolation</td>\n",
       "      <td>78.87</td>\n",
       "    </tr>\n",
       "    <tr>\n",
       "      <th>555</th>\n",
       "      <td>42</td>\n",
       "      <td>Currently married (Percent)</td>\n",
       "      <td>Currently married (Percent)</td>\n",
       "      <td>Estimates and Projections of Women of Reproduc...</td>\n",
       "      <td>2024</td>\n",
       "      <td>United Nations Population Division</td>\n",
       "      <td>24</td>\n",
       "      <td>Angola</td>\n",
       "      <td>AO</td>\n",
       "      <td>AGO</td>\n",
       "      <td>...</td>\n",
       "      <td>15</td>\n",
       "      <td>49</td>\n",
       "      <td>15-49</td>\n",
       "      <td>100</td>\n",
       "      <td>Married or in a union women</td>\n",
       "      <td>1</td>\n",
       "      <td>Model-based Estimates</td>\n",
       "      <td>3</td>\n",
       "      <td>Projection</td>\n",
       "      <td>55.94</td>\n",
       "    </tr>\n",
       "  </tbody>\n",
       "</table>\n",
       "<p>10 rows × 27 columns</p>\n",
       "</div>"
      ],
      "text/plain": [
       "       indicatorid                indicatorname           indicatorshortname  \\\n",
       "38              42  Currently married (Percent)  Currently married (Percent)   \n",
       "18758           42  Currently married (Percent)  Currently married (Percent)   \n",
       "22489           42  Currently married (Percent)  Currently married (Percent)   \n",
       "21119           42  Currently married (Percent)  Currently married (Percent)   \n",
       "4308            42  Currently married (Percent)  Currently married (Percent)   \n",
       "15974           42  Currently married (Percent)  Currently married (Percent)   \n",
       "1182            42  Currently married (Percent)  Currently married (Percent)   \n",
       "19692           42  Currently married (Percent)  Currently married (Percent)   \n",
       "10113           42  Currently married (Percent)  Currently married (Percent)   \n",
       "555             42  Currently married (Percent)  Currently married (Percent)   \n",
       "\n",
       "                                                  source  sourceyear  \\\n",
       "38     Estimates and Projections of Women of Reproduc...        2024   \n",
       "18758  Estimates and Projections of Women of Reproduc...        2024   \n",
       "22489  Estimates and Projections of Women of Reproduc...        2024   \n",
       "21119  Estimates and Projections of Women of Reproduc...        2024   \n",
       "4308   Estimates and Projections of Women of Reproduc...        2024   \n",
       "15974  Estimates and Projections of Women of Reproduc...        2024   \n",
       "1182   Estimates and Projections of Women of Reproduc...        2024   \n",
       "19692  Estimates and Projections of Women of Reproduc...        2024   \n",
       "10113  Estimates and Projections of Women of Reproduc...        2024   \n",
       "555    Estimates and Projections of Women of Reproduc...        2024   \n",
       "\n",
       "                                   author  locationid      location iso2 iso3  \\\n",
       "38     United Nations Population Division           4   Afghanistan   AF  AFG   \n",
       "18758  United Nations Population Division         646        Rwanda   RW  RWA   \n",
       "22489  United Nations Population Division         776         Tonga   TO  TON   \n",
       "21119  United Nations Population Division         728   South Sudan   SS  SSD   \n",
       "4308   United Nations Population Division         152         Chile   CL  CHL   \n",
       "15974  United Nations Population Division         548       Vanuatu   VU  VUT   \n",
       "1182   United Nations Population Division          44       Bahamas   BS  BHS   \n",
       "19692  United Nations Population Division         682  Saudi Arabia   SA  SAU   \n",
       "10113  United Nations Population Division         356         India   IN  IND   \n",
       "555    United Nations Population Division          24        Angola   AO  AGO   \n",
       "\n",
       "       ...  agestart  ageend    age categoryid                     category  \\\n",
       "38     ...        15      49  15-49        100  Married or in a union women   \n",
       "18758  ...        15      49  15-49        100  Married or in a union women   \n",
       "22489  ...        15      49  15-49        100  Married or in a union women   \n",
       "21119  ...        15      49  15-49        100  Married or in a union women   \n",
       "4308   ...        15      49  15-49        100  Married or in a union women   \n",
       "15974  ...        15      49  15-49        100  Married or in a union women   \n",
       "1182   ...        15      49  15-49        100  Married or in a union women   \n",
       "19692  ...        15      49  15-49        100  Married or in a union women   \n",
       "10113  ...        15      49  15-49        100  Married or in a union women   \n",
       "555    ...        15      49  15-49        100  Married or in a union women   \n",
       "\n",
       "      estimatetypeid           estimatetype  estimatemethodid  estimatemethod  \\\n",
       "38                 1  Model-based Estimates                 2   Interpolation   \n",
       "18758              1  Model-based Estimates                 2   Interpolation   \n",
       "22489              1  Model-based Estimates                 2   Interpolation   \n",
       "21119              1  Model-based Estimates                 2   Interpolation   \n",
       "4308               1  Model-based Estimates                 2   Interpolation   \n",
       "15974              1  Model-based Estimates                 2   Interpolation   \n",
       "1182               1  Model-based Estimates                 2   Interpolation   \n",
       "19692              1  Model-based Estimates                 2   Interpolation   \n",
       "10113              1  Model-based Estimates                 2   Interpolation   \n",
       "555                1  Model-based Estimates                 3      Projection   \n",
       "\n",
       "       value  \n",
       "38     75.52  \n",
       "18758  48.79  \n",
       "22489  52.26  \n",
       "21119  76.81  \n",
       "4308   49.16  \n",
       "15974  64.39  \n",
       "1182   40.82  \n",
       "19692  57.82  \n",
       "10113  78.87  \n",
       "555    55.94  \n",
       "\n",
       "[10 rows x 27 columns]"
      ]
     },
     "execution_count": 775,
     "metadata": {},
     "output_type": "execute_result"
    }
   ],
   "source": [
    "df_9.columns = df_9.columns.str.lower() \\\n",
    "    .str.replace(' ', '') \\\n",
    "    .str.replace('(', '') \\\n",
    "    .str.replace(')', '') \\\n",
    "    .str.replace('[^0-9a-zA-Z_]', '', regex=True)\n",
    "df_9.sample(10)"
   ]
  },
  {
   "cell_type": "code",
   "execution_count": 776,
   "id": "a97f8b9b",
   "metadata": {},
   "outputs": [],
   "source": [
    "df_9 = df_9.drop(columns=['indicatorid','indicatorshortname',\n",
    "    'source',\n",
    "    'author', 'locationid', 'iso2','estimatetypeid','category','categoryid','agestart','ageend','author','ageid', 'estimatetype','variantid','sexid','timeid'])\n",
    "\n",
    "df_9.rename(columns={\n",
    "    \"sourceyear\": \"year\",\n",
    "    \"location\": \"country\",\n",
    "    \"estimatemethodid\": \"estimate_method\",\n",
    "    \"iso3\": \"code\",\n",
    "}, inplace=True)\n",
    "\n"
   ]
  },
  {
   "cell_type": "code",
   "execution_count": 777,
   "id": "edd57bf4",
   "metadata": {},
   "outputs": [],
   "source": [
    "df_9.drop_duplicates(inplace=True)"
   ]
  },
  {
   "cell_type": "code",
   "execution_count": 778,
   "id": "13374343",
   "metadata": {},
   "outputs": [
    {
     "data": {
      "text/html": [
       "<div>\n",
       "<style scoped>\n",
       "    .dataframe tbody tr th:only-of-type {\n",
       "        vertical-align: middle;\n",
       "    }\n",
       "\n",
       "    .dataframe tbody tr th {\n",
       "        vertical-align: top;\n",
       "    }\n",
       "\n",
       "    .dataframe thead th {\n",
       "        text-align: right;\n",
       "    }\n",
       "</style>\n",
       "<table border=\"1\" class=\"dataframe\">\n",
       "  <thead>\n",
       "    <tr style=\"text-align: right;\">\n",
       "      <th></th>\n",
       "      <th>indicatorname</th>\n",
       "      <th>year</th>\n",
       "      <th>country</th>\n",
       "      <th>code</th>\n",
       "      <th>time</th>\n",
       "      <th>variant</th>\n",
       "      <th>sex</th>\n",
       "      <th>age</th>\n",
       "      <th>estimate_method</th>\n",
       "      <th>estimatemethod</th>\n",
       "      <th>value</th>\n",
       "    </tr>\n",
       "  </thead>\n",
       "  <tbody>\n",
       "    <tr>\n",
       "      <th>0</th>\n",
       "      <td>Currently married (Percent)</td>\n",
       "      <td>2024</td>\n",
       "      <td>Afghanistan</td>\n",
       "      <td>AFG</td>\n",
       "      <td>1970</td>\n",
       "      <td>Median</td>\n",
       "      <td>Female</td>\n",
       "      <td>15-49</td>\n",
       "      <td>2</td>\n",
       "      <td>Interpolation</td>\n",
       "      <td>80.94</td>\n",
       "    </tr>\n",
       "    <tr>\n",
       "      <th>2</th>\n",
       "      <td>Currently married (Percent)</td>\n",
       "      <td>2024</td>\n",
       "      <td>Afghanistan</td>\n",
       "      <td>AFG</td>\n",
       "      <td>1971</td>\n",
       "      <td>Median</td>\n",
       "      <td>Female</td>\n",
       "      <td>15-49</td>\n",
       "      <td>2</td>\n",
       "      <td>Interpolation</td>\n",
       "      <td>80.90</td>\n",
       "    </tr>\n",
       "    <tr>\n",
       "      <th>4</th>\n",
       "      <td>Currently married (Percent)</td>\n",
       "      <td>2024</td>\n",
       "      <td>Afghanistan</td>\n",
       "      <td>AFG</td>\n",
       "      <td>1972</td>\n",
       "      <td>Median</td>\n",
       "      <td>Female</td>\n",
       "      <td>15-49</td>\n",
       "      <td>2</td>\n",
       "      <td>Interpolation</td>\n",
       "      <td>80.87</td>\n",
       "    </tr>\n",
       "    <tr>\n",
       "      <th>6</th>\n",
       "      <td>Currently married (Percent)</td>\n",
       "      <td>2024</td>\n",
       "      <td>Afghanistan</td>\n",
       "      <td>AFG</td>\n",
       "      <td>1973</td>\n",
       "      <td>Median</td>\n",
       "      <td>Female</td>\n",
       "      <td>15-49</td>\n",
       "      <td>2</td>\n",
       "      <td>Interpolation</td>\n",
       "      <td>80.84</td>\n",
       "    </tr>\n",
       "    <tr>\n",
       "      <th>8</th>\n",
       "      <td>Currently married (Percent)</td>\n",
       "      <td>2024</td>\n",
       "      <td>Afghanistan</td>\n",
       "      <td>AFG</td>\n",
       "      <td>1974</td>\n",
       "      <td>Median</td>\n",
       "      <td>Female</td>\n",
       "      <td>15-49</td>\n",
       "      <td>2</td>\n",
       "      <td>Interpolation</td>\n",
       "      <td>80.53</td>\n",
       "    </tr>\n",
       "    <tr>\n",
       "      <th>...</th>\n",
       "      <td>...</td>\n",
       "      <td>...</td>\n",
       "      <td>...</td>\n",
       "      <td>...</td>\n",
       "      <td>...</td>\n",
       "      <td>...</td>\n",
       "      <td>...</td>\n",
       "      <td>...</td>\n",
       "      <td>...</td>\n",
       "      <td>...</td>\n",
       "      <td>...</td>\n",
       "    </tr>\n",
       "    <tr>\n",
       "      <th>25078</th>\n",
       "      <td>Currently married (Percent)</td>\n",
       "      <td>2024</td>\n",
       "      <td>Zambia</td>\n",
       "      <td>ZMB</td>\n",
       "      <td>2021</td>\n",
       "      <td>Median</td>\n",
       "      <td>Female</td>\n",
       "      <td>15-49</td>\n",
       "      <td>3</td>\n",
       "      <td>Projection</td>\n",
       "      <td>54.31</td>\n",
       "    </tr>\n",
       "    <tr>\n",
       "      <th>25080</th>\n",
       "      <td>Currently married (Percent)</td>\n",
       "      <td>2024</td>\n",
       "      <td>Zambia</td>\n",
       "      <td>ZMB</td>\n",
       "      <td>2022</td>\n",
       "      <td>Median</td>\n",
       "      <td>Female</td>\n",
       "      <td>15-49</td>\n",
       "      <td>3</td>\n",
       "      <td>Projection</td>\n",
       "      <td>53.82</td>\n",
       "    </tr>\n",
       "    <tr>\n",
       "      <th>25082</th>\n",
       "      <td>Currently married (Percent)</td>\n",
       "      <td>2024</td>\n",
       "      <td>Zambia</td>\n",
       "      <td>ZMB</td>\n",
       "      <td>2023</td>\n",
       "      <td>Median</td>\n",
       "      <td>Female</td>\n",
       "      <td>15-49</td>\n",
       "      <td>3</td>\n",
       "      <td>Projection</td>\n",
       "      <td>53.35</td>\n",
       "    </tr>\n",
       "    <tr>\n",
       "      <th>25084</th>\n",
       "      <td>Currently married (Percent)</td>\n",
       "      <td>2024</td>\n",
       "      <td>Zambia</td>\n",
       "      <td>ZMB</td>\n",
       "      <td>2024</td>\n",
       "      <td>Median</td>\n",
       "      <td>Female</td>\n",
       "      <td>15-49</td>\n",
       "      <td>3</td>\n",
       "      <td>Projection</td>\n",
       "      <td>52.91</td>\n",
       "    </tr>\n",
       "    <tr>\n",
       "      <th>25086</th>\n",
       "      <td>Currently married (Percent)</td>\n",
       "      <td>2024</td>\n",
       "      <td>Zambia</td>\n",
       "      <td>ZMB</td>\n",
       "      <td>2025</td>\n",
       "      <td>Median</td>\n",
       "      <td>Female</td>\n",
       "      <td>15-49</td>\n",
       "      <td>3</td>\n",
       "      <td>Projection</td>\n",
       "      <td>52.52</td>\n",
       "    </tr>\n",
       "  </tbody>\n",
       "</table>\n",
       "<p>12544 rows × 11 columns</p>\n",
       "</div>"
      ],
      "text/plain": [
       "                     indicatorname  year      country code  time variant  \\\n",
       "0      Currently married (Percent)  2024  Afghanistan  AFG  1970  Median   \n",
       "2      Currently married (Percent)  2024  Afghanistan  AFG  1971  Median   \n",
       "4      Currently married (Percent)  2024  Afghanistan  AFG  1972  Median   \n",
       "6      Currently married (Percent)  2024  Afghanistan  AFG  1973  Median   \n",
       "8      Currently married (Percent)  2024  Afghanistan  AFG  1974  Median   \n",
       "...                            ...   ...          ...  ...   ...     ...   \n",
       "25078  Currently married (Percent)  2024       Zambia  ZMB  2021  Median   \n",
       "25080  Currently married (Percent)  2024       Zambia  ZMB  2022  Median   \n",
       "25082  Currently married (Percent)  2024       Zambia  ZMB  2023  Median   \n",
       "25084  Currently married (Percent)  2024       Zambia  ZMB  2024  Median   \n",
       "25086  Currently married (Percent)  2024       Zambia  ZMB  2025  Median   \n",
       "\n",
       "          sex    age  estimate_method estimatemethod  value  \n",
       "0      Female  15-49                2  Interpolation  80.94  \n",
       "2      Female  15-49                2  Interpolation  80.90  \n",
       "4      Female  15-49                2  Interpolation  80.87  \n",
       "6      Female  15-49                2  Interpolation  80.84  \n",
       "8      Female  15-49                2  Interpolation  80.53  \n",
       "...       ...    ...              ...            ...    ...  \n",
       "25078  Female  15-49                3     Projection  54.31  \n",
       "25080  Female  15-49                3     Projection  53.82  \n",
       "25082  Female  15-49                3     Projection  53.35  \n",
       "25084  Female  15-49                3     Projection  52.91  \n",
       "25086  Female  15-49                3     Projection  52.52  \n",
       "\n",
       "[12544 rows x 11 columns]"
      ]
     },
     "execution_count": 778,
     "metadata": {},
     "output_type": "execute_result"
    }
   ],
   "source": [
    "df_9"
   ]
  },
  {
   "cell_type": "code",
   "execution_count": null,
   "id": "90b13b28",
   "metadata": {},
   "outputs": [],
   "source": [
    "#df_9.to_csv(\"cleaned_unpopulation_dataportal.csv\", index=False)"
   ]
  },
  {
   "cell_type": "code",
   "execution_count": null,
   "id": "73f014f0",
   "metadata": {},
   "outputs": [
    {
     "data": {
      "text/plain": [
       "544"
      ]
     },
     "execution_count": 780,
     "metadata": {},
     "output_type": "execute_result"
    }
   ],
   "source": [
    "#df_9.to_sql('unpopulation_dataportal', engine, if_exists='replace', index=False)"
   ]
  }
 ],
 "metadata": {
  "kernelspec": {
   "display_name": "py310env",
   "language": "python",
   "name": "python3"
  },
  "language_info": {
   "codemirror_mode": {
    "name": "ipython",
    "version": 3
   },
   "file_extension": ".py",
   "mimetype": "text/x-python",
   "name": "python",
   "nbconvert_exporter": "python",
   "pygments_lexer": "ipython3",
   "version": "3.10.18"
  }
 },
 "nbformat": 4,
 "nbformat_minor": 5
}
