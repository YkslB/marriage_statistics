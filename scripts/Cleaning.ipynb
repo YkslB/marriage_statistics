{
 "cells": [
  {
   "cell_type": "code",
   "execution_count": 11,
   "id": "8edbb5ae",
   "metadata": {},
   "outputs": [],
   "source": [
    "import pandas as pd\n",
    "from matplotlib import pyplot as plt\n",
    "import seaborn as sns\n",
    "import numpy as np\n",
    "from sqlalchemy import create_engine, types\n",
    "from sqlalchemy import text "
   ]
  },
  {
   "cell_type": "code",
   "execution_count": 12,
   "id": "13566b4a",
   "metadata": {},
   "outputs": [],
   "source": [
    "from dotenv import dotenv_values\n",
    "\n",
    "config = dotenv_values()\n",
    "\n",
    "# define variables for the login\n",
    "pg_user = config['POSTGRES_USER']  # align the key label with your .env file !\n",
    "pg_host = config['POSTGRES_HOST']\n",
    "pg_port = config['POSTGRES_PORT']\n",
    "pg_db = config['POSTGRES_DB']\n",
    "pg_schema = config['POSTGRES_SCHEMA']\n",
    "pg_pass = config['POSTGRES_PASS']"
   ]
  },
  {
   "cell_type": "code",
   "execution_count": 13,
   "id": "e7b75227",
   "metadata": {},
   "outputs": [],
   "source": [
    "url = f'postgresql://{pg_user}:{pg_pass}@{pg_host}:{pg_port}/{pg_db}'\n",
    "engine = create_engine(url, echo=False)"
   ]
  },
  {
   "cell_type": "code",
   "execution_count": 14,
   "id": "b54d720a",
   "metadata": {},
   "outputs": [],
   "source": [
    "my_schema = 'team_5' # update it to your schema\n",
    "\n",
    "with engine.begin() as conn: \n",
    "    result = conn.execute(text(f'SET search_path TO {my_schema};'))"
   ]
  },
  {
   "cell_type": "code",
   "execution_count": 15,
   "id": "ec990454",
   "metadata": {},
   "outputs": [],
   "source": [
    "df_1= pd.read_csv('../data/Raw/World_Marriage_Dataset.csv')"
   ]
  },
  {
   "cell_type": "code",
   "execution_count": 16,
   "id": "3aeb2463",
   "metadata": {},
   "outputs": [],
   "source": [
    "df_1.drop(columns=[\"Sr.No.\"], inplace=True)"
   ]
  },
  {
   "cell_type": "code",
   "execution_count": 17,
   "id": "3ecbef6c",
   "metadata": {},
   "outputs": [],
   "source": [
    "df_1.columns = df_1.columns.str.lower() \\\n",
    "    .str.replace(' ', '_') \\\n",
    "    .str.replace('(', '') \\\n",
    "    .str.replace(')', '') \\\n",
    "    .str.replace('[^0-9a-zA-Z_]', '', regex=True)"
   ]
  },
  {
   "cell_type": "code",
   "execution_count": 18,
   "id": "de0ed567",
   "metadata": {},
   "outputs": [],
   "source": [
    "df_1.rename(columns={\n",
    "    \"agegroup\": \"age_group\",\n",
    "    \"maritalstatus\": \"marital_status\",\n",
    "    \"dataprocess\": \"data_process\",\n",
    "    \"Data Collection (Start Year)\": \"data_collection_start_year\",\n",
    "    \"Data Collection (End Year)\": \"data_collection_end_year\",\n",
    "    \"Data Source\": \"data_source\",\n",
    "    \"Country\": \"country\",\n",
    "    \"Sex\": \"sex\"\n",
    "}, inplace=True)"
   ]
  },
  {
   "cell_type": "code",
   "execution_count": 19,
   "id": "7268fa4e",
   "metadata": {},
   "outputs": [],
   "source": [
    "df_1.drop_duplicates(inplace=True)\n",
    "\n",
    "df_1['data_collection_start_year'] = df_1['data_collection_start_year'].astype(str).str.replace(',', '').astype(int)\n",
    "df_1['data_collection_end_year'] = df_1['data_collection_end_year'].astype(str).str.replace(',', '').astype(int)"
   ]
  },
  {
   "cell_type": "code",
   "execution_count": 20,
   "id": "1faea9f6",
   "metadata": {},
   "outputs": [],
   "source": [
    "df_2 = pd.read_csv('../data/Raw/age-at-marriage-women.csv')"
   ]
  },
  {
   "cell_type": "code",
   "execution_count": 21,
   "id": "db32400b",
   "metadata": {},
   "outputs": [],
   "source": [
    "df_2.columns = df_2.columns.str.lower() \\\n",
    "    .str.replace(' ', '_') \\\n",
    "    .str.replace('(', '') \\\n",
    "    .str.replace(')', '') \\\n",
    "    .str.replace('[^0-9a-zA-Z_]', '', regex=True)"
   ]
  },
  {
   "cell_type": "code",
   "execution_count": 22,
   "id": "149d8113",
   "metadata": {},
   "outputs": [],
   "source": [
    "df_2 = df_2.drop(columns=['1005564annotations'])\n",
    "\n",
    "df_2.rename(columns={\n",
    "    \"entity\": \"country\",   \n",
    "}, inplace=True)"
   ]
  },
  {
   "cell_type": "code",
   "execution_count": 23,
   "id": "5b1591c4",
   "metadata": {},
   "outputs": [],
   "source": [
    "df_2.drop_duplicates(inplace=True)\n"
   ]
  },
  {
   "cell_type": "code",
   "execution_count": 24,
   "id": "c2d7dd53",
   "metadata": {},
   "outputs": [],
   "source": [
    "df_2['year'] = df_2['year'].astype(str).str.replace(',', '').astype(int)"
   ]
  },
  {
   "cell_type": "code",
   "execution_count": 25,
   "id": "77d0c360",
   "metadata": {},
   "outputs": [],
   "source": [
    "df_3= pd.read_csv('../data/Raw/marriage-rate-per-1000-inhabitants.csv')"
   ]
  },
  {
   "cell_type": "code",
   "execution_count": 26,
   "id": "e846027f",
   "metadata": {},
   "outputs": [],
   "source": [
    "df_3.columns = df_3.columns.str.lower() \\\n",
    "    .str.replace(' ', '_') \\\n",
    "    .str.replace('(', '') \\\n",
    "    .str.replace(')', '') \\\n",
    "    .str.replace('[^0-9a-zA-Z_]', '', regex=True)"
   ]
  },
  {
   "cell_type": "code",
   "execution_count": 27,
   "id": "193dc9a1",
   "metadata": {},
   "outputs": [],
   "source": [
    "df_3.rename(columns={\n",
    "    \"entity\": \"country\",   \n",
    "}, inplace=True)"
   ]
  },
  {
   "cell_type": "code",
   "execution_count": 28,
   "id": "d04666fc",
   "metadata": {},
   "outputs": [],
   "source": [
    "df_3['year'] = df_3['year'].astype(str).str.replace(',', '').astype(int)"
   ]
  },
  {
   "cell_type": "code",
   "execution_count": 29,
   "id": "ff7e90f7",
   "metadata": {},
   "outputs": [],
   "source": [
    "df_3.drop_duplicates(inplace=True)\n"
   ]
  },
  {
   "cell_type": "code",
   "execution_count": 30,
   "id": "aa41d55e",
   "metadata": {},
   "outputs": [],
   "source": [
    "df_4= pd.read_csv('../data/Raw/marriage-rates-in-1990-vs-2020.csv')"
   ]
  },
  {
   "cell_type": "code",
   "execution_count": 31,
   "id": "3edd8a12",
   "metadata": {},
   "outputs": [],
   "source": [
    "df_4.columns = df_4.columns.str.lower() \\\n",
    "    .str.replace(' ', '') \\\n",
    "    .str.replace('(', '') \\\n",
    "    .str.replace(')', '') \\\n",
    "    .str.replace('[^0-9a-zA-Z_]', '', regex=True)"
   ]
  },
  {
   "cell_type": "code",
   "execution_count": 32,
   "id": "266353a0",
   "metadata": {},
   "outputs": [],
   "source": [
    "df_4 = df_4.drop(columns=['worldregionsaccordingtoowid'])\n",
    "\n",
    "df_4.rename(columns={\n",
    "    \"crudemarriageratemarriagesper1000people\": \"crude_marriage_rate\",\n",
    "    \"crudemarriageratemarriagesper1000people1\": \"crude_marriage_rate_people1\",\n",
    "    \"year1\": \"year_1\",\n",
    "    \"entity\": \"country\"\n",
    "}, inplace=True)"
   ]
  },
  {
   "cell_type": "code",
   "execution_count": 33,
   "id": "74f449df",
   "metadata": {},
   "outputs": [],
   "source": [
    "df_4.drop_duplicates(inplace=True)\n",
    "df_4.dropna(inplace=True)"
   ]
  },
  {
   "cell_type": "code",
   "execution_count": 34,
   "id": "ecc2e9d1",
   "metadata": {},
   "outputs": [],
   "source": [
    "df_4['year_1'] = pd.to_numeric(df_4['year_1'], errors='coerce').astype('Int64')"
   ]
  },
  {
   "cell_type": "code",
   "execution_count": 35,
   "id": "133d47b0",
   "metadata": {},
   "outputs": [],
   "source": [
    "df_5 = pd.read_csv('../data/Raw/share-of-births-outside-marriage.csv')"
   ]
  },
  {
   "cell_type": "code",
   "execution_count": 36,
   "id": "4d3243d2",
   "metadata": {},
   "outputs": [],
   "source": [
    "df_5.columns = df_5.columns.str.lower() \\\n",
    "    .str.replace(' ', '') \\\n",
    "    .str.replace('(', '') \\\n",
    "    .str.replace(')', '') \\\n",
    "    .str.replace('[^0-9a-zA-Z_]', '', regex=True)"
   ]
  },
  {
   "cell_type": "code",
   "execution_count": 37,
   "id": "80b37147",
   "metadata": {},
   "outputs": [],
   "source": [
    "\n",
    "df_5.rename(columns={\n",
    "    \"shareofbirthsoutsideofmarriageofallbirths\": \"share_of_births_outside_of_marriage\",\n",
    "    \"entity\": \"country\"\n",
    "}, inplace=True)\n",
    "\n",
    "df_5.drop_duplicates(inplace=True)"
   ]
  }
 ],
 "metadata": {
  "kernelspec": {
   "display_name": "py310env",
   "language": "python",
   "name": "python3"
  },
  "language_info": {
   "codemirror_mode": {
    "name": "ipython",
    "version": 3
   },
   "file_extension": ".py",
   "mimetype": "text/x-python",
   "name": "python",
   "nbconvert_exporter": "python",
   "pygments_lexer": "ipython3",
   "version": "3.10.18"
  }
 },
 "nbformat": 4,
 "nbformat_minor": 5
}
