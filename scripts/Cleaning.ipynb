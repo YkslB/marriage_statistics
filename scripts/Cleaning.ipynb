{
 "cells": [
  {
   "cell_type": "code",
   "execution_count": 362,
   "id": "8edbb5ae",
   "metadata": {},
   "outputs": [],
   "source": [
    "import pandas as pd\n",
    "import os\n",
    "from matplotlib import pyplot as plt\n",
    "import seaborn as sns\n",
    "import numpy as np\n",
    "from sqlalchemy import create_engine, types\n",
    "from sqlalchemy import text "
   ]
  },
  {
   "cell_type": "code",
   "execution_count": 363,
   "id": "13566b4a",
   "metadata": {},
   "outputs": [],
   "source": [
    "from dotenv import dotenv_values\n",
    "\n",
    "config = dotenv_values()\n",
    "\n",
    "# define variables for the login\n",
    "pg_user = config['POSTGRES_USER']  # align the key label with your .env file !\n",
    "pg_host = config['POSTGRES_HOST']\n",
    "pg_port = config['POSTGRES_PORT']\n",
    "pg_db = config['POSTGRES_DB']\n",
    "pg_schema = config['POSTGRES_SCHEMA']\n",
    "pg_pass = config['POSTGRES_PASS']"
   ]
  },
  {
   "cell_type": "code",
   "execution_count": 364,
   "id": "e7b75227",
   "metadata": {},
   "outputs": [],
   "source": [
    "url = f'postgresql://{pg_user}:{pg_pass}@{pg_host}:{pg_port}/{pg_db}'\n",
    "engine = create_engine(url, echo=False)"
   ]
  },
  {
   "cell_type": "code",
   "execution_count": 365,
   "id": "b54d720a",
   "metadata": {},
   "outputs": [],
   "source": [
    "my_schema = 'team_5' # update it to your schema\n",
    "\n",
    "with engine.begin() as conn: \n",
    "    result = conn.execute(text(f'SET search_path TO {my_schema};'))"
   ]
  },
  {
   "cell_type": "code",
   "execution_count": 366,
   "id": "ec990454",
   "metadata": {},
   "outputs": [],
   "source": [
    "df_1= pd.read_csv('../data/Raw/World_Marriage_Dataset.csv')"
   ]
  },
  {
   "cell_type": "code",
   "execution_count": 367,
   "id": "3aeb2463",
   "metadata": {},
   "outputs": [],
   "source": [
    "df_1.drop(columns=[\"Sr.No.\"], inplace=True)"
   ]
  },
  {
   "cell_type": "code",
   "execution_count": 368,
   "id": "3ecbef6c",
   "metadata": {},
   "outputs": [],
   "source": [
    "df_1.columns = df_1.columns.str.lower() \\\n",
    "    .str.replace(' ', '_') \\\n",
    "    .str.replace('(', '') \\\n",
    "    .str.replace(')', '') \\\n",
    "    .str.replace('[^0-9a-zA-Z_]', '', regex=True)"
   ]
  },
  {
   "cell_type": "code",
   "execution_count": 369,
   "id": "de0ed567",
   "metadata": {},
   "outputs": [],
   "source": [
    "df_1.rename(columns={\n",
    "    \"agegroup\": \"age_group\",\n",
    "    \"maritalstatus\": \"marital_status\",\n",
    "    \"dataprocess\": \"data_process\",\n",
    "    \"Data Collection (Start Year)\": \"data_collection_start_year\",\n",
    "    \"Data Collection (End Year)\": \"data_collection_end_year\",\n",
    "    \"Data Source\": \"data_source\",\n",
    "    \"Country\": \"country\",\n",
    "    \"Sex\": \"sex\"\n",
    "}, inplace=True)"
   ]
  },
  {
   "cell_type": "code",
   "execution_count": 370,
   "id": "7268fa4e",
   "metadata": {},
   "outputs": [],
   "source": [
    "df_1.drop_duplicates(inplace=True)\n",
    "\n",
    "df_1['data_collection_start_year'] = df_1['data_collection_start_year'].astype(str).str.replace(',', '').astype(int)\n",
    "df_1['data_collection_end_year'] = df_1['data_collection_end_year'].astype(str).str.replace(',', '').astype(int)"
   ]
  },
  {
   "cell_type": "code",
   "execution_count": 371,
   "id": "88ac1c68",
   "metadata": {},
   "outputs": [
    {
     "data": {
      "text/plain": [
       "country                       0\n",
       "age_group                     0\n",
       "sex                           0\n",
       "marital_status                0\n",
       "data_process                  0\n",
       "data_collection_start_year    0\n",
       "data_collection_end_year      0\n",
       "data_source                   0\n",
       "dtype: int64"
      ]
     },
     "execution_count": 371,
     "metadata": {},
     "output_type": "execute_result"
    }
   ],
   "source": [
    "df_1.isnull().sum()"
   ]
  },
  {
   "cell_type": "code",
   "execution_count": 372,
   "id": "0a9a1cdd",
   "metadata": {},
   "outputs": [],
   "source": [
    "#df_1.to_csv(\"cleaned_world_marriage.csv\", index=False)"
   ]
  },
  {
   "cell_type": "code",
   "execution_count": 373,
   "id": "b8f9f959",
   "metadata": {},
   "outputs": [],
   "source": [
    "#df_1.to_sql('world_marriage', engine, if_exists='replace', index=False)"
   ]
  },
  {
   "cell_type": "code",
   "execution_count": 374,
   "id": "1faea9f6",
   "metadata": {},
   "outputs": [],
   "source": [
    "df_2 = pd.read_csv('../data/Raw/age-at-marriage-women.csv')"
   ]
  },
  {
   "cell_type": "code",
   "execution_count": 375,
   "id": "db32400b",
   "metadata": {},
   "outputs": [],
   "source": [
    "df_2.columns = df_2.columns.str.lower() \\\n",
    "    .str.replace(' ', '_') \\\n",
    "    .str.replace('(', '') \\\n",
    "    .str.replace(')', '') \\\n",
    "    .str.replace('[^0-9a-zA-Z_]', '', regex=True)"
   ]
  },
  {
   "cell_type": "code",
   "execution_count": 376,
   "id": "149d8113",
   "metadata": {},
   "outputs": [],
   "source": [
    "df_2 = df_2.drop(columns=['1005564annotations'])\n",
    "\n",
    "df_2.rename(columns={\n",
    "    \"entity\": \"country\",   \n",
    "}, inplace=True)"
   ]
  },
  {
   "cell_type": "code",
   "execution_count": 377,
   "id": "5b1591c4",
   "metadata": {},
   "outputs": [],
   "source": [
    "df_2.drop_duplicates(inplace=True)\n"
   ]
  },
  {
   "cell_type": "code",
   "execution_count": 378,
   "id": "c2d7dd53",
   "metadata": {},
   "outputs": [],
   "source": [
    "df_2['year'] = df_2['year'].astype(str).str.replace(',', '').astype(int)"
   ]
  },
  {
   "cell_type": "code",
   "execution_count": 379,
   "id": "69b7a060",
   "metadata": {},
   "outputs": [
    {
     "data": {
      "text/plain": [
       "country                                0\n",
       "code                                   0\n",
       "year                                   0\n",
       "mean_age_of_women_at_first_marriage    0\n",
       "dtype: int64"
      ]
     },
     "execution_count": 379,
     "metadata": {},
     "output_type": "execute_result"
    }
   ],
   "source": [
    "df_2.isnull().sum()"
   ]
  },
  {
   "cell_type": "code",
   "execution_count": 380,
   "id": "988b26e6",
   "metadata": {},
   "outputs": [],
   "source": [
    "#df_2.to_csv(\"cleaned_age_at_marriage_women.csv\", index=False)"
   ]
  },
  {
   "cell_type": "code",
   "execution_count": 381,
   "id": "c3d6586c",
   "metadata": {},
   "outputs": [],
   "source": [
    "#df_2.to_sql('age_at_marriage_women', engine, if_exists='replace', index=False)"
   ]
  },
  {
   "cell_type": "code",
   "execution_count": 382,
   "id": "77d0c360",
   "metadata": {},
   "outputs": [],
   "source": [
    "df_3= pd.read_csv('../data/Raw/marriage-rate-per-1000-inhabitants.csv')"
   ]
  },
  {
   "cell_type": "code",
   "execution_count": 383,
   "id": "e846027f",
   "metadata": {},
   "outputs": [],
   "source": [
    "df_3.columns = df_3.columns.str.lower() \\\n",
    "    .str.replace(' ', '_') \\\n",
    "    .str.replace('(', '') \\\n",
    "    .str.replace(')', '') \\\n",
    "    .str.replace('[^0-9a-zA-Z_]', '', regex=True)"
   ]
  },
  {
   "cell_type": "code",
   "execution_count": 384,
   "id": "193dc9a1",
   "metadata": {},
   "outputs": [],
   "source": [
    "df_3.rename(columns={\n",
    "    \"entity\": \"country\",   \n",
    "}, inplace=True)"
   ]
  },
  {
   "cell_type": "code",
   "execution_count": 385,
   "id": "d04666fc",
   "metadata": {},
   "outputs": [],
   "source": [
    "df_3['year'] = df_3['year'].astype(str).str.replace(',', '').astype(int)"
   ]
  },
  {
   "cell_type": "code",
   "execution_count": 386,
   "id": "ff7e90f7",
   "metadata": {},
   "outputs": [],
   "source": [
    "df_3.drop_duplicates(inplace=True)\n"
   ]
  },
  {
   "cell_type": "code",
   "execution_count": 387,
   "id": "dd9484b1",
   "metadata": {},
   "outputs": [
    {
     "data": {
      "text/plain": [
       "country                                          0\n",
       "code                                             0\n",
       "year                                             0\n",
       "crude_marriage_rate_marriages_per_1000_people    0\n",
       "dtype: int64"
      ]
     },
     "execution_count": 387,
     "metadata": {},
     "output_type": "execute_result"
    }
   ],
   "source": [
    "df_3.isnull().sum()"
   ]
  },
  {
   "cell_type": "code",
   "execution_count": 388,
   "id": "d0be7f40",
   "metadata": {},
   "outputs": [],
   "source": [
    "#df_3.to_csv(\"cleaned_marriage-rate-per-1000-inhabitants.csv\", index=False)"
   ]
  },
  {
   "cell_type": "code",
   "execution_count": 389,
   "id": "29ed0ffc",
   "metadata": {},
   "outputs": [],
   "source": [
    "#df_3.to_sql('married_rate_per_1000', engine, if_exists='replace', index=False)"
   ]
  },
  {
   "cell_type": "code",
   "execution_count": 390,
   "id": "aa41d55e",
   "metadata": {},
   "outputs": [],
   "source": [
    "df_4= pd.read_csv('../data/Raw/marriage-rates-in-1990-vs-2020.csv')"
   ]
  },
  {
   "cell_type": "code",
   "execution_count": 391,
   "id": "3edd8a12",
   "metadata": {},
   "outputs": [],
   "source": [
    "df_4.columns = df_4.columns.str.lower() \\\n",
    "    .str.replace(' ', '') \\\n",
    "    .str.replace('(', '') \\\n",
    "    .str.replace(')', '') \\\n",
    "    .str.replace('[^0-9a-zA-Z_]', '', regex=True)"
   ]
  },
  {
   "cell_type": "code",
   "execution_count": 392,
   "id": "266353a0",
   "metadata": {},
   "outputs": [],
   "source": [
    "df_4 = df_4.drop(columns=['worldregionsaccordingtoowid'])\n",
    "\n",
    "df_4.rename(columns={\n",
    "    \"crudemarriageratemarriagesper1000people\": \"crude_marriage_rate\",\n",
    "    \"crudemarriageratemarriagesper1000people1\": \"crude_marriage_rate_people1\",\n",
    "    \"year1\": \"year_1\",\n",
    "    \"entity\": \"country\"\n",
    "}, inplace=True)"
   ]
  },
  {
   "cell_type": "code",
   "execution_count": 393,
   "id": "74f449df",
   "metadata": {},
   "outputs": [],
   "source": [
    "df_4.drop_duplicates(inplace=True)\n",
    "df_4.dropna(inplace=True)"
   ]
  },
  {
   "cell_type": "code",
   "execution_count": 394,
   "id": "ecc2e9d1",
   "metadata": {},
   "outputs": [],
   "source": [
    "df_4['year_1'] = pd.to_numeric(df_4['year_1'], errors='coerce').astype('Int64')"
   ]
  },
  {
   "cell_type": "code",
   "execution_count": 395,
   "id": "9c07c47b",
   "metadata": {},
   "outputs": [
    {
     "data": {
      "text/plain": [
       "country                        0\n",
       "code                           0\n",
       "year                           0\n",
       "crude_marriage_rate            0\n",
       "crude_marriage_rate_people1    0\n",
       "year_1                         0\n",
       "dtype: int64"
      ]
     },
     "execution_count": 395,
     "metadata": {},
     "output_type": "execute_result"
    }
   ],
   "source": [
    "df_4.isnull().sum()"
   ]
  },
  {
   "cell_type": "code",
   "execution_count": 396,
   "id": "9d60e3c9",
   "metadata": {},
   "outputs": [],
   "source": [
    "#df_4.to_csv(\"cleaned_marriage-rates-in-1990-vs-2020.csv\", index=False)"
   ]
  },
  {
   "cell_type": "code",
   "execution_count": 397,
   "id": "08b53841",
   "metadata": {},
   "outputs": [],
   "source": [
    "#df_4.to_sql('marriage_rates_in_1990_vs_2020', engine, if_exists='replace', index=False)"
   ]
  },
  {
   "cell_type": "code",
   "execution_count": 398,
   "id": "133d47b0",
   "metadata": {},
   "outputs": [],
   "source": [
    "df_5 = pd.read_csv('../data/Raw/share-of-births-outside-marriage.csv')"
   ]
  },
  {
   "cell_type": "code",
   "execution_count": 399,
   "id": "4d3243d2",
   "metadata": {},
   "outputs": [],
   "source": [
    "df_5.columns = df_5.columns.str.lower() \\\n",
    "    .str.replace(' ', '') \\\n",
    "    .str.replace('(', '') \\\n",
    "    .str.replace(')', '') \\\n",
    "    .str.replace('[^0-9a-zA-Z_]', '', regex=True)"
   ]
  },
  {
   "cell_type": "code",
   "execution_count": 400,
   "id": "80b37147",
   "metadata": {},
   "outputs": [],
   "source": [
    "\n",
    "df_5.rename(columns={\n",
    "    \"shareofbirthsoutsideofmarriageofallbirths\": \"share_of_births_outside_of_marriage\",\n",
    "    \"entity\": \"country\"\n",
    "}, inplace=True)\n",
    "\n",
    "df_5.drop_duplicates(inplace=True)"
   ]
  },
  {
   "cell_type": "code",
   "execution_count": 401,
   "id": "17dfcb86",
   "metadata": {},
   "outputs": [
    {
     "data": {
      "text/plain": [
       "country                                0\n",
       "code                                   0\n",
       "year                                   0\n",
       "share_of_births_outside_of_marriage    0\n",
       "dtype: int64"
      ]
     },
     "execution_count": 401,
     "metadata": {},
     "output_type": "execute_result"
    }
   ],
   "source": [
    "df_5.isnull().sum()"
   ]
  },
  {
   "cell_type": "code",
   "execution_count": 402,
   "id": "a1ecb1ab",
   "metadata": {},
   "outputs": [],
   "source": [
    "#df_5.to_csv(\"cleaned_share-of-births-outside-marriage.csv\", index=False)"
   ]
  },
  {
   "cell_type": "code",
   "execution_count": 403,
   "id": "2f44ef2a",
   "metadata": {},
   "outputs": [],
   "source": [
    "#df_5.to_sql('share_of_births_outside_marriage', engine, if_exists='replace', index=False)"
   ]
  },
  {
   "cell_type": "code",
   "execution_count": 404,
   "id": "11e9d430",
   "metadata": {},
   "outputs": [],
   "source": [
    "df_6 = pd.read_csv('../data/Raw/share-of-men-in-england-and-wales-who-have-ever-married-by-age.csv')"
   ]
  },
  {
   "cell_type": "code",
   "execution_count": 405,
   "id": "dc05526d",
   "metadata": {},
   "outputs": [
    {
     "data": {
      "text/html": [
       "<div>\n",
       "<style scoped>\n",
       "    .dataframe tbody tr th:only-of-type {\n",
       "        vertical-align: middle;\n",
       "    }\n",
       "\n",
       "    .dataframe tbody tr th {\n",
       "        vertical-align: top;\n",
       "    }\n",
       "\n",
       "    .dataframe thead th {\n",
       "        text-align: right;\n",
       "    }\n",
       "</style>\n",
       "<table border=\"1\" class=\"dataframe\">\n",
       "  <thead>\n",
       "    <tr style=\"text-align: right;\">\n",
       "      <th></th>\n",
       "      <th>entity</th>\n",
       "      <th>code</th>\n",
       "      <th>year</th>\n",
       "      <th>proportionsofmenorwomenwhohadevermarriedbyacertainagefor1900birthcohort</th>\n",
       "      <th>proportionsofmenorwomenwhohadevermarriedbyacertainagefor1920birthcohort</th>\n",
       "      <th>proportionsofmenorwomenwhohadevermarriedbyacertainagefor1940birthcohort</th>\n",
       "      <th>proportionsofmenorwomenwhohadevermarriedbyacertainagefor1960birthcohort</th>\n",
       "      <th>proportionsofmenorwomenwhohadevermarriedbyacertainagefor1970birthcohort</th>\n",
       "      <th>proportionsofmenorwomenwhohadevermarriedbyacertainagefor1980birthcohort</th>\n",
       "      <th>proportionsofmenorwomenwhohadevermarriedbyacertainagefor1990birthcohort</th>\n",
       "      <th>proportionsofmenorwomenwhohadevermarriedbyacertainagefor2000birthcohort</th>\n",
       "    </tr>\n",
       "  </thead>\n",
       "  <tbody>\n",
       "    <tr>\n",
       "      <th>45</th>\n",
       "      <td>Women</td>\n",
       "      <td>NaN</td>\n",
       "      <td>28</td>\n",
       "      <td>65.0</td>\n",
       "      <td>77.4</td>\n",
       "      <td>88.4</td>\n",
       "      <td>72.0</td>\n",
       "      <td>48.8</td>\n",
       "      <td>29.4</td>\n",
       "      <td>20.7</td>\n",
       "      <td>NaN</td>\n",
       "    </tr>\n",
       "    <tr>\n",
       "      <th>3</th>\n",
       "      <td>Men</td>\n",
       "      <td>NaN</td>\n",
       "      <td>20</td>\n",
       "      <td>2.4</td>\n",
       "      <td>2.2</td>\n",
       "      <td>6.0</td>\n",
       "      <td>6.2</td>\n",
       "      <td>1.9</td>\n",
       "      <td>0.7</td>\n",
       "      <td>0.3</td>\n",
       "      <td>0.1</td>\n",
       "    </tr>\n",
       "    <tr>\n",
       "      <th>6</th>\n",
       "      <td>Men</td>\n",
       "      <td>NaN</td>\n",
       "      <td>23</td>\n",
       "      <td>21.4</td>\n",
       "      <td>26.8</td>\n",
       "      <td>38.1</td>\n",
       "      <td>26.2</td>\n",
       "      <td>10.5</td>\n",
       "      <td>3.9</td>\n",
       "      <td>2.1</td>\n",
       "      <td>0.8</td>\n",
       "    </tr>\n",
       "    <tr>\n",
       "      <th>17</th>\n",
       "      <td>Men</td>\n",
       "      <td>NaN</td>\n",
       "      <td>34</td>\n",
       "      <td>83.2</td>\n",
       "      <td>85.5</td>\n",
       "      <td>88.5</td>\n",
       "      <td>72.4</td>\n",
       "      <td>53.7</td>\n",
       "      <td>40.9</td>\n",
       "      <td>NaN</td>\n",
       "      <td>NaN</td>\n",
       "    </tr>\n",
       "    <tr>\n",
       "      <th>38</th>\n",
       "      <td>Women</td>\n",
       "      <td>NaN</td>\n",
       "      <td>21</td>\n",
       "      <td>14.6</td>\n",
       "      <td>26.1</td>\n",
       "      <td>42.2</td>\n",
       "      <td>31.5</td>\n",
       "      <td>12.7</td>\n",
       "      <td>4.8</td>\n",
       "      <td>1.7</td>\n",
       "      <td>0.6</td>\n",
       "    </tr>\n",
       "  </tbody>\n",
       "</table>\n",
       "</div>"
      ],
      "text/plain": [
       "   entity  code  year  \\\n",
       "45  Women   NaN    28   \n",
       "3     Men   NaN    20   \n",
       "6     Men   NaN    23   \n",
       "17    Men   NaN    34   \n",
       "38  Women   NaN    21   \n",
       "\n",
       "    proportionsofmenorwomenwhohadevermarriedbyacertainagefor1900birthcohort  \\\n",
       "45                                               65.0                         \n",
       "3                                                 2.4                         \n",
       "6                                                21.4                         \n",
       "17                                               83.2                         \n",
       "38                                               14.6                         \n",
       "\n",
       "    proportionsofmenorwomenwhohadevermarriedbyacertainagefor1920birthcohort  \\\n",
       "45                                               77.4                         \n",
       "3                                                 2.2                         \n",
       "6                                                26.8                         \n",
       "17                                               85.5                         \n",
       "38                                               26.1                         \n",
       "\n",
       "    proportionsofmenorwomenwhohadevermarriedbyacertainagefor1940birthcohort  \\\n",
       "45                                               88.4                         \n",
       "3                                                 6.0                         \n",
       "6                                                38.1                         \n",
       "17                                               88.5                         \n",
       "38                                               42.2                         \n",
       "\n",
       "    proportionsofmenorwomenwhohadevermarriedbyacertainagefor1960birthcohort  \\\n",
       "45                                               72.0                         \n",
       "3                                                 6.2                         \n",
       "6                                                26.2                         \n",
       "17                                               72.4                         \n",
       "38                                               31.5                         \n",
       "\n",
       "    proportionsofmenorwomenwhohadevermarriedbyacertainagefor1970birthcohort  \\\n",
       "45                                               48.8                         \n",
       "3                                                 1.9                         \n",
       "6                                                10.5                         \n",
       "17                                               53.7                         \n",
       "38                                               12.7                         \n",
       "\n",
       "    proportionsofmenorwomenwhohadevermarriedbyacertainagefor1980birthcohort  \\\n",
       "45                                               29.4                         \n",
       "3                                                 0.7                         \n",
       "6                                                 3.9                         \n",
       "17                                               40.9                         \n",
       "38                                                4.8                         \n",
       "\n",
       "    proportionsofmenorwomenwhohadevermarriedbyacertainagefor1990birthcohort  \\\n",
       "45                                               20.7                         \n",
       "3                                                 0.3                         \n",
       "6                                                 2.1                         \n",
       "17                                                NaN                         \n",
       "38                                                1.7                         \n",
       "\n",
       "    proportionsofmenorwomenwhohadevermarriedbyacertainagefor2000birthcohort  \n",
       "45                                                NaN                        \n",
       "3                                                 0.1                        \n",
       "6                                                 0.8                        \n",
       "17                                                NaN                        \n",
       "38                                                0.6                        "
      ]
     },
     "execution_count": 405,
     "metadata": {},
     "output_type": "execute_result"
    }
   ],
   "source": [
    "df_6.columns = df_6.columns.str.lower() \\\n",
    "    .str.replace(' ', '') \\\n",
    "    .str.replace('(', '') \\\n",
    "    .str.replace(')', '') \\\n",
    "    .str.replace('[^0-9a-zA-Z_]', '', regex=True)\n",
    "\n",
    "df_6.drop_duplicates(inplace=True)\n",
    "df_6.sample(5)"
   ]
  },
  {
   "cell_type": "code",
   "execution_count": 406,
   "id": "488391fa",
   "metadata": {},
   "outputs": [],
   "source": [
    "df_6 = df_6.drop(columns=['code','proportionsofmenorwomenwhohadevermarriedbyacertainagefor1980birthcohort',\n",
    "    'proportionsofmenorwomenwhohadevermarriedbyacertainagefor1990birthcohort',\n",
    "    'proportionsofmenorwomenwhohadevermarriedbyacertainagefor2000birthcohort'])\n",
    "\n",
    "df_6.rename(columns={\n",
    "    \"proportionsofmenorwomenwhohadevermarriedbyacertainagefor1900birthcohort\": \"1900_birthcohort\",\n",
    "    \"proportionsofmenorwomenwhohadevermarriedbyacertainagefor1920birthcohort\": \"1920_birthcohort\",\n",
    "    \"proportionsofmenorwomenwhohadevermarriedbyacertainagefor1940birthcohort\": \"1940_birthcohort\",\n",
    "    \"proportionsofmenorwomenwhohadevermarriedbyacertainagefor1960birthcohort\": \"1960_birthcohort\",\n",
    "    \"proportionsofmenorwomenwhohadevermarriedbyacertainagefor1970birthcohort\": \"1970_birthcohort\",\n",
    "    \"entity\": \"sex\"\n",
    "}, inplace=True)"
   ]
  },
  {
   "cell_type": "code",
   "execution_count": 407,
   "id": "b67b700e",
   "metadata": {},
   "outputs": [
    {
     "data": {
      "text/plain": [
       "sex                 0\n",
       "year                0\n",
       "1900_birthcohort    0\n",
       "1920_birthcohort    0\n",
       "1940_birthcohort    0\n",
       "1960_birthcohort    0\n",
       "1970_birthcohort    0\n",
       "dtype: int64"
      ]
     },
     "execution_count": 407,
     "metadata": {},
     "output_type": "execute_result"
    }
   ],
   "source": [
    "df_6.isnull().sum()"
   ]
  },
  {
   "cell_type": "code",
   "execution_count": 408,
   "id": "bd00250c",
   "metadata": {},
   "outputs": [],
   "source": [
    "#df_6.to_csv(\"cleaned_share-of-men-in-england-and-wales-who-have-ever-married-by-age.csv\", index=False)"
   ]
  },
  {
   "cell_type": "code",
   "execution_count": 409,
   "id": "a3c676cd",
   "metadata": {},
   "outputs": [],
   "source": [
    "#df_6.to_sql('men_in_england_and_wales_married_by_age', engine, if_exists='replace', index=False)"
   ]
  },
  {
   "cell_type": "code",
   "execution_count": 410,
   "id": "fe0f6e61",
   "metadata": {},
   "outputs": [],
   "source": [
    "df_7 = pd.read_csv('../data/Raw/share-of-births-outside-marriage.csv')"
   ]
  },
  {
   "cell_type": "code",
   "execution_count": 411,
   "id": "61daddb4",
   "metadata": {},
   "outputs": [],
   "source": [
    "df_7.columns = df_7.columns.str.lower() \\\n",
    "    .str.replace(' ', '') \\\n",
    "    .str.replace('(', '') \\\n",
    "    .str.replace(')', '') \\\n",
    "    .str.replace('[^0-9a-zA-Z_]', '', regex=True)"
   ]
  },
  {
   "cell_type": "code",
   "execution_count": 412,
   "id": "6c9dd325",
   "metadata": {},
   "outputs": [
    {
     "data": {
      "text/html": [
       "<div>\n",
       "<style scoped>\n",
       "    .dataframe tbody tr th:only-of-type {\n",
       "        vertical-align: middle;\n",
       "    }\n",
       "\n",
       "    .dataframe tbody tr th {\n",
       "        vertical-align: top;\n",
       "    }\n",
       "\n",
       "    .dataframe thead th {\n",
       "        text-align: right;\n",
       "    }\n",
       "</style>\n",
       "<table border=\"1\" class=\"dataframe\">\n",
       "  <thead>\n",
       "    <tr style=\"text-align: right;\">\n",
       "      <th></th>\n",
       "      <th>country</th>\n",
       "      <th>code</th>\n",
       "      <th>year</th>\n",
       "      <th>shareofbirthsoutsideofmarriageofallbirths</th>\n",
       "    </tr>\n",
       "  </thead>\n",
       "  <tbody>\n",
       "    <tr>\n",
       "      <th>1498</th>\n",
       "      <td>Norway</td>\n",
       "      <td>NOR</td>\n",
       "      <td>1983</td>\n",
       "      <td>19.3</td>\n",
       "    </tr>\n",
       "    <tr>\n",
       "      <th>1379</th>\n",
       "      <td>Netherlands</td>\n",
       "      <td>NLD</td>\n",
       "      <td>1987</td>\n",
       "      <td>9.3</td>\n",
       "    </tr>\n",
       "    <tr>\n",
       "      <th>948</th>\n",
       "      <td>Ireland</td>\n",
       "      <td>IRL</td>\n",
       "      <td>1987</td>\n",
       "      <td>10.9</td>\n",
       "    </tr>\n",
       "    <tr>\n",
       "      <th>1617</th>\n",
       "      <td>Portugal</td>\n",
       "      <td>PRT</td>\n",
       "      <td>2006</td>\n",
       "      <td>31.6</td>\n",
       "    </tr>\n",
       "    <tr>\n",
       "      <th>1034</th>\n",
       "      <td>Italy</td>\n",
       "      <td>ITA</td>\n",
       "      <td>1995</td>\n",
       "      <td>8.1</td>\n",
       "    </tr>\n",
       "  </tbody>\n",
       "</table>\n",
       "</div>"
      ],
      "text/plain": [
       "          country code  year  shareofbirthsoutsideofmarriageofallbirths\n",
       "1498       Norway  NOR  1983                                       19.3\n",
       "1379  Netherlands  NLD  1987                                        9.3\n",
       "948       Ireland  IRL  1987                                       10.9\n",
       "1617     Portugal  PRT  2006                                       31.6\n",
       "1034        Italy  ITA  1995                                        8.1"
      ]
     },
     "execution_count": 412,
     "metadata": {},
     "output_type": "execute_result"
    }
   ],
   "source": [
    "df_7.rename(columns={\n",
    "    \"shareofsingleparenthouseholds\": \"share_of_single_parent_households\",\n",
    "    \"entity\": \"country\"\n",
    "}, inplace=True)\n",
    "\n",
    "df_7.drop_duplicates(inplace=True)\n",
    "df_7.sample(5)"
   ]
  },
  {
   "cell_type": "code",
   "execution_count": 413,
   "id": "e5af1f58",
   "metadata": {},
   "outputs": [
    {
     "data": {
      "text/plain": [
       "country                                      0\n",
       "code                                         0\n",
       "year                                         0\n",
       "shareofbirthsoutsideofmarriageofallbirths    0\n",
       "dtype: int64"
      ]
     },
     "execution_count": 413,
     "metadata": {},
     "output_type": "execute_result"
    }
   ],
   "source": [
    "df_7.isnull().sum()"
   ]
  },
  {
   "cell_type": "code",
   "execution_count": 414,
   "id": "b4b4dcb3",
   "metadata": {},
   "outputs": [],
   "source": [
    "#df_7.to_csv(\"cleaned_share-of-single-parent-households.csv\", index=False)"
   ]
  },
  {
   "cell_type": "code",
   "execution_count": 415,
   "id": "a581488a",
   "metadata": {},
   "outputs": [],
   "source": [
    "#df_7.to_sql('single_parent_households', engine, if_exists='replace', index=False)"
   ]
  },
  {
   "cell_type": "code",
   "execution_count": 416,
   "id": "04b4cf2f",
   "metadata": {},
   "outputs": [],
   "source": [
    "df_8 = pd.read_csv('../data/Raw/share-of-women-in-england-and-wales-who-have-ever-married-by-age.csv')"
   ]
  },
  {
   "cell_type": "code",
   "execution_count": 417,
   "id": "911bd461",
   "metadata": {},
   "outputs": [],
   "source": [
    "df_8.columns = df_8.columns.str.lower() \\\n",
    "    .str.replace(' ', '') \\\n",
    "    .str.replace('(', '') \\\n",
    "    .str.replace(')', '') \\\n",
    "    .str.replace('[^0-9a-zA-Z_]', '', regex=True)"
   ]
  },
  {
   "cell_type": "code",
   "execution_count": 418,
   "id": "f7713ec1",
   "metadata": {},
   "outputs": [
    {
     "data": {
      "text/html": [
       "<div>\n",
       "<style scoped>\n",
       "    .dataframe tbody tr th:only-of-type {\n",
       "        vertical-align: middle;\n",
       "    }\n",
       "\n",
       "    .dataframe tbody tr th {\n",
       "        vertical-align: top;\n",
       "    }\n",
       "\n",
       "    .dataframe thead th {\n",
       "        text-align: right;\n",
       "    }\n",
       "</style>\n",
       "<table border=\"1\" class=\"dataframe\">\n",
       "  <thead>\n",
       "    <tr style=\"text-align: right;\">\n",
       "      <th></th>\n",
       "      <th>entity</th>\n",
       "      <th>code</th>\n",
       "      <th>year</th>\n",
       "      <th>proportionsofmenorwomenwhohadevermarriedbyacertainagefor1900birthcohort</th>\n",
       "      <th>proportionsofmenorwomenwhohadevermarriedbyacertainagefor1920birthcohort</th>\n",
       "      <th>proportionsofmenorwomenwhohadevermarriedbyacertainagefor1940birthcohort</th>\n",
       "      <th>proportionsofmenorwomenwhohadevermarriedbyacertainagefor1960birthcohort</th>\n",
       "      <th>proportionsofmenorwomenwhohadevermarriedbyacertainagefor1970birthcohort</th>\n",
       "      <th>proportionsofmenorwomenwhohadevermarriedbyacertainagefor1980birthcohort</th>\n",
       "      <th>proportionsofmenorwomenwhohadevermarriedbyacertainagefor1990birthcohort</th>\n",
       "      <th>proportionsofmenorwomenwhohadevermarriedbyacertainagefor2000birthcohort</th>\n",
       "    </tr>\n",
       "  </thead>\n",
       "  <tbody>\n",
       "    <tr>\n",
       "      <th>57</th>\n",
       "      <td>Women</td>\n",
       "      <td>GBR</td>\n",
       "      <td>40</td>\n",
       "      <td>82.4</td>\n",
       "      <td>90.5</td>\n",
       "      <td>95.0</td>\n",
       "      <td>85.3</td>\n",
       "      <td>72.0</td>\n",
       "      <td>61.6</td>\n",
       "      <td>NaN</td>\n",
       "      <td>NaN</td>\n",
       "    </tr>\n",
       "    <tr>\n",
       "      <th>52</th>\n",
       "      <td>Women</td>\n",
       "      <td>GBR</td>\n",
       "      <td>35</td>\n",
       "      <td>79.0</td>\n",
       "      <td>88.3</td>\n",
       "      <td>93.8</td>\n",
       "      <td>82.8</td>\n",
       "      <td>66.7</td>\n",
       "      <td>54.2</td>\n",
       "      <td>NaN</td>\n",
       "      <td>NaN</td>\n",
       "    </tr>\n",
       "    <tr>\n",
       "      <th>36</th>\n",
       "      <td>Women</td>\n",
       "      <td>GBR</td>\n",
       "      <td>19</td>\n",
       "      <td>2.1</td>\n",
       "      <td>5.3</td>\n",
       "      <td>13.4</td>\n",
       "      <td>12.1</td>\n",
       "      <td>3.8</td>\n",
       "      <td>1.4</td>\n",
       "      <td>0.4</td>\n",
       "      <td>0.2</td>\n",
       "    </tr>\n",
       "    <tr>\n",
       "      <th>2</th>\n",
       "      <td>Men</td>\n",
       "      <td>GBR</td>\n",
       "      <td>19</td>\n",
       "      <td>0.8</td>\n",
       "      <td>0.6</td>\n",
       "      <td>2.0</td>\n",
       "      <td>2.5</td>\n",
       "      <td>0.7</td>\n",
       "      <td>0.3</td>\n",
       "      <td>0.1</td>\n",
       "      <td>0.0</td>\n",
       "    </tr>\n",
       "    <tr>\n",
       "      <th>23</th>\n",
       "      <td>Men</td>\n",
       "      <td>GBR</td>\n",
       "      <td>40</td>\n",
       "      <td>89.6</td>\n",
       "      <td>89.9</td>\n",
       "      <td>91.1</td>\n",
       "      <td>78.0</td>\n",
       "      <td>64.0</td>\n",
       "      <td>53.9</td>\n",
       "      <td>NaN</td>\n",
       "      <td>NaN</td>\n",
       "    </tr>\n",
       "  </tbody>\n",
       "</table>\n",
       "</div>"
      ],
      "text/plain": [
       "   entity code  year  \\\n",
       "57  Women  GBR    40   \n",
       "52  Women  GBR    35   \n",
       "36  Women  GBR    19   \n",
       "2     Men  GBR    19   \n",
       "23    Men  GBR    40   \n",
       "\n",
       "    proportionsofmenorwomenwhohadevermarriedbyacertainagefor1900birthcohort  \\\n",
       "57                                               82.4                         \n",
       "52                                               79.0                         \n",
       "36                                                2.1                         \n",
       "2                                                 0.8                         \n",
       "23                                               89.6                         \n",
       "\n",
       "    proportionsofmenorwomenwhohadevermarriedbyacertainagefor1920birthcohort  \\\n",
       "57                                               90.5                         \n",
       "52                                               88.3                         \n",
       "36                                                5.3                         \n",
       "2                                                 0.6                         \n",
       "23                                               89.9                         \n",
       "\n",
       "    proportionsofmenorwomenwhohadevermarriedbyacertainagefor1940birthcohort  \\\n",
       "57                                               95.0                         \n",
       "52                                               93.8                         \n",
       "36                                               13.4                         \n",
       "2                                                 2.0                         \n",
       "23                                               91.1                         \n",
       "\n",
       "    proportionsofmenorwomenwhohadevermarriedbyacertainagefor1960birthcohort  \\\n",
       "57                                               85.3                         \n",
       "52                                               82.8                         \n",
       "36                                               12.1                         \n",
       "2                                                 2.5                         \n",
       "23                                               78.0                         \n",
       "\n",
       "    proportionsofmenorwomenwhohadevermarriedbyacertainagefor1970birthcohort  \\\n",
       "57                                               72.0                         \n",
       "52                                               66.7                         \n",
       "36                                                3.8                         \n",
       "2                                                 0.7                         \n",
       "23                                               64.0                         \n",
       "\n",
       "    proportionsofmenorwomenwhohadevermarriedbyacertainagefor1980birthcohort  \\\n",
       "57                                               61.6                         \n",
       "52                                               54.2                         \n",
       "36                                                1.4                         \n",
       "2                                                 0.3                         \n",
       "23                                               53.9                         \n",
       "\n",
       "    proportionsofmenorwomenwhohadevermarriedbyacertainagefor1990birthcohort  \\\n",
       "57                                                NaN                         \n",
       "52                                                NaN                         \n",
       "36                                                0.4                         \n",
       "2                                                 0.1                         \n",
       "23                                                NaN                         \n",
       "\n",
       "    proportionsofmenorwomenwhohadevermarriedbyacertainagefor2000birthcohort  \n",
       "57                                                NaN                        \n",
       "52                                                NaN                        \n",
       "36                                                0.2                        \n",
       "2                                                 0.0                        \n",
       "23                                                NaN                        "
      ]
     },
     "execution_count": 418,
     "metadata": {},
     "output_type": "execute_result"
    }
   ],
   "source": [
    "df_8['code'] = df_8['code'].fillna('GBR')\n",
    "df_8.sample(5)"
   ]
  },
  {
   "cell_type": "code",
   "execution_count": 419,
   "id": "88bb818e",
   "metadata": {},
   "outputs": [
    {
     "data": {
      "text/html": [
       "<div>\n",
       "<style scoped>\n",
       "    .dataframe tbody tr th:only-of-type {\n",
       "        vertical-align: middle;\n",
       "    }\n",
       "\n",
       "    .dataframe tbody tr th {\n",
       "        vertical-align: top;\n",
       "    }\n",
       "\n",
       "    .dataframe thead th {\n",
       "        text-align: right;\n",
       "    }\n",
       "</style>\n",
       "<table border=\"1\" class=\"dataframe\">\n",
       "  <thead>\n",
       "    <tr style=\"text-align: right;\">\n",
       "      <th></th>\n",
       "      <th>sex</th>\n",
       "      <th>year</th>\n",
       "      <th>1900_birthcohort</th>\n",
       "      <th>1920_birthcohort</th>\n",
       "      <th>1940_birthcohort</th>\n",
       "      <th>1960_birthcohort</th>\n",
       "      <th>1970_birthcohort</th>\n",
       "    </tr>\n",
       "  </thead>\n",
       "  <tbody>\n",
       "    <tr>\n",
       "      <th>55</th>\n",
       "      <td>Women</td>\n",
       "      <td>38</td>\n",
       "      <td>81.2</td>\n",
       "      <td>89.8</td>\n",
       "      <td>94.6</td>\n",
       "      <td>84.5</td>\n",
       "      <td>70.5</td>\n",
       "    </tr>\n",
       "    <tr>\n",
       "      <th>36</th>\n",
       "      <td>Women</td>\n",
       "      <td>19</td>\n",
       "      <td>2.1</td>\n",
       "      <td>5.3</td>\n",
       "      <td>13.4</td>\n",
       "      <td>12.1</td>\n",
       "      <td>3.8</td>\n",
       "    </tr>\n",
       "    <tr>\n",
       "      <th>25</th>\n",
       "      <td>Men</td>\n",
       "      <td>42</td>\n",
       "      <td>90.7</td>\n",
       "      <td>90.6</td>\n",
       "      <td>91.6</td>\n",
       "      <td>79.1</td>\n",
       "      <td>65.8</td>\n",
       "    </tr>\n",
       "    <tr>\n",
       "      <th>22</th>\n",
       "      <td>Men</td>\n",
       "      <td>39</td>\n",
       "      <td>88.8</td>\n",
       "      <td>89.5</td>\n",
       "      <td>90.8</td>\n",
       "      <td>77.4</td>\n",
       "      <td>62.6</td>\n",
       "    </tr>\n",
       "    <tr>\n",
       "      <th>34</th>\n",
       "      <td>Women</td>\n",
       "      <td>17</td>\n",
       "      <td>0.1</td>\n",
       "      <td>0.3</td>\n",
       "      <td>1.0</td>\n",
       "      <td>1.3</td>\n",
       "      <td>0.4</td>\n",
       "    </tr>\n",
       "  </tbody>\n",
       "</table>\n",
       "</div>"
      ],
      "text/plain": [
       "      sex  year  1900_birthcohort  1920_birthcohort  1940_birthcohort  \\\n",
       "55  Women    38              81.2              89.8              94.6   \n",
       "36  Women    19               2.1               5.3              13.4   \n",
       "25    Men    42              90.7              90.6              91.6   \n",
       "22    Men    39              88.8              89.5              90.8   \n",
       "34  Women    17               0.1               0.3               1.0   \n",
       "\n",
       "    1960_birthcohort  1970_birthcohort  \n",
       "55              84.5              70.5  \n",
       "36              12.1               3.8  \n",
       "25              79.1              65.8  \n",
       "22              77.4              62.6  \n",
       "34               1.3               0.4  "
      ]
     },
     "execution_count": 419,
     "metadata": {},
     "output_type": "execute_result"
    }
   ],
   "source": [
    "df_8 = df_8.drop(columns=['code','proportionsofmenorwomenwhohadevermarriedbyacertainagefor1980birthcohort',\n",
    "    'proportionsofmenorwomenwhohadevermarriedbyacertainagefor1990birthcohort',\n",
    "    'proportionsofmenorwomenwhohadevermarriedbyacertainagefor2000birthcohort'])\n",
    "\n",
    "df_8.rename(columns={\n",
    "    \"proportionsofmenorwomenwhohadevermarriedbyacertainagefor1900birthcohort\": \"1900_birthcohort\",\n",
    "    \"proportionsofmenorwomenwhohadevermarriedbyacertainagefor1920birthcohort\": \"1920_birthcohort\",\n",
    "    \"proportionsofmenorwomenwhohadevermarriedbyacertainagefor1940birthcohort\": \"1940_birthcohort\",\n",
    "    \"proportionsofmenorwomenwhohadevermarriedbyacertainagefor1960birthcohort\": \"1960_birthcohort\",\n",
    "    \"proportionsofmenorwomenwhohadevermarriedbyacertainagefor1970birthcohort\": \"1970_birthcohort\",\n",
    "    \"entity\": \"sex\"\n",
    "}, inplace=True)\n",
    "\n",
    "df_8.drop_duplicates(inplace=True)\n",
    "df_8.sample(5)"
   ]
  },
  {
   "cell_type": "code",
   "execution_count": 420,
   "id": "a71297e0",
   "metadata": {},
   "outputs": [
    {
     "data": {
      "text/plain": [
       "sex                 0\n",
       "year                0\n",
       "1900_birthcohort    0\n",
       "1920_birthcohort    0\n",
       "1940_birthcohort    0\n",
       "1960_birthcohort    0\n",
       "1970_birthcohort    0\n",
       "dtype: int64"
      ]
     },
     "execution_count": 420,
     "metadata": {},
     "output_type": "execute_result"
    }
   ],
   "source": [
    "df_8.isnull().sum()"
   ]
  },
  {
   "cell_type": "code",
   "execution_count": 421,
   "id": "d828c548",
   "metadata": {},
   "outputs": [],
   "source": [
    "#df_8.to_csv(\"cleaned_share-of-women-in-england-and-wales-who-have-ever-married-by-age.csv\", index=False)"
   ]
  },
  {
   "cell_type": "code",
   "execution_count": 422,
   "id": "aca95876",
   "metadata": {},
   "outputs": [],
   "source": [
    "#df_8.to_sql('women_in_england_and_wales_married_by_age', engine, if_exists='replace', index=False)"
   ]
  },
  {
   "cell_type": "code",
   "execution_count": 423,
   "id": "d4811710",
   "metadata": {},
   "outputs": [],
   "source": [
    "#!pip install openpyxl"
   ]
  },
  {
   "cell_type": "code",
   "execution_count": 424,
   "id": "3d96be35",
   "metadata": {},
   "outputs": [],
   "source": [
    "df_excel_1 = pd.read_excel('../data/Raw/undesa_pd_2019_wmd_marital_status.xlsx')"
   ]
  },
  {
   "cell_type": "code",
   "execution_count": 425,
   "id": "fba71d57",
   "metadata": {},
   "outputs": [],
   "source": [
    "#all_sheets = pd.read_excel('../data/Raw/undesa_pd_2019_wmd_marital_status.xlsx', sheet_name=None)"
   ]
  },
  {
   "cell_type": "code",
   "execution_count": 426,
   "id": "58ed7587",
   "metadata": {},
   "outputs": [
    {
     "name": "stdout",
     "output_type": "stream",
     "text": [
      "['INFORMATION NOTE', 'Database Field Descriptions', 'MARITAL_STATUS_BY_AGE', 'CURRENTLY MARRIED', 'EVER_MARRIED', 'SMAM']\n"
     ]
    }
   ],
   "source": [
    "xls_1 = pd.ExcelFile('../data/Raw/undesa_pd_2019_wmd_marital_status.xlsx')\n",
    "print(xls_1.sheet_names)"
   ]
  },
  {
   "cell_type": "code",
   "execution_count": 427,
   "id": "e549bd14",
   "metadata": {},
   "outputs": [],
   "source": [
    "excel_1 = '../data/Raw/undesa_pd_2019_wmd_marital_status.xlsx'\n",
    "\n",
    "# Output directory (make sure it exists)\n",
    "output_dir = '../data/processed/'\n",
    "os.makedirs(output_dir, exist_ok=True)\n",
    "\n",
    "# List of sheets you want to extract\n",
    "sheets_to_extract = ['MARITAL_STATUS_BY_AGE', 'CURRENTLY MARRIED', 'EVER_MARRIED', 'SMAM']"
   ]
  },
  {
   "cell_type": "code",
   "execution_count": 428,
   "id": "6e462fde",
   "metadata": {},
   "outputs": [
    {
     "data": {
      "text/plain": [
       "'for sheet in sheets_to_extract:\\n    # Read just this sheet into a DataFrame\\n    df_excel_1 = pd.read_excel(excel_1, sheet_name=sheet)\\n    \\n    # Optional: Clean the filename (replace spaces with underscores, etc.)\\n    csv_name = sheet.replace(\\' \\', \\'_\\').lower() + \\'.csv\\'\\n    csv_path = os.path.join(output_dir, csv_name)\\n    \\n    # Save the DataFrame as CSV\\n    df_excel_1.to_csv(csv_path, index=False)\\n    print(f\"Saved: {csv_path}\")\\n'"
      ]
     },
     "execution_count": 428,
     "metadata": {},
     "output_type": "execute_result"
    }
   ],
   "source": [
    "\"\"\"for sheet in sheets_to_extract:\n",
    "    # Read just this sheet into a DataFrame\n",
    "    df_excel_1 = pd.read_excel(excel_1, sheet_name=sheet)\n",
    "    \n",
    "    # Optional: Clean the filename (replace spaces with underscores, etc.)\n",
    "    csv_name = sheet.replace(' ', '_').lower() + '.csv'\n",
    "    csv_path = os.path.join(output_dir, csv_name)\n",
    "    \n",
    "    # Save the DataFrame as CSV\n",
    "    df_excel_1.to_csv(csv_path, index=False)\n",
    "    print(f\"Saved: {csv_path}\")\n",
    "\"\"\""
   ]
  },
  {
   "cell_type": "code",
   "execution_count": 429,
   "id": "14025590",
   "metadata": {},
   "outputs": [
    {
     "name": "stdout",
     "output_type": "stream",
     "text": [
      "['INFORMATION NOTE', 'Database Field Descriptions', 'FERTILITY INDICATORS']\n"
     ]
    }
   ],
   "source": [
    "xls_2 = pd.ExcelFile('../data/Raw/undesa_pd_2019_world_fertility_dataset.xlsx')\n",
    "print(xls_2.sheet_names)"
   ]
  },
  {
   "cell_type": "code",
   "execution_count": 430,
   "id": "4812d3f7",
   "metadata": {},
   "outputs": [],
   "source": [
    "excel_2 = '../data/Raw/undesa_pd_2019_world_fertility_dataset.xlsx'\n",
    "sheet_name = 'FERTILITY INDICATORS'\n",
    "output_dir = '../data/processed/'\n",
    "os.makedirs(output_dir, exist_ok=True)\n",
    "\n",
    "df_excel_2 = pd.read_excel(excel_2, sheet_name=sheet_name)\n"
   ]
  },
  {
   "cell_type": "code",
   "execution_count": 431,
   "id": "691c8703",
   "metadata": {},
   "outputs": [
    {
     "data": {
      "text/plain": [
       "'csv_name = sheet_name.replace(\\' \\', \\'_\\').lower() + \\'.csv\\'\\ncsv_path = os.path.join(output_dir, csv_name)\\ndf_excel_2.to_csv(csv_path, index=False)\\nprint(f\"Saved: {csv_path}\")\\n'"
      ]
     },
     "execution_count": 431,
     "metadata": {},
     "output_type": "execute_result"
    }
   ],
   "source": [
    "\"\"\"csv_name = sheet_name.replace(' ', '_').lower() + '.csv'\n",
    "csv_path = os.path.join(output_dir, csv_name)\n",
    "df_excel_2.to_csv(csv_path, index=False)\n",
    "print(f\"Saved: {csv_path}\")\n",
    "\"\"\""
   ]
  },
  {
   "cell_type": "code",
   "execution_count": 432,
   "id": "5960cd5c",
   "metadata": {},
   "outputs": [
    {
     "name": "stdout",
     "output_type": "stream",
     "text": [
      "['INFORMATION NOTE', 'Database Field Descriptions', 'Countries', 'Regions']\n"
     ]
    }
   ],
   "source": [
    "xls_3 = pd.ExcelFile('../data/Raw/undesa_pd_ds_1970-2030_fp_rev-2024_rev.xlsx')\n",
    "print(xls_3.sheet_names)"
   ]
  },
  {
   "cell_type": "code",
   "execution_count": 433,
   "id": "01fd517f",
   "metadata": {},
   "outputs": [],
   "source": [
    "excel_3 = '../data/Raw/undesa_pd_ds_1970-2030_fp_rev-2024_rev.xlsx'\n",
    "sheets_to_extract = ['Countries', 'Regions']\n",
    "output_dir = '../data/processed/'\n",
    "os.makedirs(output_dir, exist_ok=True)\n"
   ]
  },
  {
   "cell_type": "code",
   "execution_count": 434,
   "id": "3a69d26a",
   "metadata": {},
   "outputs": [
    {
     "data": {
      "text/plain": [
       "'\\nfor sheet in sheets_to_extract:\\n    df = pd.read_excel(excel_3, sheet_name=sheet)\\n    csv_name = sheet.replace(\\' \\', \\'_\\').lower() + \\'.csv\\'\\n    csv_path = os.path.join(output_dir, csv_name)\\n    df.to_csv(csv_path, index=False)\\n    print(f\"Saved: {csv_path}\")\\n\\n'"
      ]
     },
     "execution_count": 434,
     "metadata": {},
     "output_type": "execute_result"
    }
   ],
   "source": [
    "\"\"\"\n",
    "for sheet in sheets_to_extract:\n",
    "    df = pd.read_excel(excel_3, sheet_name=sheet)\n",
    "    csv_name = sheet.replace(' ', '_').lower() + '.csv'\n",
    "    csv_path = os.path.join(output_dir, csv_name)\n",
    "    df.to_csv(csv_path, index=False)\n",
    "    print(f\"Saved: {csv_path}\")\n",
    "\n",
    "\"\"\""
   ]
  },
  {
   "cell_type": "code",
   "execution_count": 435,
   "id": "baa25f13",
   "metadata": {},
   "outputs": [
    {
     "data": {
      "text/html": [
       "<div>\n",
       "<style scoped>\n",
       "    .dataframe tbody tr th:only-of-type {\n",
       "        vertical-align: middle;\n",
       "    }\n",
       "\n",
       "    .dataframe tbody tr th {\n",
       "        vertical-align: top;\n",
       "    }\n",
       "\n",
       "    .dataframe thead th {\n",
       "        text-align: right;\n",
       "    }\n",
       "</style>\n",
       "<table border=\"1\" class=\"dataframe\">\n",
       "  <thead>\n",
       "    <tr style=\"text-align: right;\">\n",
       "      <th></th>\n",
       "      <th>IndicatorId</th>\n",
       "      <th>IndicatorName</th>\n",
       "      <th>IndicatorShortName</th>\n",
       "      <th>Source</th>\n",
       "      <th>SourceYear</th>\n",
       "      <th>Author</th>\n",
       "      <th>LocationId</th>\n",
       "      <th>Location</th>\n",
       "      <th>Iso2</th>\n",
       "      <th>Iso3</th>\n",
       "      <th>...</th>\n",
       "      <th>AgeStart</th>\n",
       "      <th>AgeEnd</th>\n",
       "      <th>Age</th>\n",
       "      <th>CategoryId</th>\n",
       "      <th>Category</th>\n",
       "      <th>EstimateTypeId</th>\n",
       "      <th>EstimateType</th>\n",
       "      <th>EstimateMethodId</th>\n",
       "      <th>EstimateMethod</th>\n",
       "      <th>Value</th>\n",
       "    </tr>\n",
       "  </thead>\n",
       "  <tbody>\n",
       "    <tr>\n",
       "      <th>20091</th>\n",
       "      <td>42</td>\n",
       "      <td>Currently married (Percent)</td>\n",
       "      <td>Currently married (Percent)</td>\n",
       "      <td>Estimates and Projections of Women of Reproduc...</td>\n",
       "      <td>2024</td>\n",
       "      <td>United Nations Population Division</td>\n",
       "      <td>694</td>\n",
       "      <td>Sierra Leone</td>\n",
       "      <td>SL</td>\n",
       "      <td>SLE</td>\n",
       "      <td>...</td>\n",
       "      <td>15</td>\n",
       "      <td>49</td>\n",
       "      <td>15-49</td>\n",
       "      <td>100</td>\n",
       "      <td>Married or in a union women</td>\n",
       "      <td>1</td>\n",
       "      <td>Model-based Estimates</td>\n",
       "      <td>2</td>\n",
       "      <td>Interpolation</td>\n",
       "      <td>77.99</td>\n",
       "    </tr>\n",
       "    <tr>\n",
       "      <th>7787</th>\n",
       "      <td>42</td>\n",
       "      <td>Currently married (Percent)</td>\n",
       "      <td>Currently married (Percent)</td>\n",
       "      <td>Estimates and Projections of Women of Reproduc...</td>\n",
       "      <td>2024</td>\n",
       "      <td>United Nations Population Division</td>\n",
       "      <td>262</td>\n",
       "      <td>Djibouti</td>\n",
       "      <td>DJ</td>\n",
       "      <td>DJI</td>\n",
       "      <td>...</td>\n",
       "      <td>15</td>\n",
       "      <td>49</td>\n",
       "      <td>15-49</td>\n",
       "      <td>100</td>\n",
       "      <td>Married or in a union women</td>\n",
       "      <td>1</td>\n",
       "      <td>Model-based Estimates</td>\n",
       "      <td>2</td>\n",
       "      <td>Interpolation</td>\n",
       "      <td>45.47</td>\n",
       "    </tr>\n",
       "    <tr>\n",
       "      <th>17465</th>\n",
       "      <td>42</td>\n",
       "      <td>Currently married (Percent)</td>\n",
       "      <td>Currently married (Percent)</td>\n",
       "      <td>Estimates and Projections of Women of Reproduc...</td>\n",
       "      <td>2024</td>\n",
       "      <td>United Nations Population Division</td>\n",
       "      <td>600</td>\n",
       "      <td>Paraguay</td>\n",
       "      <td>PY</td>\n",
       "      <td>PRY</td>\n",
       "      <td>...</td>\n",
       "      <td>15</td>\n",
       "      <td>49</td>\n",
       "      <td>15-49</td>\n",
       "      <td>100</td>\n",
       "      <td>Married or in a union women</td>\n",
       "      <td>1</td>\n",
       "      <td>Model-based Estimates</td>\n",
       "      <td>2</td>\n",
       "      <td>Interpolation</td>\n",
       "      <td>54.83</td>\n",
       "    </tr>\n",
       "    <tr>\n",
       "      <th>13172</th>\n",
       "      <td>42</td>\n",
       "      <td>Currently married (Percent)</td>\n",
       "      <td>Currently married (Percent)</td>\n",
       "      <td>Estimates and Projections of Women of Reproduc...</td>\n",
       "      <td>2024</td>\n",
       "      <td>United Nations Population Division</td>\n",
       "      <td>446</td>\n",
       "      <td>China, Macao SAR</td>\n",
       "      <td>MO</td>\n",
       "      <td>MAC</td>\n",
       "      <td>...</td>\n",
       "      <td>15</td>\n",
       "      <td>49</td>\n",
       "      <td>15-49</td>\n",
       "      <td>100</td>\n",
       "      <td>Married or in a union women</td>\n",
       "      <td>1</td>\n",
       "      <td>Model-based Estimates</td>\n",
       "      <td>2</td>\n",
       "      <td>Interpolation</td>\n",
       "      <td>55.44</td>\n",
       "    </tr>\n",
       "    <tr>\n",
       "      <th>15507</th>\n",
       "      <td>42</td>\n",
       "      <td>Currently married (Percent)</td>\n",
       "      <td>Currently married (Percent)</td>\n",
       "      <td>Estimates and Projections of Women of Reproduc...</td>\n",
       "      <td>2024</td>\n",
       "      <td>United Nations Population Division</td>\n",
       "      <td>528</td>\n",
       "      <td>Netherlands</td>\n",
       "      <td>NL</td>\n",
       "      <td>NLD</td>\n",
       "      <td>...</td>\n",
       "      <td>15</td>\n",
       "      <td>49</td>\n",
       "      <td>15-49</td>\n",
       "      <td>100</td>\n",
       "      <td>Married or in a union women</td>\n",
       "      <td>1</td>\n",
       "      <td>Model-based Estimates</td>\n",
       "      <td>2</td>\n",
       "      <td>Interpolation</td>\n",
       "      <td>65.86</td>\n",
       "    </tr>\n",
       "  </tbody>\n",
       "</table>\n",
       "<p>5 rows × 27 columns</p>\n",
       "</div>"
      ],
      "text/plain": [
       "       IndicatorId                IndicatorName           IndicatorShortName  \\\n",
       "20091           42  Currently married (Percent)  Currently married (Percent)   \n",
       "7787            42  Currently married (Percent)  Currently married (Percent)   \n",
       "17465           42  Currently married (Percent)  Currently married (Percent)   \n",
       "13172           42  Currently married (Percent)  Currently married (Percent)   \n",
       "15507           42  Currently married (Percent)  Currently married (Percent)   \n",
       "\n",
       "                                                  Source  SourceYear  \\\n",
       "20091  Estimates and Projections of Women of Reproduc...        2024   \n",
       "7787   Estimates and Projections of Women of Reproduc...        2024   \n",
       "17465  Estimates and Projections of Women of Reproduc...        2024   \n",
       "13172  Estimates and Projections of Women of Reproduc...        2024   \n",
       "15507  Estimates and Projections of Women of Reproduc...        2024   \n",
       "\n",
       "                                   Author  LocationId          Location Iso2  \\\n",
       "20091  United Nations Population Division         694      Sierra Leone   SL   \n",
       "7787   United Nations Population Division         262          Djibouti   DJ   \n",
       "17465  United Nations Population Division         600          Paraguay   PY   \n",
       "13172  United Nations Population Division         446  China, Macao SAR   MO   \n",
       "15507  United Nations Population Division         528       Netherlands   NL   \n",
       "\n",
       "      Iso3  ...  AgeStart  AgeEnd    Age CategoryId  \\\n",
       "20091  SLE  ...        15      49  15-49        100   \n",
       "7787   DJI  ...        15      49  15-49        100   \n",
       "17465  PRY  ...        15      49  15-49        100   \n",
       "13172  MAC  ...        15      49  15-49        100   \n",
       "15507  NLD  ...        15      49  15-49        100   \n",
       "\n",
       "                          Category EstimateTypeId           EstimateType  \\\n",
       "20091  Married or in a union women              1  Model-based Estimates   \n",
       "7787   Married or in a union women              1  Model-based Estimates   \n",
       "17465  Married or in a union women              1  Model-based Estimates   \n",
       "13172  Married or in a union women              1  Model-based Estimates   \n",
       "15507  Married or in a union women              1  Model-based Estimates   \n",
       "\n",
       "       EstimateMethodId  EstimateMethod  Value  \n",
       "20091                 2   Interpolation  77.99  \n",
       "7787                  2   Interpolation  45.47  \n",
       "17465                 2   Interpolation  54.83  \n",
       "13172                 2   Interpolation  55.44  \n",
       "15507                 2   Interpolation  65.86  \n",
       "\n",
       "[5 rows x 27 columns]"
      ]
     },
     "execution_count": 435,
     "metadata": {},
     "output_type": "execute_result"
    }
   ],
   "source": [
    "df_9 = pd.read_csv('../data/Raw/unpopulation_dataportal_20250728095844.csv')\n",
    "df_9.sample(5)"
   ]
  },
  {
   "cell_type": "code",
   "execution_count": 436,
   "id": "6c276197",
   "metadata": {},
   "outputs": [
    {
     "data": {
      "text/html": [
       "<div>\n",
       "<style scoped>\n",
       "    .dataframe tbody tr th:only-of-type {\n",
       "        vertical-align: middle;\n",
       "    }\n",
       "\n",
       "    .dataframe tbody tr th {\n",
       "        vertical-align: top;\n",
       "    }\n",
       "\n",
       "    .dataframe thead th {\n",
       "        text-align: right;\n",
       "    }\n",
       "</style>\n",
       "<table border=\"1\" class=\"dataframe\">\n",
       "  <thead>\n",
       "    <tr style=\"text-align: right;\">\n",
       "      <th></th>\n",
       "      <th>indicatorid</th>\n",
       "      <th>indicatorname</th>\n",
       "      <th>indicatorshortname</th>\n",
       "      <th>source</th>\n",
       "      <th>sourceyear</th>\n",
       "      <th>author</th>\n",
       "      <th>locationid</th>\n",
       "      <th>location</th>\n",
       "      <th>iso2</th>\n",
       "      <th>iso3</th>\n",
       "      <th>...</th>\n",
       "      <th>agestart</th>\n",
       "      <th>ageend</th>\n",
       "      <th>age</th>\n",
       "      <th>categoryid</th>\n",
       "      <th>category</th>\n",
       "      <th>estimatetypeid</th>\n",
       "      <th>estimatetype</th>\n",
       "      <th>estimatemethodid</th>\n",
       "      <th>estimatemethod</th>\n",
       "      <th>value</th>\n",
       "    </tr>\n",
       "  </thead>\n",
       "  <tbody>\n",
       "    <tr>\n",
       "      <th>17805</th>\n",
       "      <td>42</td>\n",
       "      <td>Currently married (Percent)</td>\n",
       "      <td>Currently married (Percent)</td>\n",
       "      <td>Estimates and Projections of Women of Reproduc...</td>\n",
       "      <td>2024</td>\n",
       "      <td>United Nations Population Division</td>\n",
       "      <td>616</td>\n",
       "      <td>Poland</td>\n",
       "      <td>PL</td>\n",
       "      <td>POL</td>\n",
       "      <td>...</td>\n",
       "      <td>15</td>\n",
       "      <td>49</td>\n",
       "      <td>15-49</td>\n",
       "      <td>100</td>\n",
       "      <td>Married or in a union women</td>\n",
       "      <td>1</td>\n",
       "      <td>Model-based Estimates</td>\n",
       "      <td>3</td>\n",
       "      <td>Projection</td>\n",
       "      <td>57.89</td>\n",
       "    </tr>\n",
       "    <tr>\n",
       "      <th>21801</th>\n",
       "      <td>42</td>\n",
       "      <td>Currently married (Percent)</td>\n",
       "      <td>Currently married (Percent)</td>\n",
       "      <td>Estimates and Projections of Women of Reproduc...</td>\n",
       "      <td>2024</td>\n",
       "      <td>United Nations Population Division</td>\n",
       "      <td>756</td>\n",
       "      <td>Switzerland</td>\n",
       "      <td>CH</td>\n",
       "      <td>CHE</td>\n",
       "      <td>...</td>\n",
       "      <td>15</td>\n",
       "      <td>49</td>\n",
       "      <td>15-49</td>\n",
       "      <td>100</td>\n",
       "      <td>Married or in a union women</td>\n",
       "      <td>1</td>\n",
       "      <td>Model-based Estimates</td>\n",
       "      <td>2</td>\n",
       "      <td>Interpolation</td>\n",
       "      <td>60.00</td>\n",
       "    </tr>\n",
       "    <tr>\n",
       "      <th>152</th>\n",
       "      <td>42</td>\n",
       "      <td>Currently married (Percent)</td>\n",
       "      <td>Currently married (Percent)</td>\n",
       "      <td>Estimates and Projections of Women of Reproduc...</td>\n",
       "      <td>2024</td>\n",
       "      <td>United Nations Population Division</td>\n",
       "      <td>8</td>\n",
       "      <td>Albania</td>\n",
       "      <td>AL</td>\n",
       "      <td>ALB</td>\n",
       "      <td>...</td>\n",
       "      <td>15</td>\n",
       "      <td>49</td>\n",
       "      <td>15-49</td>\n",
       "      <td>100</td>\n",
       "      <td>Married or in a union women</td>\n",
       "      <td>1</td>\n",
       "      <td>Model-based Estimates</td>\n",
       "      <td>2</td>\n",
       "      <td>Interpolation</td>\n",
       "      <td>67.26</td>\n",
       "    </tr>\n",
       "    <tr>\n",
       "      <th>10363</th>\n",
       "      <td>42</td>\n",
       "      <td>Currently married (Percent)</td>\n",
       "      <td>Currently married (Percent)</td>\n",
       "      <td>Estimates and Projections of Women of Reproduc...</td>\n",
       "      <td>2024</td>\n",
       "      <td>United Nations Population Division</td>\n",
       "      <td>364</td>\n",
       "      <td>Iran (Islamic Republic of)</td>\n",
       "      <td>IR</td>\n",
       "      <td>IRN</td>\n",
       "      <td>...</td>\n",
       "      <td>15</td>\n",
       "      <td>49</td>\n",
       "      <td>15-49</td>\n",
       "      <td>100</td>\n",
       "      <td>Married or in a union women</td>\n",
       "      <td>1</td>\n",
       "      <td>Model-based Estimates</td>\n",
       "      <td>2</td>\n",
       "      <td>Interpolation</td>\n",
       "      <td>67.82</td>\n",
       "    </tr>\n",
       "    <tr>\n",
       "      <th>7251</th>\n",
       "      <td>42</td>\n",
       "      <td>Currently married (Percent)</td>\n",
       "      <td>Currently married (Percent)</td>\n",
       "      <td>Estimates and Projections of Women of Reproduc...</td>\n",
       "      <td>2024</td>\n",
       "      <td>United Nations Population Division</td>\n",
       "      <td>242</td>\n",
       "      <td>Fiji</td>\n",
       "      <td>FJ</td>\n",
       "      <td>FJI</td>\n",
       "      <td>...</td>\n",
       "      <td>15</td>\n",
       "      <td>49</td>\n",
       "      <td>15-49</td>\n",
       "      <td>100</td>\n",
       "      <td>Married or in a union women</td>\n",
       "      <td>1</td>\n",
       "      <td>Model-based Estimates</td>\n",
       "      <td>2</td>\n",
       "      <td>Interpolation</td>\n",
       "      <td>59.31</td>\n",
       "    </tr>\n",
       "  </tbody>\n",
       "</table>\n",
       "<p>5 rows × 27 columns</p>\n",
       "</div>"
      ],
      "text/plain": [
       "       indicatorid                indicatorname           indicatorshortname  \\\n",
       "17805           42  Currently married (Percent)  Currently married (Percent)   \n",
       "21801           42  Currently married (Percent)  Currently married (Percent)   \n",
       "152             42  Currently married (Percent)  Currently married (Percent)   \n",
       "10363           42  Currently married (Percent)  Currently married (Percent)   \n",
       "7251            42  Currently married (Percent)  Currently married (Percent)   \n",
       "\n",
       "                                                  source  sourceyear  \\\n",
       "17805  Estimates and Projections of Women of Reproduc...        2024   \n",
       "21801  Estimates and Projections of Women of Reproduc...        2024   \n",
       "152    Estimates and Projections of Women of Reproduc...        2024   \n",
       "10363  Estimates and Projections of Women of Reproduc...        2024   \n",
       "7251   Estimates and Projections of Women of Reproduc...        2024   \n",
       "\n",
       "                                   author  locationid  \\\n",
       "17805  United Nations Population Division         616   \n",
       "21801  United Nations Population Division         756   \n",
       "152    United Nations Population Division           8   \n",
       "10363  United Nations Population Division         364   \n",
       "7251   United Nations Population Division         242   \n",
       "\n",
       "                         location iso2 iso3  ...  agestart  ageend    age  \\\n",
       "17805                      Poland   PL  POL  ...        15      49  15-49   \n",
       "21801                 Switzerland   CH  CHE  ...        15      49  15-49   \n",
       "152                       Albania   AL  ALB  ...        15      49  15-49   \n",
       "10363  Iran (Islamic Republic of)   IR  IRN  ...        15      49  15-49   \n",
       "7251                         Fiji   FJ  FJI  ...        15      49  15-49   \n",
       "\n",
       "      categoryid                     category estimatetypeid  \\\n",
       "17805        100  Married or in a union women              1   \n",
       "21801        100  Married or in a union women              1   \n",
       "152          100  Married or in a union women              1   \n",
       "10363        100  Married or in a union women              1   \n",
       "7251         100  Married or in a union women              1   \n",
       "\n",
       "                estimatetype  estimatemethodid  estimatemethod  value  \n",
       "17805  Model-based Estimates                 3      Projection  57.89  \n",
       "21801  Model-based Estimates                 2   Interpolation  60.00  \n",
       "152    Model-based Estimates                 2   Interpolation  67.26  \n",
       "10363  Model-based Estimates                 2   Interpolation  67.82  \n",
       "7251   Model-based Estimates                 2   Interpolation  59.31  \n",
       "\n",
       "[5 rows x 27 columns]"
      ]
     },
     "execution_count": 436,
     "metadata": {},
     "output_type": "execute_result"
    }
   ],
   "source": [
    "df_9.columns = df_9.columns.str.lower() \\\n",
    "    .str.replace(' ', '') \\\n",
    "    .str.replace('(', '') \\\n",
    "    .str.replace(')', '') \\\n",
    "    .str.replace('[^0-9a-zA-Z_]', '', regex=True)\n",
    "df_9.sample(5)"
   ]
  },
  {
   "cell_type": "code",
   "execution_count": 437,
   "id": "a97f8b9b",
   "metadata": {},
   "outputs": [],
   "source": [
    "df_9 = df_9.drop(columns=['indicatorid','indicatorshortname',\n",
    "    'source',\n",
    "    'author', 'locationid', 'iso2','estimatetypeid','category','categoryid','agestart','ageend','author','ageid', 'estimatetype','variantid','sexid','timeid'])\n",
    "\n",
    "df_9.rename(columns={\n",
    "    \"sourceyear\": \"year\",\n",
    "    \"location\": \"country\",\n",
    "    \"estimatemethodid\": \"estimate_method\",\n",
    "    \"iso3\": \"code\",\n",
    "}, inplace=True)\n",
    "\n"
   ]
  },
  {
   "cell_type": "code",
   "execution_count": 438,
   "id": "edd57bf4",
   "metadata": {},
   "outputs": [],
   "source": [
    "df_9.drop_duplicates(inplace=True)"
   ]
  },
  {
   "cell_type": "code",
   "execution_count": 439,
   "id": "13374343",
   "metadata": {},
   "outputs": [
    {
     "data": {
      "text/html": [
       "<div>\n",
       "<style scoped>\n",
       "    .dataframe tbody tr th:only-of-type {\n",
       "        vertical-align: middle;\n",
       "    }\n",
       "\n",
       "    .dataframe tbody tr th {\n",
       "        vertical-align: top;\n",
       "    }\n",
       "\n",
       "    .dataframe thead th {\n",
       "        text-align: right;\n",
       "    }\n",
       "</style>\n",
       "<table border=\"1\" class=\"dataframe\">\n",
       "  <thead>\n",
       "    <tr style=\"text-align: right;\">\n",
       "      <th></th>\n",
       "      <th>indicatorname</th>\n",
       "      <th>year</th>\n",
       "      <th>country</th>\n",
       "      <th>code</th>\n",
       "      <th>time</th>\n",
       "      <th>variant</th>\n",
       "      <th>sex</th>\n",
       "      <th>age</th>\n",
       "      <th>estimate_method</th>\n",
       "      <th>estimatemethod</th>\n",
       "      <th>value</th>\n",
       "    </tr>\n",
       "  </thead>\n",
       "  <tbody>\n",
       "    <tr>\n",
       "      <th>0</th>\n",
       "      <td>Currently married (Percent)</td>\n",
       "      <td>2024</td>\n",
       "      <td>Afghanistan</td>\n",
       "      <td>AFG</td>\n",
       "      <td>1970</td>\n",
       "      <td>Median</td>\n",
       "      <td>Female</td>\n",
       "      <td>15-49</td>\n",
       "      <td>2</td>\n",
       "      <td>Interpolation</td>\n",
       "      <td>80.94</td>\n",
       "    </tr>\n",
       "    <tr>\n",
       "      <th>2</th>\n",
       "      <td>Currently married (Percent)</td>\n",
       "      <td>2024</td>\n",
       "      <td>Afghanistan</td>\n",
       "      <td>AFG</td>\n",
       "      <td>1971</td>\n",
       "      <td>Median</td>\n",
       "      <td>Female</td>\n",
       "      <td>15-49</td>\n",
       "      <td>2</td>\n",
       "      <td>Interpolation</td>\n",
       "      <td>80.90</td>\n",
       "    </tr>\n",
       "    <tr>\n",
       "      <th>4</th>\n",
       "      <td>Currently married (Percent)</td>\n",
       "      <td>2024</td>\n",
       "      <td>Afghanistan</td>\n",
       "      <td>AFG</td>\n",
       "      <td>1972</td>\n",
       "      <td>Median</td>\n",
       "      <td>Female</td>\n",
       "      <td>15-49</td>\n",
       "      <td>2</td>\n",
       "      <td>Interpolation</td>\n",
       "      <td>80.87</td>\n",
       "    </tr>\n",
       "    <tr>\n",
       "      <th>6</th>\n",
       "      <td>Currently married (Percent)</td>\n",
       "      <td>2024</td>\n",
       "      <td>Afghanistan</td>\n",
       "      <td>AFG</td>\n",
       "      <td>1973</td>\n",
       "      <td>Median</td>\n",
       "      <td>Female</td>\n",
       "      <td>15-49</td>\n",
       "      <td>2</td>\n",
       "      <td>Interpolation</td>\n",
       "      <td>80.84</td>\n",
       "    </tr>\n",
       "    <tr>\n",
       "      <th>8</th>\n",
       "      <td>Currently married (Percent)</td>\n",
       "      <td>2024</td>\n",
       "      <td>Afghanistan</td>\n",
       "      <td>AFG</td>\n",
       "      <td>1974</td>\n",
       "      <td>Median</td>\n",
       "      <td>Female</td>\n",
       "      <td>15-49</td>\n",
       "      <td>2</td>\n",
       "      <td>Interpolation</td>\n",
       "      <td>80.53</td>\n",
       "    </tr>\n",
       "    <tr>\n",
       "      <th>...</th>\n",
       "      <td>...</td>\n",
       "      <td>...</td>\n",
       "      <td>...</td>\n",
       "      <td>...</td>\n",
       "      <td>...</td>\n",
       "      <td>...</td>\n",
       "      <td>...</td>\n",
       "      <td>...</td>\n",
       "      <td>...</td>\n",
       "      <td>...</td>\n",
       "      <td>...</td>\n",
       "    </tr>\n",
       "    <tr>\n",
       "      <th>25078</th>\n",
       "      <td>Currently married (Percent)</td>\n",
       "      <td>2024</td>\n",
       "      <td>Zambia</td>\n",
       "      <td>ZMB</td>\n",
       "      <td>2021</td>\n",
       "      <td>Median</td>\n",
       "      <td>Female</td>\n",
       "      <td>15-49</td>\n",
       "      <td>3</td>\n",
       "      <td>Projection</td>\n",
       "      <td>54.31</td>\n",
       "    </tr>\n",
       "    <tr>\n",
       "      <th>25080</th>\n",
       "      <td>Currently married (Percent)</td>\n",
       "      <td>2024</td>\n",
       "      <td>Zambia</td>\n",
       "      <td>ZMB</td>\n",
       "      <td>2022</td>\n",
       "      <td>Median</td>\n",
       "      <td>Female</td>\n",
       "      <td>15-49</td>\n",
       "      <td>3</td>\n",
       "      <td>Projection</td>\n",
       "      <td>53.82</td>\n",
       "    </tr>\n",
       "    <tr>\n",
       "      <th>25082</th>\n",
       "      <td>Currently married (Percent)</td>\n",
       "      <td>2024</td>\n",
       "      <td>Zambia</td>\n",
       "      <td>ZMB</td>\n",
       "      <td>2023</td>\n",
       "      <td>Median</td>\n",
       "      <td>Female</td>\n",
       "      <td>15-49</td>\n",
       "      <td>3</td>\n",
       "      <td>Projection</td>\n",
       "      <td>53.35</td>\n",
       "    </tr>\n",
       "    <tr>\n",
       "      <th>25084</th>\n",
       "      <td>Currently married (Percent)</td>\n",
       "      <td>2024</td>\n",
       "      <td>Zambia</td>\n",
       "      <td>ZMB</td>\n",
       "      <td>2024</td>\n",
       "      <td>Median</td>\n",
       "      <td>Female</td>\n",
       "      <td>15-49</td>\n",
       "      <td>3</td>\n",
       "      <td>Projection</td>\n",
       "      <td>52.91</td>\n",
       "    </tr>\n",
       "    <tr>\n",
       "      <th>25086</th>\n",
       "      <td>Currently married (Percent)</td>\n",
       "      <td>2024</td>\n",
       "      <td>Zambia</td>\n",
       "      <td>ZMB</td>\n",
       "      <td>2025</td>\n",
       "      <td>Median</td>\n",
       "      <td>Female</td>\n",
       "      <td>15-49</td>\n",
       "      <td>3</td>\n",
       "      <td>Projection</td>\n",
       "      <td>52.52</td>\n",
       "    </tr>\n",
       "  </tbody>\n",
       "</table>\n",
       "<p>12544 rows × 11 columns</p>\n",
       "</div>"
      ],
      "text/plain": [
       "                     indicatorname  year      country code  time variant  \\\n",
       "0      Currently married (Percent)  2024  Afghanistan  AFG  1970  Median   \n",
       "2      Currently married (Percent)  2024  Afghanistan  AFG  1971  Median   \n",
       "4      Currently married (Percent)  2024  Afghanistan  AFG  1972  Median   \n",
       "6      Currently married (Percent)  2024  Afghanistan  AFG  1973  Median   \n",
       "8      Currently married (Percent)  2024  Afghanistan  AFG  1974  Median   \n",
       "...                            ...   ...          ...  ...   ...     ...   \n",
       "25078  Currently married (Percent)  2024       Zambia  ZMB  2021  Median   \n",
       "25080  Currently married (Percent)  2024       Zambia  ZMB  2022  Median   \n",
       "25082  Currently married (Percent)  2024       Zambia  ZMB  2023  Median   \n",
       "25084  Currently married (Percent)  2024       Zambia  ZMB  2024  Median   \n",
       "25086  Currently married (Percent)  2024       Zambia  ZMB  2025  Median   \n",
       "\n",
       "          sex    age  estimate_method estimatemethod  value  \n",
       "0      Female  15-49                2  Interpolation  80.94  \n",
       "2      Female  15-49                2  Interpolation  80.90  \n",
       "4      Female  15-49                2  Interpolation  80.87  \n",
       "6      Female  15-49                2  Interpolation  80.84  \n",
       "8      Female  15-49                2  Interpolation  80.53  \n",
       "...       ...    ...              ...            ...    ...  \n",
       "25078  Female  15-49                3     Projection  54.31  \n",
       "25080  Female  15-49                3     Projection  53.82  \n",
       "25082  Female  15-49                3     Projection  53.35  \n",
       "25084  Female  15-49                3     Projection  52.91  \n",
       "25086  Female  15-49                3     Projection  52.52  \n",
       "\n",
       "[12544 rows x 11 columns]"
      ]
     },
     "execution_count": 439,
     "metadata": {},
     "output_type": "execute_result"
    }
   ],
   "source": [
    "df_9"
   ]
  },
  {
   "cell_type": "code",
   "execution_count": 440,
   "id": "90e38a05",
   "metadata": {},
   "outputs": [
    {
     "data": {
      "text/plain": [
       "indicatorname      0\n",
       "year               0\n",
       "country            0\n",
       "code               0\n",
       "time               0\n",
       "variant            0\n",
       "sex                0\n",
       "age                0\n",
       "estimate_method    0\n",
       "estimatemethod     0\n",
       "value              0\n",
       "dtype: int64"
      ]
     },
     "execution_count": 440,
     "metadata": {},
     "output_type": "execute_result"
    }
   ],
   "source": [
    "df_9.isnull().sum()"
   ]
  },
  {
   "cell_type": "code",
   "execution_count": 441,
   "id": "90b13b28",
   "metadata": {},
   "outputs": [],
   "source": [
    "#df_9.to_csv(\"cleaned_unpopulation_dataportal.csv\", index=False)"
   ]
  },
  {
   "cell_type": "code",
   "execution_count": 442,
   "id": "73f014f0",
   "metadata": {},
   "outputs": [],
   "source": [
    "#df_9.to_sql('unpopulation_dataportal', engine, if_exists='replace', index=False)"
   ]
  },
  {
   "cell_type": "code",
   "execution_count": 443,
   "id": "c7357793",
   "metadata": {},
   "outputs": [],
   "source": [
    "df_10 = pd.read_csv('../data/processed/countries.csv',  header=5, low_memory=False)"
   ]
  },
  {
   "cell_type": "code",
   "execution_count": 444,
   "id": "ec908868",
   "metadata": {},
   "outputs": [
    {
     "data": {
      "text/html": [
       "<div>\n",
       "<style scoped>\n",
       "    .dataframe tbody tr th:only-of-type {\n",
       "        vertical-align: middle;\n",
       "    }\n",
       "\n",
       "    .dataframe tbody tr th {\n",
       "        vertical-align: top;\n",
       "    }\n",
       "\n",
       "    .dataframe thead th {\n",
       "        text-align: right;\n",
       "    }\n",
       "</style>\n",
       "<table border=\"1\" class=\"dataframe\">\n",
       "  <thead>\n",
       "    <tr style=\"text-align: right;\">\n",
       "      <th></th>\n",
       "      <th>countryorarea</th>\n",
       "      <th>isocode</th>\n",
       "      <th>indicator</th>\n",
       "      <th>year</th>\n",
       "      <th>agegroup</th>\n",
       "      <th>percentage</th>\n",
       "      <th>number</th>\n",
       "      <th>dataprocess</th>\n",
       "    </tr>\n",
       "  </thead>\n",
       "  <tbody>\n",
       "    <tr>\n",
       "      <th>102670</th>\n",
       "      <td>Philippines</td>\n",
       "      <td>608</td>\n",
       "      <td>Married or in-union women</td>\n",
       "      <td>2005</td>\n",
       "      <td>45-49</td>\n",
       "      <td>83.223929</td>\n",
       "      <td>1737.049005</td>\n",
       "      <td>Estimate</td>\n",
       "    </tr>\n",
       "    <tr>\n",
       "      <th>65045</th>\n",
       "      <td>Japan</td>\n",
       "      <td>392</td>\n",
       "      <td>Married or in-union women</td>\n",
       "      <td>2000</td>\n",
       "      <td>40-44</td>\n",
       "      <td>78.315562</td>\n",
       "      <td>3002.566959</td>\n",
       "      <td>Estimate</td>\n",
       "    </tr>\n",
       "    <tr>\n",
       "      <th>111861</th>\n",
       "      <td>Saint-Pierre-et-Miquelon</td>\n",
       "      <td>666</td>\n",
       "      <td>Married or in-union women</td>\n",
       "      <td>2020</td>\n",
       "      <td>40-44</td>\n",
       "      <td>85.800000</td>\n",
       "      <td>0.177177</td>\n",
       "      <td>Estimate</td>\n",
       "    </tr>\n",
       "    <tr>\n",
       "      <th>87314</th>\n",
       "      <td>Mozambique</td>\n",
       "      <td>508</td>\n",
       "      <td>Married or in-union women</td>\n",
       "      <td>2030</td>\n",
       "      <td>25-29</td>\n",
       "      <td>78.100751</td>\n",
       "      <td>1265.742548</td>\n",
       "      <td>Projection</td>\n",
       "    </tr>\n",
       "    <tr>\n",
       "      <th>85667</th>\n",
       "      <td>Montserrat</td>\n",
       "      <td>500</td>\n",
       "      <td>Married or in-union women</td>\n",
       "      <td>1986</td>\n",
       "      <td>30-34</td>\n",
       "      <td>51.150013</td>\n",
       "      <td>0.198206</td>\n",
       "      <td>Estimate</td>\n",
       "    </tr>\n",
       "    <tr>\n",
       "      <th>32082</th>\n",
       "      <td>Cuba</td>\n",
       "      <td>192</td>\n",
       "      <td>Married or in-union women</td>\n",
       "      <td>2011</td>\n",
       "      <td>25-29</td>\n",
       "      <td>65.432568</td>\n",
       "      <td>239.812981</td>\n",
       "      <td>Estimate</td>\n",
       "    </tr>\n",
       "    <tr>\n",
       "      <th>54505</th>\n",
       "      <td>Guinea</td>\n",
       "      <td>324</td>\n",
       "      <td>Married or in-union women</td>\n",
       "      <td>1979</td>\n",
       "      <td>20-24</td>\n",
       "      <td>81.000000</td>\n",
       "      <td>169.648020</td>\n",
       "      <td>Estimate</td>\n",
       "    </tr>\n",
       "    <tr>\n",
       "      <th>32891</th>\n",
       "      <td>Cyprus</td>\n",
       "      <td>196</td>\n",
       "      <td>Married or in-union women</td>\n",
       "      <td>2031</td>\n",
       "      <td>30-34</td>\n",
       "      <td>61.843116</td>\n",
       "      <td>26.750549</td>\n",
       "      <td>Projection</td>\n",
       "    </tr>\n",
       "    <tr>\n",
       "      <th>67638</th>\n",
       "      <td>Democratic People's Republic of Korea</td>\n",
       "      <td>408</td>\n",
       "      <td>Married or in-union women</td>\n",
       "      <td>2000</td>\n",
       "      <td>45-49</td>\n",
       "      <td>87.701553</td>\n",
       "      <td>459.538595</td>\n",
       "      <td>Estimate</td>\n",
       "    </tr>\n",
       "    <tr>\n",
       "      <th>84789</th>\n",
       "      <td>Republic of Moldova</td>\n",
       "      <td>498</td>\n",
       "      <td>Married or in-union women</td>\n",
       "      <td>2038</td>\n",
       "      <td>40-44</td>\n",
       "      <td>68.931544</td>\n",
       "      <td>50.917664</td>\n",
       "      <td>Projection</td>\n",
       "    </tr>\n",
       "  </tbody>\n",
       "</table>\n",
       "</div>"
      ],
      "text/plain": [
       "                                countryorarea  isocode  \\\n",
       "102670                            Philippines      608   \n",
       "65045                                   Japan      392   \n",
       "111861               Saint-Pierre-et-Miquelon      666   \n",
       "87314                              Mozambique      508   \n",
       "85667                              Montserrat      500   \n",
       "32082                                    Cuba      192   \n",
       "54505                                  Guinea      324   \n",
       "32891                                  Cyprus      196   \n",
       "67638   Democratic People's Republic of Korea      408   \n",
       "84789                     Republic of Moldova      498   \n",
       "\n",
       "                        indicator  year agegroup  percentage       number  \\\n",
       "102670  Married or in-union women  2005    45-49   83.223929  1737.049005   \n",
       "65045   Married or in-union women  2000    40-44   78.315562  3002.566959   \n",
       "111861  Married or in-union women  2020    40-44   85.800000     0.177177   \n",
       "87314   Married or in-union women  2030    25-29   78.100751  1265.742548   \n",
       "85667   Married or in-union women  1986    30-34   51.150013     0.198206   \n",
       "32082   Married or in-union women  2011    25-29   65.432568   239.812981   \n",
       "54505   Married or in-union women  1979    20-24   81.000000   169.648020   \n",
       "32891   Married or in-union women  2031    30-34   61.843116    26.750549   \n",
       "67638   Married or in-union women  2000    45-49   87.701553   459.538595   \n",
       "84789   Married or in-union women  2038    40-44   68.931544    50.917664   \n",
       "\n",
       "       dataprocess  \n",
       "102670    Estimate  \n",
       "65045     Estimate  \n",
       "111861    Estimate  \n",
       "87314   Projection  \n",
       "85667     Estimate  \n",
       "32082     Estimate  \n",
       "54505     Estimate  \n",
       "32891   Projection  \n",
       "67638     Estimate  \n",
       "84789   Projection  "
      ]
     },
     "execution_count": 444,
     "metadata": {},
     "output_type": "execute_result"
    }
   ],
   "source": [
    "df_10.columns = (\n",
    "    df_10.columns\n",
    "    .str.lower()\n",
    "    .str.strip()\n",
    "    .str.replace(' ', '')\n",
    "    .str.replace('(', '')\n",
    "    .str.replace(')', '')\n",
    "    .str.replace('[^0-9a-zA-Z_]', '', regex=True)\n",
    ")\n",
    "df_10.sample(10)"
   ]
  },
  {
   "cell_type": "code",
   "execution_count": 445,
   "id": "5dde560b",
   "metadata": {},
   "outputs": [
    {
     "data": {
      "text/html": [
       "<div>\n",
       "<style scoped>\n",
       "    .dataframe tbody tr th:only-of-type {\n",
       "        vertical-align: middle;\n",
       "    }\n",
       "\n",
       "    .dataframe tbody tr th {\n",
       "        vertical-align: top;\n",
       "    }\n",
       "\n",
       "    .dataframe thead th {\n",
       "        text-align: right;\n",
       "    }\n",
       "</style>\n",
       "<table border=\"1\" class=\"dataframe\">\n",
       "  <thead>\n",
       "    <tr style=\"text-align: right;\">\n",
       "      <th></th>\n",
       "      <th>countryorarea</th>\n",
       "      <th>isocode</th>\n",
       "      <th>indicator</th>\n",
       "      <th>year</th>\n",
       "      <th>agegroup</th>\n",
       "      <th>percentage</th>\n",
       "      <th>number</th>\n",
       "      <th>data_process</th>\n",
       "    </tr>\n",
       "  </thead>\n",
       "  <tbody>\n",
       "    <tr>\n",
       "      <th>134492</th>\n",
       "      <td>Turks and Caicos Islands</td>\n",
       "      <td>796</td>\n",
       "      <td>Married or in-union women</td>\n",
       "      <td>2014</td>\n",
       "      <td>35-39</td>\n",
       "      <td>65.068629</td>\n",
       "      <td>1.051184</td>\n",
       "      <td>Estimate</td>\n",
       "    </tr>\n",
       "    <tr>\n",
       "      <th>21593</th>\n",
       "      <td>Cabo Verde</td>\n",
       "      <td>132</td>\n",
       "      <td>Married or in-union women</td>\n",
       "      <td>1996</td>\n",
       "      <td>20-24</td>\n",
       "      <td>30.555392</td>\n",
       "      <td>5.772372</td>\n",
       "      <td>Estimate</td>\n",
       "    </tr>\n",
       "    <tr>\n",
       "      <th>103203</th>\n",
       "      <td>Poland</td>\n",
       "      <td>616</td>\n",
       "      <td>Married or in-union women</td>\n",
       "      <td>1991</td>\n",
       "      <td>30-34</td>\n",
       "      <td>83.541617</td>\n",
       "      <td>1299.939719</td>\n",
       "      <td>Estimate</td>\n",
       "    </tr>\n",
       "    <tr>\n",
       "      <th>57956</th>\n",
       "      <td>Hungary</td>\n",
       "      <td>348</td>\n",
       "      <td>Married or in-union women</td>\n",
       "      <td>2005</td>\n",
       "      <td>35-39</td>\n",
       "      <td>71.085696</td>\n",
       "      <td>242.972685</td>\n",
       "      <td>Estimate</td>\n",
       "    </tr>\n",
       "    <tr>\n",
       "      <th>101159</th>\n",
       "      <td>Paraguay</td>\n",
       "      <td>600</td>\n",
       "      <td>Married or in-union women</td>\n",
       "      <td>1978</td>\n",
       "      <td>15-49</td>\n",
       "      <td>51.974359</td>\n",
       "      <td>342.909411</td>\n",
       "      <td>Estimate</td>\n",
       "    </tr>\n",
       "  </tbody>\n",
       "</table>\n",
       "</div>"
      ],
      "text/plain": [
       "                   countryorarea  isocode                  indicator  year  \\\n",
       "134492  Turks and Caicos Islands      796  Married or in-union women  2014   \n",
       "21593                 Cabo Verde      132  Married or in-union women  1996   \n",
       "103203                    Poland      616  Married or in-union women  1991   \n",
       "57956                    Hungary      348  Married or in-union women  2005   \n",
       "101159                  Paraguay      600  Married or in-union women  1978   \n",
       "\n",
       "       agegroup  percentage       number data_process  \n",
       "134492    35-39   65.068629     1.051184     Estimate  \n",
       "21593     20-24   30.555392     5.772372     Estimate  \n",
       "103203    30-34   83.541617  1299.939719     Estimate  \n",
       "57956     35-39   71.085696   242.972685     Estimate  \n",
       "101159    15-49   51.974359   342.909411     Estimate  "
      ]
     },
     "execution_count": 445,
     "metadata": {},
     "output_type": "execute_result"
    }
   ],
   "source": [
    "df_10.rename(columns={\n",
    "    \"dataprocess\": \"data_process\",\n",
    "}, inplace=True)\n",
    "\n",
    "df_10.drop_duplicates(inplace=True)\n",
    "df_10.sample(5)"
   ]
  },
  {
   "cell_type": "code",
   "execution_count": 446,
   "id": "ae49e7cc",
   "metadata": {},
   "outputs": [],
   "source": [
    "for col in ['percentage', 'number']:\n",
    "    if col in df_10.columns:\n",
    "        df_10[col] = (\n",
    "            df_10[col]\n",
    "            .astype(str)\n",
    "            .str.replace(',', '.', regex=False)\n",
    "            .str.extract(r'([-+]?[0-9]*\\.?[0-9]+)', expand=False)\n",
    "            .astype(float)\n",
    "            .round(2)\n",
    "        )"
   ]
  },
  {
   "cell_type": "code",
   "execution_count": 447,
   "id": "9e16f296",
   "metadata": {},
   "outputs": [],
   "source": [
    "unnamed_cols = [col for col in df_10.columns if 'unnamed' in col.lower()]\n",
    "df.drop(columns=unnamed_cols, inplace=True)"
   ]
  },
  {
   "cell_type": "code",
   "execution_count": 448,
   "id": "296bbec6",
   "metadata": {},
   "outputs": [],
   "source": [
    "df_10.dropna(inplace=True)"
   ]
  },
  {
   "cell_type": "code",
   "execution_count": 449,
   "id": "23d7e36d",
   "metadata": {},
   "outputs": [
    {
     "data": {
      "text/plain": [
       "countryorarea    0\n",
       "isocode          0\n",
       "indicator        0\n",
       "year             0\n",
       "agegroup         0\n",
       "percentage       0\n",
       "number           0\n",
       "data_process     0\n",
       "dtype: int64"
      ]
     },
     "execution_count": 449,
     "metadata": {},
     "output_type": "execute_result"
    }
   ],
   "source": [
    "df_10.isnull().sum()"
   ]
  },
  {
   "cell_type": "code",
   "execution_count": 450,
   "id": "9d67a470",
   "metadata": {},
   "outputs": [
    {
     "name": "stdout",
     "output_type": "stream",
     "text": [
      "<class 'pandas.core.frame.DataFrame'>\n",
      "RangeIndex: 145800 entries, 0 to 145799\n",
      "Data columns (total 8 columns):\n",
      " #   Column         Non-Null Count   Dtype  \n",
      "---  ------         --------------   -----  \n",
      " 0   countryorarea  145800 non-null  object \n",
      " 1   isocode        145800 non-null  int64  \n",
      " 2   indicator      145800 non-null  object \n",
      " 3   year           145800 non-null  int64  \n",
      " 4   agegroup       145800 non-null  object \n",
      " 5   percentage     145800 non-null  float64\n",
      " 6   number         145800 non-null  float64\n",
      " 7   data_process   145800 non-null  object \n",
      "dtypes: float64(2), int64(2), object(4)\n",
      "memory usage: 8.9+ MB\n"
     ]
    }
   ],
   "source": [
    "df_10.info()"
   ]
  },
  {
   "cell_type": "code",
   "execution_count": 451,
   "id": "6a0c6fee",
   "metadata": {},
   "outputs": [],
   "source": [
    "#df_10.to_csv(\"cleaned_countries_1970_2025.csv\", index=False)"
   ]
  },
  {
   "cell_type": "code",
   "execution_count": 452,
   "id": "395af0d7",
   "metadata": {},
   "outputs": [],
   "source": [
    "#df_10.to_sql('countries_1970_2025', engine, if_exists='replace', index=False)"
   ]
  }
 ],
 "metadata": {
  "kernelspec": {
   "display_name": "py310env",
   "language": "python",
   "name": "python3"
  },
  "language_info": {
   "codemirror_mode": {
    "name": "ipython",
    "version": 3
   },
   "file_extension": ".py",
   "mimetype": "text/x-python",
   "name": "python",
   "nbconvert_exporter": "python",
   "pygments_lexer": "ipython3",
   "version": "3.10.18"
  }
 },
 "nbformat": 4,
 "nbformat_minor": 5
}
