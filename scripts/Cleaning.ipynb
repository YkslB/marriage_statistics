{
 "cells": [
  {
   "cell_type": "code",
   "execution_count": 267,
   "id": "8edbb5ae",
   "metadata": {},
   "outputs": [],
   "source": [
    "import pandas as pd\n",
    "from matplotlib import pyplot as plt\n",
    "import seaborn as sns\n",
    "import numpy as np\n",
    "from sqlalchemy import create_engine, types\n",
    "from sqlalchemy import text "
   ]
  },
  {
   "cell_type": "code",
   "execution_count": 268,
   "id": "13566b4a",
   "metadata": {},
   "outputs": [],
   "source": [
    "from dotenv import dotenv_values\n",
    "\n",
    "config = dotenv_values()\n",
    "\n",
    "# define variables for the login\n",
    "pg_user = config['POSTGRES_USER']  # align the key label with your .env file !\n",
    "pg_host = config['POSTGRES_HOST']\n",
    "pg_port = config['POSTGRES_PORT']\n",
    "pg_db = config['POSTGRES_DB']\n",
    "pg_schema = config['POSTGRES_SCHEMA']\n",
    "pg_pass = config['POSTGRES_PASS']"
   ]
  },
  {
   "cell_type": "code",
   "execution_count": 269,
   "id": "e7b75227",
   "metadata": {},
   "outputs": [],
   "source": [
    "url = f'postgresql://{pg_user}:{pg_pass}@{pg_host}:{pg_port}/{pg_db}'\n",
    "engine = create_engine(url, echo=False)"
   ]
  },
  {
   "cell_type": "code",
   "execution_count": 270,
   "id": "b54d720a",
   "metadata": {},
   "outputs": [],
   "source": [
    "my_schema = 'team_5' # update it to your schema\n",
    "\n",
    "with engine.begin() as conn: \n",
    "    result = conn.execute(text(f'SET search_path TO {my_schema};'))"
   ]
  },
  {
   "cell_type": "code",
   "execution_count": 271,
   "id": "ec990454",
   "metadata": {},
   "outputs": [],
   "source": [
    "df_1= pd.read_csv('../data/Raw/World_Marriage_Dataset.csv')"
   ]
  },
  {
   "cell_type": "code",
   "execution_count": 272,
   "id": "3aeb2463",
   "metadata": {},
   "outputs": [],
   "source": [
    "df_1.drop(columns=[\"Sr.No.\"], inplace=True)"
   ]
  },
  {
   "cell_type": "code",
   "execution_count": 273,
   "id": "3ecbef6c",
   "metadata": {},
   "outputs": [],
   "source": [
    "df_1.columns = df_1.columns.str.lower() \\\n",
    "    .str.replace(' ', '_') \\\n",
    "    .str.replace('(', '') \\\n",
    "    .str.replace(')', '') \\\n",
    "    .str.replace('[^0-9a-zA-Z_]', '', regex=True)"
   ]
  },
  {
   "cell_type": "code",
   "execution_count": 274,
   "id": "de0ed567",
   "metadata": {},
   "outputs": [],
   "source": [
    "df_1.rename(columns={\n",
    "    \"agegroup\": \"age_group\",\n",
    "    \"maritalstatus\": \"marital_status\",\n",
    "    \"dataprocess\": \"data_process\",\n",
    "    \"Data Collection (Start Year)\": \"data_collection_start_year\",\n",
    "    \"Data Collection (End Year)\": \"data_collection_end_year\",\n",
    "    \"Data Source\": \"data_source\",\n",
    "    \"Country\": \"country\",\n",
    "    \"Sex\": \"sex\"\n",
    "}, inplace=True)"
   ]
  },
  {
   "cell_type": "code",
   "execution_count": 275,
   "id": "7268fa4e",
   "metadata": {},
   "outputs": [],
   "source": [
    "df_1.drop_duplicates(inplace=True)\n",
    "\n",
    "df_1['data_collection_start_year'] = df_1['data_collection_start_year'].astype(str).str.replace(',', '').astype(int)\n",
    "df_1['data_collection_end_year'] = df_1['data_collection_end_year'].astype(str).str.replace(',', '').astype(int)"
   ]
  },
  {
   "cell_type": "code",
   "execution_count": 276,
   "id": "88ac1c68",
   "metadata": {},
   "outputs": [
    {
     "data": {
      "text/plain": [
       "country                       0\n",
       "age_group                     0\n",
       "sex                           0\n",
       "marital_status                0\n",
       "data_process                  0\n",
       "data_collection_start_year    0\n",
       "data_collection_end_year      0\n",
       "data_source                   0\n",
       "dtype: int64"
      ]
     },
     "execution_count": 276,
     "metadata": {},
     "output_type": "execute_result"
    }
   ],
   "source": [
    "df_1.isnull().sum()"
   ]
  },
  {
   "cell_type": "code",
   "execution_count": 277,
   "id": "0a9a1cdd",
   "metadata": {},
   "outputs": [],
   "source": [
    "#df_1.to_csv(\"cleaned_world_marriage.csv\", index=False)"
   ]
  },
  {
   "cell_type": "code",
   "execution_count": 278,
   "id": "b8f9f959",
   "metadata": {},
   "outputs": [],
   "source": [
    "#df_1.to_sql('world_marriage', engine, if_exists='replace', index=False)"
   ]
  },
  {
   "cell_type": "code",
   "execution_count": 279,
   "id": "1faea9f6",
   "metadata": {},
   "outputs": [],
   "source": [
    "df_2 = pd.read_csv('../data/Raw/age-at-marriage-women.csv')"
   ]
  },
  {
   "cell_type": "code",
   "execution_count": 280,
   "id": "db32400b",
   "metadata": {},
   "outputs": [],
   "source": [
    "df_2.columns = df_2.columns.str.lower() \\\n",
    "    .str.replace(' ', '_') \\\n",
    "    .str.replace('(', '') \\\n",
    "    .str.replace(')', '') \\\n",
    "    .str.replace('[^0-9a-zA-Z_]', '', regex=True)"
   ]
  },
  {
   "cell_type": "code",
   "execution_count": 281,
   "id": "149d8113",
   "metadata": {},
   "outputs": [],
   "source": [
    "df_2 = df_2.drop(columns=['1005564annotations'])\n",
    "\n",
    "df_2.rename(columns={\n",
    "    \"entity\": \"country\",   \n",
    "}, inplace=True)"
   ]
  },
  {
   "cell_type": "code",
   "execution_count": 282,
   "id": "5b1591c4",
   "metadata": {},
   "outputs": [],
   "source": [
    "df_2.drop_duplicates(inplace=True)\n"
   ]
  },
  {
   "cell_type": "code",
   "execution_count": 283,
   "id": "c2d7dd53",
   "metadata": {},
   "outputs": [],
   "source": [
    "df_2['year'] = df_2['year'].astype(str).str.replace(',', '').astype(int)"
   ]
  },
  {
   "cell_type": "code",
   "execution_count": 284,
   "id": "69b7a060",
   "metadata": {},
   "outputs": [
    {
     "data": {
      "text/plain": [
       "country                                0\n",
       "code                                   0\n",
       "year                                   0\n",
       "mean_age_of_women_at_first_marriage    0\n",
       "dtype: int64"
      ]
     },
     "execution_count": 284,
     "metadata": {},
     "output_type": "execute_result"
    }
   ],
   "source": [
    "df_2.isnull().sum()"
   ]
  },
  {
   "cell_type": "code",
   "execution_count": 285,
   "id": "988b26e6",
   "metadata": {},
   "outputs": [],
   "source": [
    "#df_2.to_csv(\"cleaned_age_at_marriage_women.csv\", index=False)"
   ]
  },
  {
   "cell_type": "code",
   "execution_count": 286,
   "id": "c3d6586c",
   "metadata": {},
   "outputs": [],
   "source": [
    "#df_2.to_sql('age_at_marriage_women', engine, if_exists='replace', index=False)"
   ]
  },
  {
   "cell_type": "code",
   "execution_count": 287,
   "id": "77d0c360",
   "metadata": {},
   "outputs": [],
   "source": [
    "df_3= pd.read_csv('../data/Raw/marriage-rate-per-1000-inhabitants.csv')"
   ]
  },
  {
   "cell_type": "code",
   "execution_count": 288,
   "id": "e846027f",
   "metadata": {},
   "outputs": [],
   "source": [
    "df_3.columns = df_3.columns.str.lower() \\\n",
    "    .str.replace(' ', '_') \\\n",
    "    .str.replace('(', '') \\\n",
    "    .str.replace(')', '') \\\n",
    "    .str.replace('[^0-9a-zA-Z_]', '', regex=True)"
   ]
  },
  {
   "cell_type": "code",
   "execution_count": 289,
   "id": "193dc9a1",
   "metadata": {},
   "outputs": [],
   "source": [
    "df_3.rename(columns={\n",
    "    \"entity\": \"country\",   \n",
    "}, inplace=True)"
   ]
  },
  {
   "cell_type": "code",
   "execution_count": 290,
   "id": "d04666fc",
   "metadata": {},
   "outputs": [],
   "source": [
    "df_3['year'] = df_3['year'].astype(str).str.replace(',', '').astype(int)"
   ]
  },
  {
   "cell_type": "code",
   "execution_count": 291,
   "id": "ff7e90f7",
   "metadata": {},
   "outputs": [],
   "source": [
    "df_3.drop_duplicates(inplace=True)\n"
   ]
  },
  {
   "cell_type": "code",
   "execution_count": 292,
   "id": "dd9484b1",
   "metadata": {},
   "outputs": [
    {
     "data": {
      "text/plain": [
       "country                                          0\n",
       "code                                             0\n",
       "year                                             0\n",
       "crude_marriage_rate_marriages_per_1000_people    0\n",
       "dtype: int64"
      ]
     },
     "execution_count": 292,
     "metadata": {},
     "output_type": "execute_result"
    }
   ],
   "source": [
    "df_3.isnull().sum()"
   ]
  },
  {
   "cell_type": "code",
   "execution_count": 293,
   "id": "d0be7f40",
   "metadata": {},
   "outputs": [],
   "source": [
    "#df_3.to_csv(\"cleaned_marriage-rate-per-1000-inhabitants.csv\", index=False)"
   ]
  },
  {
   "cell_type": "code",
   "execution_count": 294,
   "id": "29ed0ffc",
   "metadata": {},
   "outputs": [],
   "source": [
    "#df_3.to_sql('married_rate_per_1000', engine, if_exists='replace', index=False)"
   ]
  },
  {
   "cell_type": "code",
   "execution_count": 295,
   "id": "aa41d55e",
   "metadata": {},
   "outputs": [],
   "source": [
    "df_4= pd.read_csv('../data/Raw/marriage-rates-in-1990-vs-2020.csv')"
   ]
  },
  {
   "cell_type": "code",
   "execution_count": 296,
   "id": "3edd8a12",
   "metadata": {},
   "outputs": [],
   "source": [
    "df_4.columns = df_4.columns.str.lower() \\\n",
    "    .str.replace(' ', '') \\\n",
    "    .str.replace('(', '') \\\n",
    "    .str.replace(')', '') \\\n",
    "    .str.replace('[^0-9a-zA-Z_]', '', regex=True)"
   ]
  },
  {
   "cell_type": "code",
   "execution_count": 297,
   "id": "266353a0",
   "metadata": {},
   "outputs": [],
   "source": [
    "df_4 = df_4.drop(columns=['worldregionsaccordingtoowid'])\n",
    "\n",
    "df_4.rename(columns={\n",
    "    \"crudemarriageratemarriagesper1000people\": \"crude_marriage_rate\",\n",
    "    \"crudemarriageratemarriagesper1000people1\": \"crude_marriage_rate_people1\",\n",
    "    \"year1\": \"year_1\",\n",
    "    \"entity\": \"country\"\n",
    "}, inplace=True)"
   ]
  },
  {
   "cell_type": "code",
   "execution_count": 298,
   "id": "74f449df",
   "metadata": {},
   "outputs": [],
   "source": [
    "df_4.drop_duplicates(inplace=True)\n",
    "df_4.dropna(inplace=True)"
   ]
  },
  {
   "cell_type": "code",
   "execution_count": 299,
   "id": "ecc2e9d1",
   "metadata": {},
   "outputs": [],
   "source": [
    "df_4['year_1'] = pd.to_numeric(df_4['year_1'], errors='coerce').astype('Int64')"
   ]
  },
  {
   "cell_type": "code",
   "execution_count": 300,
   "id": "9c07c47b",
   "metadata": {},
   "outputs": [
    {
     "data": {
      "text/plain": [
       "country                        0\n",
       "code                           0\n",
       "year                           0\n",
       "crude_marriage_rate            0\n",
       "crude_marriage_rate_people1    0\n",
       "year_1                         0\n",
       "dtype: int64"
      ]
     },
     "execution_count": 300,
     "metadata": {},
     "output_type": "execute_result"
    }
   ],
   "source": [
    "df_4.isnull().sum()"
   ]
  },
  {
   "cell_type": "code",
   "execution_count": 301,
   "id": "9d60e3c9",
   "metadata": {},
   "outputs": [],
   "source": [
    "#df_4.to_csv(\"cleaned_marriage-rates-in-1990-vs-2020.csv\", index=False)"
   ]
  },
  {
   "cell_type": "code",
   "execution_count": 302,
   "id": "08b53841",
   "metadata": {},
   "outputs": [],
   "source": [
    "#df_4.to_sql('marriage_rates_in_1990_vs_2020', engine, if_exists='replace', index=False)"
   ]
  },
  {
   "cell_type": "code",
   "execution_count": 303,
   "id": "133d47b0",
   "metadata": {},
   "outputs": [],
   "source": [
    "df_5 = pd.read_csv('../data/Raw/share-of-births-outside-marriage.csv')"
   ]
  },
  {
   "cell_type": "code",
   "execution_count": 304,
   "id": "4d3243d2",
   "metadata": {},
   "outputs": [],
   "source": [
    "df_5.columns = df_5.columns.str.lower() \\\n",
    "    .str.replace(' ', '') \\\n",
    "    .str.replace('(', '') \\\n",
    "    .str.replace(')', '') \\\n",
    "    .str.replace('[^0-9a-zA-Z_]', '', regex=True)"
   ]
  },
  {
   "cell_type": "code",
   "execution_count": 305,
   "id": "80b37147",
   "metadata": {},
   "outputs": [],
   "source": [
    "\n",
    "df_5.rename(columns={\n",
    "    \"shareofbirthsoutsideofmarriageofallbirths\": \"share_of_births_outside_of_marriage\",\n",
    "    \"entity\": \"country\"\n",
    "}, inplace=True)\n",
    "\n",
    "df_5.drop_duplicates(inplace=True)"
   ]
  },
  {
   "cell_type": "code",
   "execution_count": 306,
   "id": "17dfcb86",
   "metadata": {},
   "outputs": [
    {
     "data": {
      "text/plain": [
       "country                                0\n",
       "code                                   0\n",
       "year                                   0\n",
       "share_of_births_outside_of_marriage    0\n",
       "dtype: int64"
      ]
     },
     "execution_count": 306,
     "metadata": {},
     "output_type": "execute_result"
    }
   ],
   "source": [
    "df_5.isnull().sum()"
   ]
  },
  {
   "cell_type": "code",
   "execution_count": 307,
   "id": "a1ecb1ab",
   "metadata": {},
   "outputs": [],
   "source": [
    "#df_5.to_csv(\"cleaned_share-of-births-outside-marriage.csv\", index=False)"
   ]
  },
  {
   "cell_type": "code",
   "execution_count": 308,
   "id": "2f44ef2a",
   "metadata": {},
   "outputs": [],
   "source": [
    "#df_5.to_sql('share_of_births_outside_marriage', engine, if_exists='replace', index=False)"
   ]
  },
  {
   "cell_type": "code",
   "execution_count": 309,
   "id": "11e9d430",
   "metadata": {},
   "outputs": [],
   "source": [
    "df_6 = pd.read_csv('../data/Raw/share-of-men-in-england-and-wales-who-have-ever-married-by-age.csv')"
   ]
  },
  {
   "cell_type": "code",
   "execution_count": 310,
   "id": "dc05526d",
   "metadata": {},
   "outputs": [
    {
     "data": {
      "text/html": [
       "<div>\n",
       "<style scoped>\n",
       "    .dataframe tbody tr th:only-of-type {\n",
       "        vertical-align: middle;\n",
       "    }\n",
       "\n",
       "    .dataframe tbody tr th {\n",
       "        vertical-align: top;\n",
       "    }\n",
       "\n",
       "    .dataframe thead th {\n",
       "        text-align: right;\n",
       "    }\n",
       "</style>\n",
       "<table border=\"1\" class=\"dataframe\">\n",
       "  <thead>\n",
       "    <tr style=\"text-align: right;\">\n",
       "      <th></th>\n",
       "      <th>entity</th>\n",
       "      <th>code</th>\n",
       "      <th>year</th>\n",
       "      <th>proportionsofmenorwomenwhohadevermarriedbyacertainagefor1900birthcohort</th>\n",
       "      <th>proportionsofmenorwomenwhohadevermarriedbyacertainagefor1920birthcohort</th>\n",
       "      <th>proportionsofmenorwomenwhohadevermarriedbyacertainagefor1940birthcohort</th>\n",
       "      <th>proportionsofmenorwomenwhohadevermarriedbyacertainagefor1960birthcohort</th>\n",
       "      <th>proportionsofmenorwomenwhohadevermarriedbyacertainagefor1970birthcohort</th>\n",
       "      <th>proportionsofmenorwomenwhohadevermarriedbyacertainagefor1980birthcohort</th>\n",
       "      <th>proportionsofmenorwomenwhohadevermarriedbyacertainagefor1990birthcohort</th>\n",
       "      <th>proportionsofmenorwomenwhohadevermarriedbyacertainagefor2000birthcohort</th>\n",
       "    </tr>\n",
       "  </thead>\n",
       "  <tbody>\n",
       "    <tr>\n",
       "      <th>2</th>\n",
       "      <td>Men</td>\n",
       "      <td>NaN</td>\n",
       "      <td>19</td>\n",
       "      <td>0.8</td>\n",
       "      <td>0.6</td>\n",
       "      <td>2.0</td>\n",
       "      <td>2.5</td>\n",
       "      <td>0.7</td>\n",
       "      <td>0.3</td>\n",
       "      <td>0.1</td>\n",
       "      <td>0.0</td>\n",
       "    </tr>\n",
       "    <tr>\n",
       "      <th>15</th>\n",
       "      <td>Men</td>\n",
       "      <td>NaN</td>\n",
       "      <td>32</td>\n",
       "      <td>79.3</td>\n",
       "      <td>82.2</td>\n",
       "      <td>86.5</td>\n",
       "      <td>68.8</td>\n",
       "      <td>48.2</td>\n",
       "      <td>33.5</td>\n",
       "      <td>25.1</td>\n",
       "      <td>NaN</td>\n",
       "    </tr>\n",
       "    <tr>\n",
       "      <th>63</th>\n",
       "      <td>Women</td>\n",
       "      <td>NaN</td>\n",
       "      <td>46</td>\n",
       "      <td>84.5</td>\n",
       "      <td>91.6</td>\n",
       "      <td>95.5</td>\n",
       "      <td>86.9</td>\n",
       "      <td>75.0</td>\n",
       "      <td>NaN</td>\n",
       "      <td>NaN</td>\n",
       "      <td>NaN</td>\n",
       "    </tr>\n",
       "    <tr>\n",
       "      <th>65</th>\n",
       "      <td>Women</td>\n",
       "      <td>NaN</td>\n",
       "      <td>48</td>\n",
       "      <td>85.0</td>\n",
       "      <td>91.8</td>\n",
       "      <td>95.6</td>\n",
       "      <td>87.2</td>\n",
       "      <td>75.7</td>\n",
       "      <td>NaN</td>\n",
       "      <td>NaN</td>\n",
       "      <td>NaN</td>\n",
       "    </tr>\n",
       "    <tr>\n",
       "      <th>45</th>\n",
       "      <td>Women</td>\n",
       "      <td>NaN</td>\n",
       "      <td>28</td>\n",
       "      <td>65.0</td>\n",
       "      <td>77.4</td>\n",
       "      <td>88.4</td>\n",
       "      <td>72.0</td>\n",
       "      <td>48.8</td>\n",
       "      <td>29.4</td>\n",
       "      <td>20.7</td>\n",
       "      <td>NaN</td>\n",
       "    </tr>\n",
       "  </tbody>\n",
       "</table>\n",
       "</div>"
      ],
      "text/plain": [
       "   entity  code  year  \\\n",
       "2     Men   NaN    19   \n",
       "15    Men   NaN    32   \n",
       "63  Women   NaN    46   \n",
       "65  Women   NaN    48   \n",
       "45  Women   NaN    28   \n",
       "\n",
       "    proportionsofmenorwomenwhohadevermarriedbyacertainagefor1900birthcohort  \\\n",
       "2                                                 0.8                         \n",
       "15                                               79.3                         \n",
       "63                                               84.5                         \n",
       "65                                               85.0                         \n",
       "45                                               65.0                         \n",
       "\n",
       "    proportionsofmenorwomenwhohadevermarriedbyacertainagefor1920birthcohort  \\\n",
       "2                                                 0.6                         \n",
       "15                                               82.2                         \n",
       "63                                               91.6                         \n",
       "65                                               91.8                         \n",
       "45                                               77.4                         \n",
       "\n",
       "    proportionsofmenorwomenwhohadevermarriedbyacertainagefor1940birthcohort  \\\n",
       "2                                                 2.0                         \n",
       "15                                               86.5                         \n",
       "63                                               95.5                         \n",
       "65                                               95.6                         \n",
       "45                                               88.4                         \n",
       "\n",
       "    proportionsofmenorwomenwhohadevermarriedbyacertainagefor1960birthcohort  \\\n",
       "2                                                 2.5                         \n",
       "15                                               68.8                         \n",
       "63                                               86.9                         \n",
       "65                                               87.2                         \n",
       "45                                               72.0                         \n",
       "\n",
       "    proportionsofmenorwomenwhohadevermarriedbyacertainagefor1970birthcohort  \\\n",
       "2                                                 0.7                         \n",
       "15                                               48.2                         \n",
       "63                                               75.0                         \n",
       "65                                               75.7                         \n",
       "45                                               48.8                         \n",
       "\n",
       "    proportionsofmenorwomenwhohadevermarriedbyacertainagefor1980birthcohort  \\\n",
       "2                                                 0.3                         \n",
       "15                                               33.5                         \n",
       "63                                                NaN                         \n",
       "65                                                NaN                         \n",
       "45                                               29.4                         \n",
       "\n",
       "    proportionsofmenorwomenwhohadevermarriedbyacertainagefor1990birthcohort  \\\n",
       "2                                                 0.1                         \n",
       "15                                               25.1                         \n",
       "63                                                NaN                         \n",
       "65                                                NaN                         \n",
       "45                                               20.7                         \n",
       "\n",
       "    proportionsofmenorwomenwhohadevermarriedbyacertainagefor2000birthcohort  \n",
       "2                                                 0.0                        \n",
       "15                                                NaN                        \n",
       "63                                                NaN                        \n",
       "65                                                NaN                        \n",
       "45                                                NaN                        "
      ]
     },
     "execution_count": 310,
     "metadata": {},
     "output_type": "execute_result"
    }
   ],
   "source": [
    "df_6.columns = df_6.columns.str.lower() \\\n",
    "    .str.replace(' ', '') \\\n",
    "    .str.replace('(', '') \\\n",
    "    .str.replace(')', '') \\\n",
    "    .str.replace('[^0-9a-zA-Z_]', '', regex=True)\n",
    "\n",
    "df_6.drop_duplicates(inplace=True)\n",
    "df_6.sample(5)"
   ]
  },
  {
   "cell_type": "code",
   "execution_count": 311,
   "id": "488391fa",
   "metadata": {},
   "outputs": [],
   "source": [
    "df_6 = df_6.drop(columns=['code','proportionsofmenorwomenwhohadevermarriedbyacertainagefor1980birthcohort',\n",
    "    'proportionsofmenorwomenwhohadevermarriedbyacertainagefor1990birthcohort',\n",
    "    'proportionsofmenorwomenwhohadevermarriedbyacertainagefor2000birthcohort'])\n",
    "\n",
    "df_6.rename(columns={\n",
    "    \"proportionsofmenorwomenwhohadevermarriedbyacertainagefor1900birthcohort\": \"1900_birthcohort\",\n",
    "    \"proportionsofmenorwomenwhohadevermarriedbyacertainagefor1920birthcohort\": \"1920_birthcohort\",\n",
    "    \"proportionsofmenorwomenwhohadevermarriedbyacertainagefor1940birthcohort\": \"1940_birthcohort\",\n",
    "    \"proportionsofmenorwomenwhohadevermarriedbyacertainagefor1960birthcohort\": \"1960_birthcohort\",\n",
    "    \"proportionsofmenorwomenwhohadevermarriedbyacertainagefor1970birthcohort\": \"1970_birthcohort\",\n",
    "    \"entity\": \"sex\"\n",
    "}, inplace=True)"
   ]
  },
  {
   "cell_type": "code",
   "execution_count": 312,
   "id": "b67b700e",
   "metadata": {},
   "outputs": [
    {
     "data": {
      "text/plain": [
       "sex                 0\n",
       "year                0\n",
       "1900_birthcohort    0\n",
       "1920_birthcohort    0\n",
       "1940_birthcohort    0\n",
       "1960_birthcohort    0\n",
       "1970_birthcohort    0\n",
       "dtype: int64"
      ]
     },
     "execution_count": 312,
     "metadata": {},
     "output_type": "execute_result"
    }
   ],
   "source": [
    "df_6.isnull().sum()"
   ]
  },
  {
   "cell_type": "code",
   "execution_count": 313,
   "id": "bd00250c",
   "metadata": {},
   "outputs": [],
   "source": [
    "#df_6.to_csv(\"cleaned_share-of-men-in-england-and-wales-who-have-ever-married-by-age.csv\", index=False)"
   ]
  },
  {
   "cell_type": "code",
   "execution_count": 314,
   "id": "a3c676cd",
   "metadata": {},
   "outputs": [],
   "source": [
    "#df_6.to_sql('men_in_england_and_wales_married_by_age', engine, if_exists='replace', index=False)"
   ]
  },
  {
   "cell_type": "code",
   "execution_count": 315,
   "id": "61daddb4",
   "metadata": {},
   "outputs": [],
   "source": [
    "df_7.columns = df_7.columns.str.lower() \\\n",
    "    .str.replace(' ', '') \\\n",
    "    .str.replace('(', '') \\\n",
    "    .str.replace(')', '') \\\n",
    "    .str.replace('[^0-9a-zA-Z_]', '', regex=True)"
   ]
  },
  {
   "cell_type": "code",
   "execution_count": 316,
   "id": "6c9dd325",
   "metadata": {},
   "outputs": [
    {
     "data": {
      "text/html": [
       "<div>\n",
       "<style scoped>\n",
       "    .dataframe tbody tr th:only-of-type {\n",
       "        vertical-align: middle;\n",
       "    }\n",
       "\n",
       "    .dataframe tbody tr th {\n",
       "        vertical-align: top;\n",
       "    }\n",
       "\n",
       "    .dataframe thead th {\n",
       "        text-align: right;\n",
       "    }\n",
       "</style>\n",
       "<table border=\"1\" class=\"dataframe\">\n",
       "  <thead>\n",
       "    <tr style=\"text-align: right;\">\n",
       "      <th></th>\n",
       "      <th>country</th>\n",
       "      <th>code</th>\n",
       "      <th>year</th>\n",
       "      <th>share_of_single_parent_households</th>\n",
       "    </tr>\n",
       "  </thead>\n",
       "  <tbody>\n",
       "    <tr>\n",
       "      <th>242</th>\n",
       "      <td>Ghana</td>\n",
       "      <td>GHA</td>\n",
       "      <td>2014</td>\n",
       "      <td>13.89</td>\n",
       "    </tr>\n",
       "    <tr>\n",
       "      <th>432</th>\n",
       "      <td>Mali</td>\n",
       "      <td>MLI</td>\n",
       "      <td>1987</td>\n",
       "      <td>6.64</td>\n",
       "    </tr>\n",
       "    <tr>\n",
       "      <th>371</th>\n",
       "      <td>Kenya</td>\n",
       "      <td>KEN</td>\n",
       "      <td>2020</td>\n",
       "      <td>12.43</td>\n",
       "    </tr>\n",
       "    <tr>\n",
       "      <th>485</th>\n",
       "      <td>Nepal</td>\n",
       "      <td>NPL</td>\n",
       "      <td>2001</td>\n",
       "      <td>9.14</td>\n",
       "    </tr>\n",
       "    <tr>\n",
       "      <th>245</th>\n",
       "      <td>Greece</td>\n",
       "      <td>GRC</td>\n",
       "      <td>1971</td>\n",
       "      <td>5.64</td>\n",
       "    </tr>\n",
       "  </tbody>\n",
       "</table>\n",
       "</div>"
      ],
      "text/plain": [
       "    country code  year  share_of_single_parent_households\n",
       "242   Ghana  GHA  2014                              13.89\n",
       "432    Mali  MLI  1987                               6.64\n",
       "371   Kenya  KEN  2020                              12.43\n",
       "485   Nepal  NPL  2001                               9.14\n",
       "245  Greece  GRC  1971                               5.64"
      ]
     },
     "execution_count": 316,
     "metadata": {},
     "output_type": "execute_result"
    }
   ],
   "source": [
    "df_7.rename(columns={\n",
    "    \"shareofsingleparenthouseholds\": \"share_of_single_parent_households\",\n",
    "    \"entity\": \"country\"\n",
    "}, inplace=True)\n",
    "\n",
    "df_7.drop_duplicates(inplace=True)\n",
    "df_7.sample(5)"
   ]
  },
  {
   "cell_type": "code",
   "execution_count": 317,
   "id": "e5af1f58",
   "metadata": {},
   "outputs": [
    {
     "data": {
      "text/plain": [
       "country                              0\n",
       "code                                 0\n",
       "year                                 0\n",
       "share_of_single_parent_households    0\n",
       "dtype: int64"
      ]
     },
     "execution_count": 317,
     "metadata": {},
     "output_type": "execute_result"
    }
   ],
   "source": [
    "df_7.isnull().sum()"
   ]
  },
  {
   "cell_type": "code",
   "execution_count": 318,
   "id": "b4b4dcb3",
   "metadata": {},
   "outputs": [],
   "source": [
    "#df_7.to_csv(\"cleaned_share-of-single-parent-households.csv\", index=False)"
   ]
  },
  {
   "cell_type": "code",
   "execution_count": 319,
   "id": "a581488a",
   "metadata": {},
   "outputs": [],
   "source": [
    "#df_7.to_sql('single_parent_households', engine, if_exists='replace', index=False)"
   ]
  },
  {
   "cell_type": "code",
   "execution_count": 320,
   "id": "04b4cf2f",
   "metadata": {},
   "outputs": [],
   "source": [
    "df_8 = pd.read_csv('../data/Raw/share-of-women-in-england-and-wales-who-have-ever-married-by-age.csv')"
   ]
  },
  {
   "cell_type": "code",
   "execution_count": 321,
   "id": "911bd461",
   "metadata": {},
   "outputs": [],
   "source": [
    "df_8.columns = df_8.columns.str.lower() \\\n",
    "    .str.replace(' ', '') \\\n",
    "    .str.replace('(', '') \\\n",
    "    .str.replace(')', '') \\\n",
    "    .str.replace('[^0-9a-zA-Z_]', '', regex=True)"
   ]
  },
  {
   "cell_type": "code",
   "execution_count": 322,
   "id": "f7713ec1",
   "metadata": {},
   "outputs": [
    {
     "data": {
      "text/html": [
       "<div>\n",
       "<style scoped>\n",
       "    .dataframe tbody tr th:only-of-type {\n",
       "        vertical-align: middle;\n",
       "    }\n",
       "\n",
       "    .dataframe tbody tr th {\n",
       "        vertical-align: top;\n",
       "    }\n",
       "\n",
       "    .dataframe thead th {\n",
       "        text-align: right;\n",
       "    }\n",
       "</style>\n",
       "<table border=\"1\" class=\"dataframe\">\n",
       "  <thead>\n",
       "    <tr style=\"text-align: right;\">\n",
       "      <th></th>\n",
       "      <th>entity</th>\n",
       "      <th>code</th>\n",
       "      <th>year</th>\n",
       "      <th>proportionsofmenorwomenwhohadevermarriedbyacertainagefor1900birthcohort</th>\n",
       "      <th>proportionsofmenorwomenwhohadevermarriedbyacertainagefor1920birthcohort</th>\n",
       "      <th>proportionsofmenorwomenwhohadevermarriedbyacertainagefor1940birthcohort</th>\n",
       "      <th>proportionsofmenorwomenwhohadevermarriedbyacertainagefor1960birthcohort</th>\n",
       "      <th>proportionsofmenorwomenwhohadevermarriedbyacertainagefor1970birthcohort</th>\n",
       "      <th>proportionsofmenorwomenwhohadevermarriedbyacertainagefor1980birthcohort</th>\n",
       "      <th>proportionsofmenorwomenwhohadevermarriedbyacertainagefor1990birthcohort</th>\n",
       "      <th>proportionsofmenorwomenwhohadevermarriedbyacertainagefor2000birthcohort</th>\n",
       "    </tr>\n",
       "  </thead>\n",
       "  <tbody>\n",
       "    <tr>\n",
       "      <th>60</th>\n",
       "      <td>Women</td>\n",
       "      <td>GBR</td>\n",
       "      <td>43</td>\n",
       "      <td>83.7</td>\n",
       "      <td>91.1</td>\n",
       "      <td>95.3</td>\n",
       "      <td>86.2</td>\n",
       "      <td>73.7</td>\n",
       "      <td>63.7</td>\n",
       "      <td>NaN</td>\n",
       "      <td>NaN</td>\n",
       "    </tr>\n",
       "    <tr>\n",
       "      <th>32</th>\n",
       "      <td>Men</td>\n",
       "      <td>GBR</td>\n",
       "      <td>49</td>\n",
       "      <td>92.7</td>\n",
       "      <td>91.8</td>\n",
       "      <td>92.3</td>\n",
       "      <td>81.5</td>\n",
       "      <td>70.3</td>\n",
       "      <td>NaN</td>\n",
       "      <td>NaN</td>\n",
       "      <td>NaN</td>\n",
       "    </tr>\n",
       "    <tr>\n",
       "      <th>29</th>\n",
       "      <td>Men</td>\n",
       "      <td>GBR</td>\n",
       "      <td>46</td>\n",
       "      <td>92.1</td>\n",
       "      <td>91.4</td>\n",
       "      <td>92.1</td>\n",
       "      <td>80.8</td>\n",
       "      <td>68.8</td>\n",
       "      <td>NaN</td>\n",
       "      <td>NaN</td>\n",
       "      <td>NaN</td>\n",
       "    </tr>\n",
       "    <tr>\n",
       "      <th>64</th>\n",
       "      <td>Women</td>\n",
       "      <td>GBR</td>\n",
       "      <td>47</td>\n",
       "      <td>84.8</td>\n",
       "      <td>91.7</td>\n",
       "      <td>95.6</td>\n",
       "      <td>87.0</td>\n",
       "      <td>75.4</td>\n",
       "      <td>NaN</td>\n",
       "      <td>NaN</td>\n",
       "      <td>NaN</td>\n",
       "    </tr>\n",
       "    <tr>\n",
       "      <th>50</th>\n",
       "      <td>Women</td>\n",
       "      <td>GBR</td>\n",
       "      <td>33</td>\n",
       "      <td>76.8</td>\n",
       "      <td>86.8</td>\n",
       "      <td>93.0</td>\n",
       "      <td>81.1</td>\n",
       "      <td>63.1</td>\n",
       "      <td>49.0</td>\n",
       "      <td>38.7</td>\n",
       "      <td>NaN</td>\n",
       "    </tr>\n",
       "  </tbody>\n",
       "</table>\n",
       "</div>"
      ],
      "text/plain": [
       "   entity code  year  \\\n",
       "60  Women  GBR    43   \n",
       "32    Men  GBR    49   \n",
       "29    Men  GBR    46   \n",
       "64  Women  GBR    47   \n",
       "50  Women  GBR    33   \n",
       "\n",
       "    proportionsofmenorwomenwhohadevermarriedbyacertainagefor1900birthcohort  \\\n",
       "60                                               83.7                         \n",
       "32                                               92.7                         \n",
       "29                                               92.1                         \n",
       "64                                               84.8                         \n",
       "50                                               76.8                         \n",
       "\n",
       "    proportionsofmenorwomenwhohadevermarriedbyacertainagefor1920birthcohort  \\\n",
       "60                                               91.1                         \n",
       "32                                               91.8                         \n",
       "29                                               91.4                         \n",
       "64                                               91.7                         \n",
       "50                                               86.8                         \n",
       "\n",
       "    proportionsofmenorwomenwhohadevermarriedbyacertainagefor1940birthcohort  \\\n",
       "60                                               95.3                         \n",
       "32                                               92.3                         \n",
       "29                                               92.1                         \n",
       "64                                               95.6                         \n",
       "50                                               93.0                         \n",
       "\n",
       "    proportionsofmenorwomenwhohadevermarriedbyacertainagefor1960birthcohort  \\\n",
       "60                                               86.2                         \n",
       "32                                               81.5                         \n",
       "29                                               80.8                         \n",
       "64                                               87.0                         \n",
       "50                                               81.1                         \n",
       "\n",
       "    proportionsofmenorwomenwhohadevermarriedbyacertainagefor1970birthcohort  \\\n",
       "60                                               73.7                         \n",
       "32                                               70.3                         \n",
       "29                                               68.8                         \n",
       "64                                               75.4                         \n",
       "50                                               63.1                         \n",
       "\n",
       "    proportionsofmenorwomenwhohadevermarriedbyacertainagefor1980birthcohort  \\\n",
       "60                                               63.7                         \n",
       "32                                                NaN                         \n",
       "29                                                NaN                         \n",
       "64                                                NaN                         \n",
       "50                                               49.0                         \n",
       "\n",
       "    proportionsofmenorwomenwhohadevermarriedbyacertainagefor1990birthcohort  \\\n",
       "60                                                NaN                         \n",
       "32                                                NaN                         \n",
       "29                                                NaN                         \n",
       "64                                                NaN                         \n",
       "50                                               38.7                         \n",
       "\n",
       "    proportionsofmenorwomenwhohadevermarriedbyacertainagefor2000birthcohort  \n",
       "60                                                NaN                        \n",
       "32                                                NaN                        \n",
       "29                                                NaN                        \n",
       "64                                                NaN                        \n",
       "50                                                NaN                        "
      ]
     },
     "execution_count": 322,
     "metadata": {},
     "output_type": "execute_result"
    }
   ],
   "source": [
    "df_8['code'] = df_8['code'].fillna('GBR')\n",
    "df_8.sample(5)"
   ]
  },
  {
   "cell_type": "code",
   "execution_count": 323,
   "id": "88bb818e",
   "metadata": {},
   "outputs": [
    {
     "data": {
      "text/html": [
       "<div>\n",
       "<style scoped>\n",
       "    .dataframe tbody tr th:only-of-type {\n",
       "        vertical-align: middle;\n",
       "    }\n",
       "\n",
       "    .dataframe tbody tr th {\n",
       "        vertical-align: top;\n",
       "    }\n",
       "\n",
       "    .dataframe thead th {\n",
       "        text-align: right;\n",
       "    }\n",
       "</style>\n",
       "<table border=\"1\" class=\"dataframe\">\n",
       "  <thead>\n",
       "    <tr style=\"text-align: right;\">\n",
       "      <th></th>\n",
       "      <th>sex</th>\n",
       "      <th>year</th>\n",
       "      <th>1900_birthcohort</th>\n",
       "      <th>1920_birthcohort</th>\n",
       "      <th>1940_birthcohort</th>\n",
       "      <th>1960_birthcohort</th>\n",
       "      <th>1970_birthcohort</th>\n",
       "    </tr>\n",
       "  </thead>\n",
       "  <tbody>\n",
       "    <tr>\n",
       "      <th>23</th>\n",
       "      <td>Men</td>\n",
       "      <td>40</td>\n",
       "      <td>89.6</td>\n",
       "      <td>89.9</td>\n",
       "      <td>91.1</td>\n",
       "      <td>78.0</td>\n",
       "      <td>64.0</td>\n",
       "    </tr>\n",
       "    <tr>\n",
       "      <th>42</th>\n",
       "      <td>Women</td>\n",
       "      <td>25</td>\n",
       "      <td>48.5</td>\n",
       "      <td>61.8</td>\n",
       "      <td>80.6</td>\n",
       "      <td>60.7</td>\n",
       "      <td>35.2</td>\n",
       "    </tr>\n",
       "    <tr>\n",
       "      <th>0</th>\n",
       "      <td>Men</td>\n",
       "      <td>17</td>\n",
       "      <td>0.0</td>\n",
       "      <td>0.0</td>\n",
       "      <td>0.0</td>\n",
       "      <td>0.1</td>\n",
       "      <td>0.0</td>\n",
       "    </tr>\n",
       "    <tr>\n",
       "      <th>13</th>\n",
       "      <td>Men</td>\n",
       "      <td>30</td>\n",
       "      <td>72.9</td>\n",
       "      <td>76.4</td>\n",
       "      <td>83.3</td>\n",
       "      <td>63.9</td>\n",
       "      <td>41.4</td>\n",
       "    </tr>\n",
       "    <tr>\n",
       "      <th>5</th>\n",
       "      <td>Men</td>\n",
       "      <td>22</td>\n",
       "      <td>13.5</td>\n",
       "      <td>16.8</td>\n",
       "      <td>25.8</td>\n",
       "      <td>18.8</td>\n",
       "      <td>6.8</td>\n",
       "    </tr>\n",
       "  </tbody>\n",
       "</table>\n",
       "</div>"
      ],
      "text/plain": [
       "      sex  year  1900_birthcohort  1920_birthcohort  1940_birthcohort  \\\n",
       "23    Men    40              89.6              89.9              91.1   \n",
       "42  Women    25              48.5              61.8              80.6   \n",
       "0     Men    17               0.0               0.0               0.0   \n",
       "13    Men    30              72.9              76.4              83.3   \n",
       "5     Men    22              13.5              16.8              25.8   \n",
       "\n",
       "    1960_birthcohort  1970_birthcohort  \n",
       "23              78.0              64.0  \n",
       "42              60.7              35.2  \n",
       "0                0.1               0.0  \n",
       "13              63.9              41.4  \n",
       "5               18.8               6.8  "
      ]
     },
     "execution_count": 323,
     "metadata": {},
     "output_type": "execute_result"
    }
   ],
   "source": [
    "df_8 = df_8.drop(columns=['code','proportionsofmenorwomenwhohadevermarriedbyacertainagefor1980birthcohort',\n",
    "    'proportionsofmenorwomenwhohadevermarriedbyacertainagefor1990birthcohort',\n",
    "    'proportionsofmenorwomenwhohadevermarriedbyacertainagefor2000birthcohort'])\n",
    "\n",
    "df_8.rename(columns={\n",
    "    \"proportionsofmenorwomenwhohadevermarriedbyacertainagefor1900birthcohort\": \"1900_birthcohort\",\n",
    "    \"proportionsofmenorwomenwhohadevermarriedbyacertainagefor1920birthcohort\": \"1920_birthcohort\",\n",
    "    \"proportionsofmenorwomenwhohadevermarriedbyacertainagefor1940birthcohort\": \"1940_birthcohort\",\n",
    "    \"proportionsofmenorwomenwhohadevermarriedbyacertainagefor1960birthcohort\": \"1960_birthcohort\",\n",
    "    \"proportionsofmenorwomenwhohadevermarriedbyacertainagefor1970birthcohort\": \"1970_birthcohort\",\n",
    "    \"entity\": \"sex\"\n",
    "}, inplace=True)\n",
    "\n",
    "df_8.drop_duplicates(inplace=True)\n",
    "df_8.sample(5)"
   ]
  },
  {
   "cell_type": "code",
   "execution_count": 324,
   "id": "d828c548",
   "metadata": {},
   "outputs": [],
   "source": [
    "#df_8.to_csv(\"cleaned_share-of-women-in-england-and-wales-who-have-ever-married-by-age.csv\", index=False)"
   ]
  },
  {
   "cell_type": "code",
   "execution_count": 325,
   "id": "aca95876",
   "metadata": {},
   "outputs": [],
   "source": [
    "#df_8.to_sql('women_in_england_and_wales_married_by_age', engine, if_exists='replace', index=False)"
   ]
  }
 ],
 "metadata": {
  "kernelspec": {
   "display_name": "py310env",
   "language": "python",
   "name": "python3"
  },
  "language_info": {
   "codemirror_mode": {
    "name": "ipython",
    "version": 3
   },
   "file_extension": ".py",
   "mimetype": "text/x-python",
   "name": "python",
   "nbconvert_exporter": "python",
   "pygments_lexer": "ipython3",
   "version": "3.10.18"
  }
 },
 "nbformat": 4,
 "nbformat_minor": 5
}
