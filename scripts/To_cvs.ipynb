{
 "cells": [
  {
   "cell_type": "code",
   "execution_count": null,
   "id": "cd602b76",
   "metadata": {},
   "outputs": [],
   "source": [
    "df_1.to_csv(\"cleaned_world_marriage.csv\", index=False)"
   ]
  },
  {
   "cell_type": "code",
   "execution_count": null,
   "id": "eda955d7",
   "metadata": {},
   "outputs": [],
   "source": [
    "df_2.to_csv(\"cleaned_age_at_marriage_women.csv\", index=False)"
   ]
  },
  {
   "cell_type": "code",
   "execution_count": null,
   "id": "db2cc576",
   "metadata": {},
   "outputs": [],
   "source": [
    "df_3.to_csv(\"cleaned_marriage-rate-per-1000-inhabitants.csv\", index=False)"
   ]
  },
  {
   "cell_type": "code",
   "execution_count": null,
   "id": "ff937007",
   "metadata": {},
   "outputs": [],
   "source": [
    "df_4.to_csv(\"cleaned_marriage-rates-in-1990-vs-2020.csv\", index=False)"
   ]
  },
  {
   "cell_type": "code",
   "execution_count": null,
   "id": "0c8c92d4",
   "metadata": {},
   "outputs": [],
   "source": [
    "df_5.to_csv(\"cleaned_share-of-births-outside-marriage.csv\", index=False)"
   ]
  }
 ],
 "metadata": {
  "language_info": {
   "name": "python"
  }
 },
 "nbformat": 4,
 "nbformat_minor": 5
}
